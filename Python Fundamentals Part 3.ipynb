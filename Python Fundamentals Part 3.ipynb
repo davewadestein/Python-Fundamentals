{
 "cells": [
  {
   "cell_type": "markdown",
   "metadata": {
    "slideshow": {
     "slide_type": "slide"
    }
   },
   "source": [
    "## Part 3 Agenda\n",
    "* functions\n",
    "  * positional arguments\n",
    "  * keyword arguments\n",
    "  * default arguments\n",
    "  * variable positional arguments\n",
    "  * variable keyword arguments\n",
    "* exception handling\n",
    "* command-line arguments\n",
    "* modules"
   ]
  },
  {
   "cell_type": "markdown",
   "metadata": {
    "slideshow": {
     "slide_type": "subslide"
    }
   },
   "source": [
    "# Functions"
   ]
  },
  {
   "cell_type": "markdown",
   "metadata": {
    "slideshow": {
     "slide_type": "slide"
    }
   },
   "source": [
    "## Functions\n",
    "* __`def`__ introduces a function\n",
    "  * followed by function name, parenthesized list of args and then a colon\n",
    "* body of function is indented"
   ]
  },
  {
   "cell_type": "code",
   "execution_count": null,
   "metadata": {},
   "outputs": [],
   "source": [
    "# a \"do nothing\" function\n",
    "def noop():\n",
    "    pass # Python statement that does nothing"
   ]
  },
  {
   "cell_type": "code",
   "execution_count": null,
   "metadata": {},
   "outputs": [],
   "source": [
    "noop()"
   ]
  },
  {
   "cell_type": "code",
   "execution_count": null,
   "metadata": {},
   "outputs": [],
   "source": [
    "noop(1, 3, 5) # number of arguments needs to be correct!"
   ]
  },
  {
   "cell_type": "code",
   "execution_count": null,
   "metadata": {
    "slideshow": {
     "slide_type": "subslide"
    }
   },
   "outputs": [],
   "source": [
    "def simpfunc(x):\n",
    "    if x == 1:\n",
    "        print('Hey, x is 1')\n",
    "    elif x < 10:\n",
    "        print('x is < 10 and not 1')\n",
    "    else:\n",
    "        print('x >= 10')"
   ]
  },
  {
   "cell_type": "code",
   "execution_count": null,
   "metadata": {},
   "outputs": [],
   "source": [
    "simpfunc(1)"
   ]
  },
  {
   "cell_type": "code",
   "execution_count": null,
   "metadata": {},
   "outputs": [],
   "source": [
    "simpfunc(5)"
   ]
  },
  {
   "cell_type": "code",
   "execution_count": null,
   "metadata": {},
   "outputs": [],
   "source": [
    "simpfunc(15)"
   ]
  },
  {
   "cell_type": "code",
   "execution_count": null,
   "metadata": {},
   "outputs": [],
   "source": [
    "simpfunc(2.4)"
   ]
  },
  {
   "cell_type": "markdown",
   "metadata": {},
   "source": [
    "## __docstring__\n",
    "* a triple-quoted string (comment) which follows the function header\n",
    "* has some special properties..."
   ]
  },
  {
   "cell_type": "code",
   "execution_count": null,
   "metadata": {
    "slideshow": {
     "slide_type": "subslide"
    }
   },
   "outputs": [],
   "source": [
    "def rounder25(amount):\n",
    "    \"\"\"Return amount rounded UP to nearest\n",
    "       quarter dollar.\n",
    "       \n",
    "           ...$1.89 becomes $2.00\n",
    "           ...but $1.00/$1.25/$1.75/etc.\n",
    "           remain unchanged\n",
    "    \"\"\"\n",
    "    dollars = int(amount) # 1\n",
    "    cents = round((amount - dollars) * 100) # 89\n",
    "    quarters = cents // 25 # 3\n",
    "    if cents % 25: # 14\n",
    "        quarters += 1 # 4\n",
    "    amount = dollars + 0.25 * quarters # 2.00\n",
    "\n",
    "    return amount"
   ]
  },
  {
   "cell_type": "markdown",
   "metadata": {
    "slideshow": {
     "slide_type": "subslide"
    }
   },
   "source": [
    "## Functions (cont'd)\n",
    "* __`help(func)`__ prints out formatted docstring\n",
    "* __`func.__doc__`__ prints out raw docstring"
   ]
  },
  {
   "cell_type": "code",
   "execution_count": null,
   "metadata": {
    "scrolled": true
   },
   "outputs": [],
   "source": [
    "help(rounder25)"
   ]
  },
  {
   "cell_type": "code",
   "execution_count": null,
   "metadata": {},
   "outputs": [],
   "source": [
    "print(rounder25.__doc__)"
   ]
  },
  {
   "cell_type": "code",
   "execution_count": null,
   "metadata": {},
   "outputs": [],
   "source": [
    "rounder25(1.89)"
   ]
  },
  {
   "cell_type": "code",
   "execution_count": null,
   "metadata": {},
   "outputs": [],
   "source": [
    "rounder25(1.75)"
   ]
  },
  {
   "cell_type": "markdown",
   "metadata": {
    "slideshow": {
     "slide_type": "subslide"
    }
   },
   "source": [
    "## Functions (cont'd)\n",
    "* if a function doesn’t call return explicitly, the special value __`None`__ is returned\n",
    "* __`None`__ is like __`NULL`__ in other languages\n",
    "* acts like __`False`__...but not the same as __`False`__"
   ]
  },
  {
   "cell_type": "code",
   "execution_count": null,
   "metadata": {},
   "outputs": [],
   "source": [
    "retval = noop()\n",
    "print(retval)"
   ]
  },
  {
   "cell_type": "code",
   "execution_count": null,
   "metadata": {},
   "outputs": [],
   "source": [
    "# None acts like False...\n",
    "if retval:\n",
    "    print('something')\n",
    "else:\n",
    "    print('nothing')"
   ]
  },
  {
   "cell_type": "markdown",
   "metadata": {
    "slideshow": {
     "slide_type": "subslide"
    }
   },
   "source": [
    "## Functions: positional arguments\n",
    "* arguments are passed to functions in order written\n",
    "* downside: you must remember meaning of each position"
   ]
  },
  {
   "cell_type": "code",
   "execution_count": null,
   "metadata": {},
   "outputs": [],
   "source": [
    "def menu(wine, entree, dessert):\n",
    "    return { 'wine': wine, 'entree': entree, \n",
    "            'dessert': dessert }"
   ]
  },
  {
   "cell_type": "markdown",
   "metadata": {},
   "source": [
    "![alt-text](images/IDE.png \"IDE\")\n",
    "* outside an IDE, it can be difficult to remember\n",
    "* if you pass args in wrong order, bad things can happen!"
   ]
  },
  {
   "cell_type": "code",
   "execution_count": null,
   "metadata": {},
   "outputs": [],
   "source": [
    "menu('chianti', 'tartuffo', 'polenta')"
   ]
  },
  {
   "cell_type": "markdown",
   "metadata": {
    "slideshow": {
     "slide_type": "subslide"
    }
   },
   "source": [
    "## Functions: keyword arguments\n",
    "* you may specify arguments by name, in any order\n",
    "* once you specify a keyword argument, all arguments following it must be keyword arguments"
   ]
  },
  {
   "cell_type": "code",
   "execution_count": null,
   "metadata": {},
   "outputs": [],
   "source": [
    "# passing some arguments by keyword\n",
    "menu('chianti', dessert='tartufo', entree='polenta') "
   ]
  },
  {
   "cell_type": "code",
   "execution_count": null,
   "metadata": {},
   "outputs": [],
   "source": [
    "# passing all arguments by keyword\n",
    "menu(dessert='tartufo', entree='polenta', wine='chianti')"
   ]
  },
  {
   "cell_type": "code",
   "execution_count": null,
   "metadata": {},
   "outputs": [],
   "source": [
    "# once you start passing arguments by keyword, the rest must be passed by keyword\n",
    "menu('chianti', dessert='tartufo', 'polenta')"
   ]
  },
  {
   "cell_type": "markdown",
   "metadata": {
    "slideshow": {
     "slide_type": "subslide"
    }
   },
   "source": [
    "## Functions: default arguments"
   ]
  },
  {
   "cell_type": "code",
   "execution_count": null,
   "metadata": {},
   "outputs": [],
   "source": [
    "def menu(wine, entree, dessert='tartufo'):\n",
    "    return { 'wine': wine, 'entree': entree,\n",
    "            'dessert': dessert }"
   ]
  },
  {
   "cell_type": "code",
   "execution_count": null,
   "metadata": {},
   "outputs": [],
   "source": [
    "menu('chardonnay', 'braised tofu')"
   ]
  },
  {
   "cell_type": "code",
   "execution_count": null,
   "metadata": {},
   "outputs": [],
   "source": [
    "menu('chardonnay', dessert='canoli',\n",
    "     entree='fagioli')"
   ]
  },
  {
   "cell_type": "markdown",
   "metadata": {
    "slideshow": {
     "slide_type": "subslide"
    }
   },
   "source": [
    "## Lab: functions\n",
    "* write at least one of these functions, take your pick...\n",
    "  * __`calculate`__ which is passed two operands and an operator and returns the calculated result, e.g., __`calculate(2, 4, '+')`__ would return 6\n",
    "  * Given a string, the function returns True or False whether the string is a pangram\n",
    "  * Given an integer as a parameter, the function sums up its digits. If the resulting sum contains more than 1 digit, the function should sum the digits again, e.g., __`sumdigits(1235)`__ should compute the sum of 1, 2, 3, and 5 (11), then compute the sum of 1 and 1, returning 2.\n",
    "  * Given a number as a parameter and returns a string version of the number with commas representing thousands, e.g., __`add_commas(12345)`__ would return \"12,345\"\n",
    "  * Demonstrate the Collatz Conjecture:\n",
    "    * for integer n > 1\n",
    "      * if n is even, then __`n = n // 2`__\n",
    "      * if n is odd, then __`n = n * 3 + 1`__\n",
    "    * ...will always converge to 1\n",
    "    * your function should take n and keep printing new value of n until n is 1 and then return\n",
    "  * given a 4-digit number where not all digits are the same, demonstrate __Kaprekar's Constant__ <pre>(6174)</pre>\n",
    "    * sort the digits of the number into descending and ascending order...\n",
    "    * then calculate the difference between the two new numbers\n",
    "    * keep doing the above until you get to 6174 (you always will)\n",
    "    * e.g., starting with the number 8991:\n",
    "    <br/><br/>\n",
    "    <pre>\n",
    "      9981 – 1899 = 8082\n",
    "      8820 – 0288 = 8532\n",
    "      8532 – 2358 = 6174\n",
    "      7641 – 1467 = 6174\n",
    "    </pre>\n"
   ]
  },
  {
   "cell_type": "markdown",
   "metadata": {
    "slideshow": {
     "slide_type": "subslide"
    }
   },
   "source": [
    "## Variable Positional Arguments\n",
    "* sometimes we want a function which takes a variable number of arguments (e.g., builtin __`print()`__ function)"
   ]
  },
  {
   "cell_type": "code",
   "execution_count": null,
   "metadata": {},
   "outputs": [],
   "source": [
    "def func(*args): # func takes 0 or more arguments\n",
    "    print(args)"
   ]
  },
  {
   "cell_type": "code",
   "execution_count": null,
   "metadata": {},
   "outputs": [],
   "source": [
    "def func(*args): # func takes 0 or more arguments\n",
    "    print(args)\n",
    "    for index, arg in enumerate(args):\n",
    "        print('arg', index, 'is', arg)"
   ]
  },
  {
   "cell_type": "code",
   "execution_count": null,
   "metadata": {},
   "outputs": [],
   "source": [
    "func()"
   ]
  },
  {
   "cell_type": "code",
   "execution_count": null,
   "metadata": {},
   "outputs": [],
   "source": [
    "func(3, 4, 5, [2, 2, 3], {}, 'string')"
   ]
  },
  {
   "cell_type": "code",
   "execution_count": null,
   "metadata": {},
   "outputs": [],
   "source": [
    "func({ 'a': 'b'}, [1, 2, 3], 'this', True)"
   ]
  },
  {
   "cell_type": "markdown",
   "metadata": {
    "slideshow": {
     "slide_type": "subslide"
    }
   },
   "source": [
    "## Lab: Variable Positional Arguments\n",
    "* write a function called __`product`__ which accepts a variable number of arguments and returns the product of all of its args. With no args, __`product()`__ should return 1    \n",
    "\n",
    "<pre><b>\n",
    ">>> product(3, 5)\n",
    "15\n",
    ">>> product(1, 2, 3)\n",
    "6\n",
    ">>> product(63, 12, 3, 0, 9)\n",
    "0\n",
    ">>> product()\n",
    "1\n",
    "</b></pre>"
   ]
  },
  {
   "cell_type": "markdown",
   "metadata": {
    "slideshow": {
     "slide_type": "subslide"
    }
   },
   "source": [
    "## Variable Keyword Arguments\n",
    "* what if a function needs a bunch of configuration options, having default values which typically aren't overridden?\n",
    "  * one way to do this would be to have the function accept a dict in which these value(s) can be specified\n",
    "  * better way is to use variable keywords arguments"
   ]
  },
  {
   "cell_type": "code",
   "execution_count": null,
   "metadata": {},
   "outputs": [],
   "source": [
    "def vka(**kwargs):\n",
    "    print(kwargs)\n",
    "    for key in kwargs:\n",
    "        print(key, '=>', kwargs[key])"
   ]
  },
  {
   "cell_type": "code",
   "execution_count": null,
   "metadata": {},
   "outputs": [],
   "source": [
    "vka(sep='+', foo='bar', whizbang='rotunda', x=5, debug='hello', color='pink')"
   ]
  },
  {
   "cell_type": "code",
   "execution_count": null,
   "metadata": {},
   "outputs": [],
   "source": [
    "def weird_func(x, y, z, *args, **kwargs):\n",
    "    print('req args:', x, y, z)\n",
    "    print('var pos args', args)\n",
    "    print('var keywd args', kwargs)\n",
    "    if 'debug' in kwargs:\n",
    "        if kwargs['debug'] == True: # because it could be false\n",
    "            turn_on_debugging = True\n",
    "            # utilize some of *args..."
   ]
  },
  {
   "cell_type": "code",
   "execution_count": null,
   "metadata": {},
   "outputs": [],
   "source": [
    "def weird_func(x, y, z, debug_file=None, debug=False):\n",
    "    print('req args:', x, y, z)\n",
    "    print('var pos args', args)\n",
    "    print('var keywd args', kwargs)"
   ]
  },
  {
   "cell_type": "markdown",
   "metadata": {
    "slideshow": {
     "slide_type": "subslide"
    }
   },
   "source": [
    "## Lab: Variable Keyword Arguments\n",
    "* modify the function (or functions) you wrote by adding variable keywords arguments to it/them\n",
    "  * e.g., for __calculate__, you could add __`float=True`__, which causes the calculation to be done as floating point, rather than integer\n",
    "<pre><b>\n",
    "calculate(2, 4, '+') = 6\n",
    "calculate(3, 2, '/', float=True) = 1.5\n",
    "</b></pre>\n",
    "  * e.g., for __Kaprekar__ you might have a keyword argument __`return_vals=True`__ which returns the intermediate values, rather than printing them (__`[8991, 8082, 8532, 6174]`__)"
   ]
  },
  {
   "cell_type": "markdown",
   "metadata": {},
   "source": [
    "## Functions: recap\n",
    "* Python encourages functions which support lots of arguments with default values\n",
    "* \"Explicit is better than implicit\"\n",
    "  * arguments can be passed out of order ONLY if they're passed by keyword\n",
    "  * keywords are more explicit than positions because the function call documents the purpose of its arguments\n",
    "* variable positional args (__`*args`__)\n",
    "* variable keyword args (__`**kwargs`__)"
   ]
  },
  {
   "cell_type": "markdown",
   "metadata": {
    "slideshow": {
     "slide_type": "subslide"
    }
   },
   "source": [
    "## Exceptions\n",
    "* errors detected during execution are called exceptions\n",
    "* exceptions are \"thrown\" and either \"caught\" by an exception handler, or propagated upward\n",
    "* \"…exceptions create hidden control-flow paths that are difficult for programmers to reason about\" –Weimer & Necula, \"Exceptional Situations and Program Reliability\"\n",
    "* ...but they are also Pythonic"
   ]
  },
  {
   "cell_type": "code",
   "execution_count": null,
   "metadata": {
    "slideshow": {
     "slide_type": "subslide"
    }
   },
   "outputs": [],
   "source": [
    "mylist = [1, 5, 10]\n",
    "mylist[1]"
   ]
  },
  {
   "cell_type": "code",
   "execution_count": null,
   "metadata": {},
   "outputs": [],
   "source": [
    "mylist[5]"
   ]
  },
  {
   "cell_type": "code",
   "execution_count": null,
   "metadata": {},
   "outputs": [],
   "source": [
    "int('x')"
   ]
  },
  {
   "cell_type": "markdown",
   "metadata": {
    "slideshow": {
     "slide_type": "subslide"
    }
   },
   "source": [
    "![alt-text](images/exceptions.png \"exceptions\")\n"
   ]
  },
  {
   "cell_type": "markdown",
   "metadata": {
    "slideshow": {
     "slide_type": "subslide"
    }
   },
   "source": [
    "## Exceptions: __`try/except`__\n",
    "* __`try`__ block wraps code which may throw an exception, and __`except`__ block catches exception"
   ]
  },
  {
   "cell_type": "code",
   "execution_count": null,
   "metadata": {
    "slideshow": {
     "slide_type": "subslide"
    }
   },
   "outputs": [],
   "source": [
    "try:\n",
    "    mylist[5] # could throw an IndexError\n",
    "except:\n",
    "    print('no element at offset 5')\n",
    "    # cleanup, reset, ...\n",
    "    \n",
    "print('rest of program')"
   ]
  },
  {
   "cell_type": "markdown",
   "metadata": {},
   "source": [
    "* problem? above example catches ALL exceptions, not just __`IndexError`__ we are expecting\n",
    "* best practice is to catch expected exceptions and let unexpected ones through, so as to avoid hidden errors"
   ]
  },
  {
   "cell_type": "code",
   "execution_count": null,
   "metadata": {
    "slideshow": {
     "slide_type": "subslide"
    }
   },
   "outputs": [],
   "source": [
    "try:\n",
    "    print(mylist[1]) # could throw an IndexError\n",
    "    int('a')\n",
    "except IndexError:\n",
    "    print('Bad index! Try again!')\n",
    "except Exception as uhoh: # put the exception into the variable uhoh\n",
    "    print('Some other exception:', uhoh, type(uhoh))"
   ]
  },
  {
   "cell_type": "code",
   "execution_count": null,
   "metadata": {
    "slideshow": {
     "slide_type": "subslide"
    }
   },
   "outputs": [],
   "source": [
    "short_list = ['zero', 'one', 'two']\n",
    "\n",
    "while True:\n",
    "    value = input('Enter numeric index [q to quit]? ')\n",
    "    if value == 'q':\n",
    "        break\n",
    "    try:\n",
    "        position = int(value) # they could enter a non-int\n",
    "        print(short_list[position]) # fall off the list... \n",
    "    except IndexError:\n",
    "        print('Bad index:', value)\n",
    "    except ValueError:\n",
    "        print('Follow directions!')\n",
    "    except Exception as other:\n",
    "        print('Something else broke:', other, type(other))"
   ]
  },
  {
   "cell_type": "markdown",
   "metadata": {
    "slideshow": {
     "slide_type": "subslide"
    }
   },
   "source": [
    "## Lab: Exceptions\n",
    "* modify all of your functions to include exception handlers as needed, e.g.,\n",
    " * __`calculate()`__ should catch the __`ZeroDivisionError`__ exception and print an informative message if the user tries to divide by zero\n",
    " * __`sumdigits()`__ should not crash due to non-digits\n",
    " * also take this time to add _docstrings_ if you haven't already\n"
   ]
  },
  {
   "cell_type": "markdown",
   "metadata": {
    "slideshow": {
     "slide_type": "subslide"
    }
   },
   "source": [
    "## Exceptions (cont'd)\n",
    "* important to minimize size of try block\n"
   ]
  },
  {
   "cell_type": "code",
   "execution_count": null,
   "metadata": {},
   "outputs": [],
   "source": [
    "# pseudocode\n",
    "try:\n",
    "    dangerous_call() # presumably could throw an exception\n",
    "    after_call() # this can't throw an exception\n",
    "except OS_Error:\n",
    "    log('...')"
   ]
  },
  {
   "cell_type": "markdown",
   "metadata": {},
   "source": [
    "* after_call() will only run if dangerous_call() doesn't throw an exception…So what's the problem?"
   ]
  },
  {
   "cell_type": "code",
   "execution_count": null,
   "metadata": {
    "slideshow": {
     "slide_type": "-"
    }
   },
   "outputs": [],
   "source": [
    "# pseudocode\n",
    "try:\n",
    "    dangerous_call()\n",
    "except OS_Error:\n",
    "    log('...')\n",
    "else:\n",
    "    after_call()"
   ]
  },
  {
   "cell_type": "markdown",
   "metadata": {},
   "source": [
    "* now it’s clear that try block is guarding against possible errors in __`dangerous_call()`__, not in __`after_call()`__ it’s also more obvious that __`after_call()`__ will only execute if no exceptions are raised in the try block"
   ]
  },
  {
   "cell_type": "markdown",
   "metadata": {
    "slideshow": {
     "slide_type": "subslide"
    }
   },
   "source": [
    "## __The `finally` Block__\n",
    "* code in the finally block will be executed whether or not an exception is thrown"
   ]
  },
  {
   "cell_type": "code",
   "execution_count": null,
   "metadata": {},
   "outputs": [],
   "source": [
    "def func():\n",
    "    try:\n",
    "        i = int(input('\\nEnter a number: ')) # ValueError?\n",
    "        x = 1 / i # ZeroDivisionError?\n",
    "    except ValueError:\n",
    "        print('Not a number!')\n",
    "    except ZeroDivisionError:\n",
    "        print('Cannot divide by 0')\n",
    "    else:\n",
    "        print('Everything OK')\n",
    "    finally:\n",
    "        print('FINALLY: DO this either way!')\n",
    "\n",
    "func(), func(), func()"
   ]
  },
  {
   "cell_type": "markdown",
   "metadata": {
    "slideshow": {
     "slide_type": "subslide"
    }
   },
   "source": [
    "## Lab: Exceptions\n",
    "* extend any __`try/except`__ to __`try/except/else`__\n",
    "* if you can use a __`finally`__ block, even better"
   ]
  },
  {
   "cell_type": "markdown",
   "metadata": {
    "slideshow": {
     "slide_type": "slide"
    }
   },
   "source": [
    "## Command-Line Arguments"
   ]
  },
  {
   "cell_type": "code",
   "execution_count": null,
   "metadata": {
    "slideshow": {
     "slide_type": "subslide"
    }
   },
   "outputs": [],
   "source": [
    "# try this outside of Jupyter\n",
    "import sys\n",
    "print('Program arguments', sys.argv)"
   ]
  },
  {
   "cell_type": "code",
   "execution_count": null,
   "metadata": {},
   "outputs": [],
   "source": [
    "import sys\n",
    "for idx, arg in enumerate(sys.argv):\n",
    "    print(f\"arg {idx} is {arg}\")"
   ]
  },
  {
   "cell_type": "markdown",
   "metadata": {
    "slideshow": {
     "slide_type": "subslide"
    }
   },
   "source": [
    "## Lab: Command-Line Arguments\n",
    "* turn your function(s) into standalone programs which takes 3 command line arguments and invokes your function(s) with those arguments\n",
    "* here is an example of invoking the __`calculate`__ function from the command line"
   ]
  },
  {
   "cell_type": "code",
   "execution_count": null,
   "metadata": {},
   "outputs": [],
   "source": [
    "# %run is a \"line magic\" that tells Jupyter to run\n",
    "# the rest of the line in bash via python3\n",
    "%run calculate_argv.py 2 5 +"
   ]
  },
  {
   "cell_type": "code",
   "execution_count": null,
   "metadata": {},
   "outputs": [],
   "source": [
    "# '!python3' is a synonym for %run\n",
    "!python3 calculate_argv.py 2 7 -"
   ]
  },
  {
   "cell_type": "markdown",
   "metadata": {
    "slideshow": {
     "slide_type": "slide"
    }
   },
   "source": [
    "# Modules\n",
    "* files of Python code which \"expose\" functions, data, and objects"
   ]
  },
  {
   "cell_type": "code",
   "execution_count": null,
   "metadata": {},
   "outputs": [],
   "source": [
    "x = 5\n",
    "print(dir())"
   ]
  },
  {
   "cell_type": "code",
   "execution_count": null,
   "metadata": {},
   "outputs": [],
   "source": [
    "import os\n",
    "print(dir())"
   ]
  },
  {
   "cell_type": "code",
   "execution_count": null,
   "metadata": {},
   "outputs": [],
   "source": [
    "os.name"
   ]
  },
  {
   "cell_type": "code",
   "execution_count": null,
   "metadata": {},
   "outputs": [],
   "source": [
    "os.getlogin()"
   ]
  },
  {
   "cell_type": "code",
   "execution_count": null,
   "metadata": {},
   "outputs": [],
   "source": [
    "import os\n",
    "help(os.getlogin)\n",
    "dir(os)"
   ]
  },
  {
   "cell_type": "markdown",
   "metadata": {
    "slideshow": {
     "slide_type": "subslide"
    }
   },
   "source": [
    "## Two Ways to Import Modules\n",
    "* __`import module`__\n",
    "* __`from module import something`__\n",
    "  * __`from module import *`__\n",
    " \n",
    "* imported stuff can be renamed\n",
    "<pre><b>\n",
    "import numpy as np\n",
    "from sys import argv as foo\n",
    "</b></pre>"
   ]
  },
  {
   "cell_type": "markdown",
   "metadata": {
    "slideshow": {
     "slide_type": "subslide"
    }
   },
   "source": [
    "## Modules: from vs. import"
   ]
  },
  {
   "cell_type": "code",
   "execution_count": null,
   "metadata": {},
   "outputs": [],
   "source": [
    "# This is a module\n",
    "# It lives in the file mymodule.py\n",
    "\n",
    "def dummy():\n",
    "    return 45\n",
    "\n",
    "def foo():\n",
    "    print('bar!')\n",
    "    return 1\n",
    "\n",
    "public_data = \"public stuff!\"\n",
    "# names that begin with _ are considered \"private\"\n",
    "_private_data = \"private stuff!\""
   ]
  },
  {
   "cell_type": "code",
   "execution_count": null,
   "metadata": {},
   "outputs": [],
   "source": [
    "# when we import using this syntax\n",
    "from mymodule import *"
   ]
  },
  {
   "cell_type": "code",
   "execution_count": null,
   "metadata": {},
   "outputs": [],
   "source": [
    "# ...all data is added to our \"namespace\" except for private data\n",
    "print(dir())"
   ]
  },
  {
   "cell_type": "code",
   "execution_count": null,
   "metadata": {},
   "outputs": [],
   "source": [
    "# ...but that's not the case if we use the other syntax\n",
    "import mymodule"
   ]
  },
  {
   "cell_type": "code",
   "execution_count": null,
   "metadata": {},
   "outputs": [],
   "source": [
    "print(dir())"
   ]
  },
  {
   "cell_type": "code",
   "execution_count": null,
   "metadata": {},
   "outputs": [],
   "source": [
    "mymodule.public_data"
   ]
  },
  {
   "cell_type": "code",
   "execution_count": null,
   "metadata": {},
   "outputs": [],
   "source": [
    "mymodule._private_data"
   ]
  },
  {
   "cell_type": "markdown",
   "metadata": {
    "slideshow": {
     "slide_type": "subslide"
    }
   },
   "source": [
    "## Lab: Modules\n",
    "* take your program(s) above and split it/them into two files: a module which contains the function, and a main program which imports that module and invokes the function"
   ]
  },
  {
   "cell_type": "markdown",
   "metadata": {
    "slideshow": {
     "slide_type": "subslide"
    }
   },
   "source": [
    "## Modules: Recap\n",
    "* modules are just files of Python code\n",
    "* two ways to import: __`from module import stuff`__ and __`import module`__\n",
    "* don't use __`from module import *`__ except for testing\n",
    "* private data is not really private!\n",
    "* packages are directories containing one or more Python modules"
   ]
  },
  {
   "cell_type": "markdown",
   "metadata": {
    "slideshow": {
     "slide_type": "slide"
    }
   },
   "source": [
    "# Developer Modules"
   ]
  },
  {
   "cell_type": "markdown",
   "metadata": {
    "slideshow": {
     "slide_type": "subslide"
    }
   },
   "source": [
    "## The __`os`__ module\n",
    "* operating system stuff\n",
    "* i.e., dealing with files, directories, etc.\n",
    "* also running commands outside of Python"
   ]
  },
  {
   "cell_type": "code",
   "execution_count": null,
   "metadata": {},
   "outputs": [],
   "source": [
    "import os\n",
    "os.system('ls') # doesn't print anything in the notebook, \n",
    "# but try it in Python shell"
   ]
  },
  {
   "cell_type": "code",
   "execution_count": null,
   "metadata": {},
   "outputs": [],
   "source": [
    "os.system('touch newfile')\n",
    "os.system('ls newfile')"
   ]
  },
  {
   "cell_type": "code",
   "execution_count": null,
   "metadata": {},
   "outputs": [],
   "source": [
    "# get the current working directory\n",
    "os.getcwd()"
   ]
  },
  {
   "cell_type": "code",
   "execution_count": null,
   "metadata": {},
   "outputs": [],
   "source": [
    "# Does the file 'newfile' exist?\n",
    "os.path.exists('newfile')"
   ]
  },
  {
   "cell_type": "code",
   "execution_count": null,
   "metadata": {},
   "outputs": [],
   "source": [
    "# create a directory\n",
    "os.mkdir('newdir')"
   ]
  },
  {
   "cell_type": "code",
   "execution_count": null,
   "metadata": {},
   "outputs": [],
   "source": [
    "# is 'newdir' a file?\n",
    "os.path.isfile('newdir')"
   ]
  },
  {
   "cell_type": "code",
   "execution_count": null,
   "metadata": {},
   "outputs": [],
   "source": [
    "#is 'newdir' a directory?\n",
    "os.path.isdir('newdir')"
   ]
  },
  {
   "cell_type": "markdown",
   "metadata": {
    "slideshow": {
     "slide_type": "subslide"
    }
   },
   "source": [
    "## The __`sys`__ module\n",
    "* system-specific parameters and functions\n",
    "* we've already seen some examples, __`argv`__ and __`path`__"
   ]
  },
  {
   "cell_type": "code",
   "execution_count": null,
   "metadata": {},
   "outputs": [],
   "source": [
    "import sys\n",
    "sys.path"
   ]
  },
  {
   "cell_type": "code",
   "execution_count": null,
   "metadata": {},
   "outputs": [],
   "source": [
    "sys.maxsize"
   ]
  },
  {
   "cell_type": "code",
   "execution_count": null,
   "metadata": {},
   "outputs": [],
   "source": [
    "2 ** 63 - 1"
   ]
  },
  {
   "cell_type": "code",
   "execution_count": null,
   "metadata": {},
   "outputs": [],
   "source": [
    "# To exit a Python script, use sys.exit()\n",
    "# Won't work here, because we're in the notebook\n",
    "sys.exit(0)"
   ]
  },
  {
   "cell_type": "markdown",
   "metadata": {
    "slideshow": {
     "slide_type": "subslide"
    }
   },
   "source": [
    "# __`shutil`__ module\n",
    "* shell utilities\n",
    "* e.g., high-level file operations (platform independent)"
   ]
  },
  {
   "cell_type": "code",
   "execution_count": null,
   "metadata": {
    "scrolled": true
   },
   "outputs": [],
   "source": [
    "import os\n",
    "print(os.system('ls newfileCopy'))\n",
    "import subprocess\n",
    "subprocess.getoutput('ls newFileCopy')"
   ]
  },
  {
   "cell_type": "code",
   "execution_count": null,
   "metadata": {},
   "outputs": [],
   "source": [
    "import shutil\n",
    "# create a copy of a file\n",
    "shutil.copy('newfile', 'newfileCopy')\n",
    "# os.system('cp newfile newfileCopy')"
   ]
  },
  {
   "cell_type": "code",
   "execution_count": null,
   "metadata": {},
   "outputs": [],
   "source": [
    "os.path.exists('newfileCopy')"
   ]
  },
  {
   "cell_type": "code",
   "execution_count": null,
   "metadata": {},
   "outputs": [],
   "source": [
    "shutil.move('newfileCopy', 'newerfile')"
   ]
  },
  {
   "cell_type": "code",
   "execution_count": null,
   "metadata": {},
   "outputs": [],
   "source": [
    "os.path.exists('newerfile')"
   ]
  },
  {
   "cell_type": "markdown",
   "metadata": {
    "slideshow": {
     "slide_type": "subslide"
    }
   },
   "source": [
    "## __`glob`__ module\n",
    "* __`glob()`__ function matches file or directory names using Linux shell rules rather than regular expression syntax"
   ]
  },
  {
   "cell_type": "code",
   "execution_count": null,
   "metadata": {},
   "outputs": [],
   "source": [
    "import glob\n",
    "glob.glob('n*')"
   ]
  },
  {
   "cell_type": "code",
   "execution_count": null,
   "metadata": {},
   "outputs": [],
   "source": [
    "glob.glob('*e')"
   ]
  },
  {
   "cell_type": "code",
   "execution_count": null,
   "metadata": {},
   "outputs": [],
   "source": [
    "glob.glob('???')"
   ]
  },
  {
   "cell_type": "code",
   "execution_count": null,
   "metadata": {},
   "outputs": [],
   "source": [
    "import subprocess\n",
    "subprocess.getoutput('touch abc')"
   ]
  },
  {
   "cell_type": "code",
   "execution_count": null,
   "metadata": {},
   "outputs": [],
   "source": [
    "glob.glob('???')"
   ]
  },
  {
   "cell_type": "markdown",
   "metadata": {
    "slideshow": {
     "slide_type": "subslide"
    }
   },
   "source": [
    "## subprocess module\n",
    "* supplants __`os.system()/os.spawn()`__, both of which used to be standard way to run programs outside of Python"
   ]
  },
  {
   "cell_type": "code",
   "execution_count": null,
   "metadata": {},
   "outputs": [],
   "source": [
    "import subprocess\n",
    "ret = subprocess.getoutput('date')\n",
    "ret"
   ]
  },
  {
   "cell_type": "code",
   "execution_count": null,
   "metadata": {},
   "outputs": [],
   "source": [
    "ret = subprocess.getoutput('ls')\n",
    "ret"
   ]
  },
  {
   "cell_type": "code",
   "execution_count": null,
   "metadata": {},
   "outputs": [],
   "source": [
    "print(ret)"
   ]
  }
 ],
 "metadata": {
  "celltoolbar": "Slideshow",
  "kernelspec": {
   "display_name": "Python 3 (ipykernel)",
   "language": "python",
   "name": "python3"
  },
  "language_info": {
   "codemirror_mode": {
    "name": "ipython",
    "version": 3
   },
   "file_extension": ".py",
   "mimetype": "text/x-python",
   "name": "python",
   "nbconvert_exporter": "python",
   "pygments_lexer": "ipython3",
   "version": "3.9.12"
  }
 },
 "nbformat": 4,
 "nbformat_minor": 4
}
