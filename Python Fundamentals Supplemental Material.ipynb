{
 "cells": [
  {
   "cell_type": "markdown",
   "id": "e28da91b-e9cd-4a2e-b17d-6aee5c9e322b",
   "metadata": {},
   "source": [
    "# Loops may have an optional \"else\" clause\n",
    "* __`else`__ is executed if loop terminates normally (i.e., no __`break`__)"
   ]
  },
  {
   "cell_type": "code",
   "execution_count": null,
   "id": "44c8bf5f-f97e-4a58-8e2d-ef587f681d86",
   "metadata": {},
   "outputs": [],
   "source": [
    "import random # \"batteries included\"\n",
    "\n",
    "my_number = random.randint(1, 100)\n",
    "guess = 0 \n",
    "# loop until...?\n",
    "\n",
    "while guess != my_number:\n",
    "    guess = int(input('Enter your guess (0 to give up): '))\n",
    "    if guess == 0:\n",
    "        print(\"Sorry that you're giving up!\")\n",
    "        break # abnormal termination\n",
    "    elif guess > my_number:\n",
    "        print(\"Guess was too high\")\n",
    "    elif guess < my_number:\n",
    "        print(\"Guess was too low\")        \n",
    "else:\n",
    "    print(\"Congratulations. You guessed it!\")\n",
    "# break would put us here"
   ]
  },
  {
   "cell_type": "code",
   "execution_count": null,
   "id": "855e7533-74a4-42cb-999a-ebaa9a6f82e3",
   "metadata": {},
   "outputs": [],
   "source": []
  },
  {
   "cell_type": "markdown",
   "id": "b02a54e8-efc2-4ee1-8958-c3358fe5a5c0",
   "metadata": {
    "slideshow": {
     "slide_type": "slide"
    },
    "tags": []
   },
   "source": [
    "# Regular Expressions\n",
    "* special sequence of characters that helps you find specific text sequences in strings, files, etc.\n",
    "* \"wildcard\" characters take the place of a group of characters"
   ]
  },
  {
   "cell_type": "code",
   "execution_count": null,
   "id": "d1636195-a209-480a-b44f-4949da256e4c",
   "metadata": {},
   "outputs": [],
   "source": [
    "import re\n",
    "re.match('a.*a', 'alphabet')"
   ]
  },
  {
   "cell_type": "code",
   "execution_count": null,
   "id": "782c1d99-8f36-4ca3-b3de-08de5bdbb40e",
   "metadata": {},
   "outputs": [],
   "source": [
    "re.match('h.*t', 'alphabet')"
   ]
  },
  {
   "cell_type": "code",
   "execution_count": null,
   "id": "28b54e5a-e268-4236-a8d5-6e459d8e1e78",
   "metadata": {},
   "outputs": [],
   "source": [
    "re.search('h.*t', 'alphabet')"
   ]
  },
  {
   "cell_type": "code",
   "execution_count": null,
   "id": "8f3e5ff0-5cda-450e-926c-1224f9bc5d16",
   "metadata": {
    "tags": []
   },
   "outputs": [],
   "source": [
    "re.search('a.*z', 'alphabet')"
   ]
  },
  {
   "cell_type": "code",
   "execution_count": null,
   "id": "1899bb94-3b09-448b-aaeb-d3b72db256e2",
   "metadata": {
    "tags": []
   },
   "outputs": [],
   "source": [
    "# you can search for fixed strings, rather than using wildcards...\n",
    "import re\n",
    "linenum = 0\n",
    "\n",
    "for line in open('poem.txt'): # sloppily\n",
    "    linenum += 1\n",
    "    if re.search('the', line):\n",
    "        print(f'{linenum}: {re.sub(\"the\", \"---\", line)}', end='')"
   ]
  },
  {
   "cell_type": "code",
   "execution_count": null,
   "id": "a1477c95-4f47-4706-bcd4-3c2130413349",
   "metadata": {},
   "outputs": [],
   "source": [
    "!cat poem.txt"
   ]
  },
  {
   "cell_type": "markdown",
   "id": "bb9f677d-0a42-4071-a25c-b641aad3c0e7",
   "metadata": {
    "slideshow": {
     "slide_type": "subslide"
    }
   },
   "source": [
    "## RE Metacharacters\n",
    "<pre><b>\n",
    ". = any character except newline\n",
    "^ = beginning of line/string\n",
    "$ = end of line/string\n",
    "* = 0+ of the preceding RE\n",
    "+ = 1+ of the preceding RE\n",
    "? = 0 or 1 instances of preceding RE\n",
    "{n} = exactly n instances of the preceding RE\n",
    "[] = match character set or range, e.g., [aeiou], [a-z], etc.\n",
    "(…) = matches the RE inside the parens, and creates a group \n",
    "</b></pre>\n",
    "\n",
    "Let's try some of these using http://regex101.com "
   ]
  },
  {
   "cell_type": "code",
   "execution_count": null,
   "id": "9f1b9083-cd53-4aa5-b8c2-906fb9c961e9",
   "metadata": {},
   "outputs": [],
   "source": [
    "import re\n",
    "o = re.search('l.*e', 'alphabet')\n",
    "o.re"
   ]
  },
  {
   "cell_type": "code",
   "execution_count": null,
   "id": "5d79ce3a-087e-439b-bfc1-e951a721bfa6",
   "metadata": {},
   "outputs": [],
   "source": [
    "o.re.pattern"
   ]
  },
  {
   "cell_type": "code",
   "execution_count": null,
   "id": "0057c638-6a19-477f-b5f2-7e3bc39a6b17",
   "metadata": {},
   "outputs": [],
   "source": [
    "o.string"
   ]
  },
  {
   "cell_type": "code",
   "execution_count": null,
   "id": "9a2a5f3a-f135-4c47-bbe5-ccd41ec93f2e",
   "metadata": {},
   "outputs": [],
   "source": [
    "o.start(), o.end()"
   ]
  },
  {
   "cell_type": "code",
   "execution_count": null,
   "id": "0e1042fd-47e2-4cb6-b7ec-7dd892a024e6",
   "metadata": {},
   "outputs": [],
   "source": [
    "o.string[o.start():o.end()]"
   ]
  },
  {
   "cell_type": "markdown",
   "id": "720a6d77-7a75-415c-a825-6b291b62f052",
   "metadata": {
    "slideshow": {
     "slide_type": "subslide"
    }
   },
   "source": [
    "## Lab: Write a Cheap Imitation of __`grep`__ in Python\n",
    "* write a Python program which takes two command line arguments, a filename and a regex pattern\n",
    "* your program should act like __`grep`__ in that it should search for the pattern in each line of the file\n",
    "* if the pattern matches a given line, print out the line"
   ]
  },
  {
   "cell_type": "markdown",
   "id": "d71b6fed-cca9-4a5c-98b3-b6e9d452bd29",
   "metadata": {
    "jp-MarkdownHeadingCollapsed": true,
    "slideshow": {
     "slide_type": "subslide"
    },
    "tags": []
   },
   "source": [
    "## Lab: Pluralization\n",
    "* write a program (or function) which takes a word as a command line argument and outputs the plural of that word\n",
    "* your program should follow these rules:\n",
    "  * if the word ends in 's', 'x', or 'z', the plural adds 'es', e.g., ax => axes, loss => losses\n",
    "  * if the word ends in an 'h', which is not preceded by a vowel or 'd', 'g', 'k', 'p', 'r', or 't', the plural adds 'es', ",
    "e.g., moth => moths, but match => matches\n",
    "  * if the word ends in a 'y' which is not preceded by a vowel, then the plural strips the 'y' and adds 'ies', ",
    "e.g., baby => babies, but boy => boys\n",
    "  * otherwise just add 's'"
   ]
  },
  {
   "cell_type": "markdown",
   "id": "93b887d4-69d3-49be-86cc-0f926358f86a",
   "metadata": {
    "slideshow": {
     "slide_type": "subslide"
    },
    "tags": []
   },
   "source": [
    "## Pass-by-value or Pass-by-reference?\n",
    "* neither!\n",
    "* both!\n",
    "* Python is __\"pass by assignment\"__"
   ]
  },
  {
   "cell_type": "code",
   "execution_count": 1,
   "id": "72f78fc6-7324-4f2e-9afe-c94509807d9c",
   "metadata": {},
   "outputs": [],
   "source": [
    "def func(thing):\n",
    "    thing.append('new')\n",
    "    thing = [4, 5, 6]\n",
    "    print('in func, thing is', thing)"
   ]
  },
  {
   "cell_type": "code",
   "execution_count": 4,
   "id": "ab9fbaa8-0e75-4ac2-a4b2-3c0dab7ad7ca",
   "metadata": {},
   "outputs": [
    {
     "name": "stdout",
     "output_type": "stream",
     "text": [
      "in func, thing is [4, 5, 6]\n",
      "but back in the main program, it's [1, 2, 3, 'new']\n"
     ]
    }
   ],
   "source": [
    "mylist = [1, 2, 3]\n",
    "func(mylist)\n",
    "print(\"but back in the main program, it's\", mylist)"
   ]
  },
  {
   "cell_type": "code",
   "execution_count": null,
   "id": "24c7aa2d-a378-4eaa-8e48-b7b65fe016f6",
   "metadata": {},
   "outputs": [],
   "source": []
  }
 ],
 "metadata": {
  "kernelspec": {
   "display_name": "Python 3 (ipykernel)",
   "language": "python",
   "name": "python3"
  },
  "language_info": {
   "codemirror_mode": {
    "name": "ipython",
    "version": 3
   },
   "file_extension": ".py",
   "mimetype": "text/x-python",
   "name": "python",
   "nbconvert_exporter": "python",
   "pygments_lexer": "ipython3",
   "version": "3.9.12"
  }
 },
 "nbformat": 4,
 "nbformat_minor": 5
}
