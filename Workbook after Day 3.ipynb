{
 "cells": [
  {
   "cell_type": "markdown",
   "id": "7efffcb0-ff1e-4512-ab67-9d1728f4f4d0",
   "metadata": {},
   "source": [
    "# Important things about Python\n",
    "* everything in Python is an object\n",
    "  * every thing in Python sits in memory and can be inspected\n",
    "* Python is dynamically typed\n",
    "  * we don't declare our variables before we use them\n",
    "  * we are not restricted in terms of the type of data we put into that variable, even after there's in it\n",
    "  * when calling a function, we are not directly restricted as to the type of the parameters we send in\n",
    "    * Python itself does not have a mechanism by which we can say \"this parameter must be a certain type\"\n",
    "* Python practices \"duck typing\"\n",
    "  * \"If it walks like a duck, and it quacks like a duck, I'm going to call it duck\"\n",
    "    * Python functions may not expect a certain type to be passed in, and instead they expect a certain behavior or functionality\n",
    "* Python's raison d'être (1991) was/is to manipulate text/files\n",
    "  * reaction to Perl (write-only language)\n",
    "  * Guido made some choices that make things easier for us\n",
    "    * use single or double quotes for strings\n",
    "* str()/bool() always succeed\n",
    "  * int()/float() don't always succed\n",
    "* basic types: int, float, bool, str\n",
    "* scalar/simple types vs. containers\n",
    "  * container can hold (\"contain\") 0+ items, possibly a maximum\n",
    "  * scalar: int, float, bool\n",
    "  * container: str, list\n",
    "* mutable vs. immutable objects\n",
    "  * immutable: str, tuple\n",
    "  * mutable: list, dict\n",
    "* built-in functions do not change the objects passed to them\n",
    "  * if you want to change an object, you must invoke a method on it\n",
    "  * (i.e., you must call a datatype-specific function to do it)\n",
    "  * not all methods change the objects that they are invoked on\n",
    "* Python practices \"truthiness\"\n",
    "  * 0, 0.0 are considered False\n",
    "  * non-zero values are considered True (even negative values)\n",
    "  * empty containers are considered False\n",
    "  * non-empty containers are considered True"
   ]
  },
  {
   "cell_type": "markdown",
   "id": "ed23cb28-0b6f-42e6-9537-38bca8d0450c",
   "metadata": {},
   "source": [
    "# Important things about learning (and also teaching)\n",
    "* know when to Zoom in / Zoom out\n",
    "  * known when to go down the rabbit hole\n",
    "* you understand something when you can explain it to someone non-technical"
   ]
  },
  {
   "cell_type": "markdown",
   "id": "c26268b5-cf2a-4a43-a306-d6dfafbe1f37",
   "metadata": {},
   "source": [
    "# Pythonic\n",
    "* converting something to a different type to make it easier to work with\n",
    "* functions returning multiple values (doesn't work in C or Java)\n",
    "* use negative indexing to access the last few items of a container\n",
    "  * __`[-n:]`__ always mean the last _n_ elements of the container\n",
    "* composition: functions calling other functions\n",
    "* use the in operator!\n",
    "  * checks to see if an object is in a container\n",
    "* creating lists from strings and splitting them\n",
    "* use _ in for loops where the variable is not needed\n",
    "  * use _ in contexts where the variable is not needed"
   ]
  },
  {
   "cell_type": "markdown",
   "id": "560d8990-01da-404f-9cd1-b3fd3b88f104",
   "metadata": {},
   "source": [
    "# Thinking Like a Developer\n",
    "* you read code 10x more than you write code\n",
    "* when sharing code, put you best self on it\n",
    "* choose good names for your variables\n",
    "* writing software would be easy if it weren't for the customer\n",
    "* Hal Abelson: \"Programs are written for people to read and only incidentally for computers to execute\"\n",
    "* Eagleson's Law: \"Any code you wrote longer than 6 months ago might as well have been written by someone else\"\n",
    "* DRY = Don't Repeat Yourself (lazy)\n",
    "* \"Prefer clean code to comments.\" –DWS\n",
    "* \"Efficiency doesn't matter until it matters, and it rarely matters.\" –DWS\n",
    "* break down our code into usable chunks, typically functions\n",
    "* reuse our code by creating functions"
   ]
  },
  {
   "cell_type": "markdown",
   "id": "1dc98817-c9f0-49da-90d5-83246f6d0d3f",
   "metadata": {},
   "source": [
    "# Linux-like environments for Windows\n",
    "* git bash (download)\n",
    "* WSL (Windows Subsystem for Linux)\n",
    "* Cygwin"
   ]
  },
  {
   "cell_type": "code",
   "execution_count": 1,
   "id": "de500263-4739-4661-b655-b465abd97f33",
   "metadata": {},
   "outputs": [
    {
     "data": {
      "text/plain": [
       "['False',\n",
       " 'None',\n",
       " 'True',\n",
       " 'and',\n",
       " 'as',\n",
       " 'assert',\n",
       " 'async',\n",
       " 'await',\n",
       " 'break',\n",
       " 'class',\n",
       " 'continue',\n",
       " 'def',\n",
       " 'del',\n",
       " 'elif',\n",
       " 'else',\n",
       " 'except',\n",
       " 'finally',\n",
       " 'for',\n",
       " 'from',\n",
       " 'global',\n",
       " 'if',\n",
       " 'import',\n",
       " 'in',\n",
       " 'is',\n",
       " 'lambda',\n",
       " 'nonlocal',\n",
       " 'not',\n",
       " 'or',\n",
       " 'pass',\n",
       " 'raise',\n",
       " 'return',\n",
       " 'try',\n",
       " 'while',\n",
       " 'with',\n",
       " 'yield']"
      ]
     },
     "execution_count": 1,
     "metadata": {},
     "output_type": "execute_result"
    }
   ],
   "source": [
    "import keyword\n",
    "keyword.kwlist"
   ]
  },
  {
   "cell_type": "code",
   "execution_count": 4,
   "id": "2b59d4a1-4f5d-43af-8eb4-e4b2991b050e",
   "metadata": {},
   "outputs": [],
   "source": [
    "finished = False"
   ]
  },
  {
   "cell_type": "code",
   "execution_count": 5,
   "id": "09fa4a4a-0cc1-4542-a0c7-7a95aca37709",
   "metadata": {},
   "outputs": [
    {
     "data": {
      "text/plain": [
       "7"
      ]
     },
     "execution_count": 5,
     "metadata": {},
     "output_type": "execute_result"
    }
   ],
   "source": [
    "4 + 3"
   ]
  },
  {
   "cell_type": "code",
   "execution_count": 6,
   "id": "d10ec3ed-0cc7-4857-b50a-794969f95def",
   "metadata": {},
   "outputs": [],
   "source": [
    "4 + 3 # this was run too, but it was run in \"program mode\", so we don't see any output\n",
    "x = 5 # this was run"
   ]
  },
  {
   "cell_type": "code",
   "execution_count": 7,
   "id": "c909ba98-664c-43d1-b241-355411232d7b",
   "metadata": {},
   "outputs": [
    {
     "data": {
      "text/plain": [
       "5"
      ]
     },
     "execution_count": 7,
     "metadata": {},
     "output_type": "execute_result"
    }
   ],
   "source": [
    "x"
   ]
  },
  {
   "cell_type": "code",
   "execution_count": 8,
   "id": "1f33e99e-c615-4ba0-8488-d470b0464b58",
   "metadata": {},
   "outputs": [
    {
     "data": {
      "text/plain": [
       "4"
      ]
     },
     "execution_count": 8,
     "metadata": {},
     "output_type": "execute_result"
    }
   ],
   "source": [
    "# the rule in Jupyter is–ONLY the *last* line is run in \"interactive\" mode\n",
    "2 + 2"
   ]
  },
  {
   "cell_type": "code",
   "execution_count": 10,
   "id": "031727e6-f2a1-4d48-a814-9eb755d68775",
   "metadata": {},
   "outputs": [
    {
     "data": {
      "text/plain": [
       "6"
      ]
     },
     "execution_count": 10,
     "metadata": {},
     "output_type": "execute_result"
    }
   ],
   "source": [
    "2 + 2 # \"program mode\"\n",
    "3 + 3 # \"interactive mode\""
   ]
  },
  {
   "cell_type": "code",
   "execution_count": 11,
   "id": "1c2409b7-83c9-431a-93c9-1d14a9856090",
   "metadata": {},
   "outputs": [
    {
     "name": "stdout",
     "output_type": "stream",
     "text": [
      "4\n",
      "6\n"
     ]
    }
   ],
   "source": [
    "print(2 + 2)\n",
    "print(3 + 3)"
   ]
  },
  {
   "cell_type": "code",
   "execution_count": 12,
   "id": "4e6c6b42-4a48-444d-875b-aa815ac3ed28",
   "metadata": {},
   "outputs": [
    {
     "data": {
      "text/plain": [
       "17"
      ]
     },
     "execution_count": 12,
     "metadata": {},
     "output_type": "execute_result"
    }
   ],
   "source": [
    "3 * 4 + x"
   ]
  },
  {
   "cell_type": "code",
   "execution_count": 13,
   "id": "a6fbe719-e259-46d5-a56a-7a014edf73b6",
   "metadata": {},
   "outputs": [
    {
     "data": {
      "text/plain": [
       "5"
      ]
     },
     "execution_count": 13,
     "metadata": {},
     "output_type": "execute_result"
    }
   ],
   "source": [
    "int(5.76)"
   ]
  },
  {
   "cell_type": "code",
   "execution_count": 14,
   "id": "ef19b018-cc68-43e3-a044-f2bf3de2762a",
   "metadata": {},
   "outputs": [
    {
     "data": {
      "text/plain": [
       "6"
      ]
     },
     "execution_count": 14,
     "metadata": {},
     "output_type": "execute_result"
    }
   ],
   "source": [
    "round(5.76)"
   ]
  },
  {
   "cell_type": "code",
   "execution_count": 15,
   "id": "0b431ec7-de3b-4825-aab1-3e09500003d9",
   "metadata": {},
   "outputs": [
    {
     "data": {
      "text/plain": [
       "94809253155584"
      ]
     },
     "execution_count": 15,
     "metadata": {},
     "output_type": "execute_result"
    }
   ],
   "source": [
    "id(x)"
   ]
  },
  {
   "cell_type": "code",
   "execution_count": 16,
   "id": "b8b278b8-263c-4c53-9238-dcf181038389",
   "metadata": {},
   "outputs": [
    {
     "data": {
      "text/plain": [
       "5"
      ]
     },
     "execution_count": 16,
     "metadata": {},
     "output_type": "execute_result"
    }
   ],
   "source": [
    "x"
   ]
  },
  {
   "cell_type": "code",
   "execution_count": 17,
   "id": "351feb7a-3566-47b7-b81b-5426e1c5ccab",
   "metadata": {},
   "outputs": [],
   "source": [
    "name = 'Grace Hopper'"
   ]
  },
  {
   "cell_type": "code",
   "execution_count": 19,
   "id": "d70b8693-14be-4a97-a9df-743f0fb2fcaa",
   "metadata": {},
   "outputs": [
    {
     "name": "stdout",
     "output_type": "stream",
     "text": [
      "Your name is Grace Hopper\n"
     ]
    }
   ],
   "source": [
    "print('Your name is', name)"
   ]
  },
  {
   "cell_type": "code",
   "execution_count": 20,
   "id": "f3500e19-284f-4cd6-b708-56bb3e9a4048",
   "metadata": {},
   "outputs": [
    {
     "data": {
      "text/plain": [
       "'Grace Hopper'"
      ]
     },
     "execution_count": 20,
     "metadata": {},
     "output_type": "execute_result"
    }
   ],
   "source": [
    "name"
   ]
  },
  {
   "cell_type": "markdown",
   "id": "f4ed0b00-1512-4c1b-b186-29dd5c13074e",
   "metadata": {},
   "source": [
    "### first look at in operator"
   ]
  },
  {
   "cell_type": "code",
   "execution_count": 2,
   "id": "4764dec1-3dbe-4409-82bd-3b90490d6e63",
   "metadata": {},
   "outputs": [
    {
     "data": {
      "text/plain": [
       "False"
      ]
     },
     "execution_count": 2,
     "metadata": {},
     "output_type": "execute_result"
    }
   ],
   "source": [
    "'x' in 'Starbucks'"
   ]
  },
  {
   "cell_type": "code",
   "execution_count": 3,
   "id": "7faff3b6-aa27-4441-9377-534fe5001997",
   "metadata": {},
   "outputs": [
    {
     "data": {
      "text/plain": [
       "True"
      ]
     },
     "execution_count": 3,
     "metadata": {},
     "output_type": "execute_result"
    }
   ],
   "source": [
    "'buck' in 'Starbucks' # works as a substring operator"
   ]
  },
  {
   "cell_type": "code",
   "execution_count": 4,
   "id": "89f9b131-ac7e-4e46-a9d6-2666d515df52",
   "metadata": {},
   "outputs": [],
   "source": [
    "import random"
   ]
  },
  {
   "cell_type": "code",
   "execution_count": 5,
   "id": "300fa78d-be17-4e28-b2d3-6894ee82cd1d",
   "metadata": {},
   "outputs": [
    {
     "data": {
      "text/plain": [
       "140367630408784"
      ]
     },
     "execution_count": 5,
     "metadata": {},
     "output_type": "execute_result"
    }
   ],
   "source": [
    "id(random)"
   ]
  },
  {
   "cell_type": "code",
   "execution_count": 6,
   "id": "27e7d528-e36e-4944-bd67-341965022a1a",
   "metadata": {},
   "outputs": [
    {
     "data": {
      "text/plain": [
       "['BPF',\n",
       " 'LOG4',\n",
       " 'NV_MAGICCONST',\n",
       " 'RECIP_BPF',\n",
       " 'Random',\n",
       " 'SG_MAGICCONST',\n",
       " 'SystemRandom',\n",
       " 'TWOPI',\n",
       " '_BuiltinMethodType',\n",
       " '_MethodType',\n",
       " '_Sequence',\n",
       " '_Set',\n",
       " '__all__',\n",
       " '__builtins__',\n",
       " '__cached__',\n",
       " '__doc__',\n",
       " '__file__',\n",
       " '__loader__',\n",
       " '__name__',\n",
       " '__package__',\n",
       " '__spec__',\n",
       " '_acos',\n",
       " '_bisect',\n",
       " '_ceil',\n",
       " '_cos',\n",
       " '_e',\n",
       " '_exp',\n",
       " '_inst',\n",
       " '_itertools',\n",
       " '_log',\n",
       " '_os',\n",
       " '_pi',\n",
       " '_random',\n",
       " '_sha512',\n",
       " '_sin',\n",
       " '_sqrt',\n",
       " '_test',\n",
       " '_test_generator',\n",
       " '_urandom',\n",
       " '_warn',\n",
       " 'betavariate',\n",
       " 'choice',\n",
       " 'choices',\n",
       " 'expovariate',\n",
       " 'gammavariate',\n",
       " 'gauss',\n",
       " 'getrandbits',\n",
       " 'getstate',\n",
       " 'lognormvariate',\n",
       " 'normalvariate',\n",
       " 'paretovariate',\n",
       " 'randint',\n",
       " 'random',\n",
       " 'randrange',\n",
       " 'sample',\n",
       " 'seed',\n",
       " 'setstate',\n",
       " 'shuffle',\n",
       " 'triangular',\n",
       " 'uniform',\n",
       " 'vonmisesvariate',\n",
       " 'weibullvariate']"
      ]
     },
     "execution_count": 6,
     "metadata": {},
     "output_type": "execute_result"
    }
   ],
   "source": [
    "dir(random)"
   ]
  },
  {
   "cell_type": "code",
   "execution_count": 7,
   "id": "304bc3eb-d4bd-4f8a-a647-27cb215a70b7",
   "metadata": {},
   "outputs": [
    {
     "name": "stdout",
     "output_type": "stream",
     "text": [
      "Help on module random:\n",
      "\n",
      "NAME\n",
      "    random - Random variable generators.\n",
      "\n",
      "MODULE REFERENCE\n",
      "    https://docs.python.org/3.7/library/random\n",
      "    \n",
      "    The following documentation is automatically generated from the Python\n",
      "    source files.  It may be incomplete, incorrect or include features that\n",
      "    are considered implementation detail and may vary between Python\n",
      "    implementations.  When in doubt, consult the module reference at the\n",
      "    location listed above.\n",
      "\n",
      "DESCRIPTION\n",
      "        integers\n",
      "        --------\n",
      "               uniform within range\n",
      "    \n",
      "        sequences\n",
      "        ---------\n",
      "               pick random element\n",
      "               pick random sample\n",
      "               pick weighted random sample\n",
      "               generate random permutation\n",
      "    \n",
      "        distributions on the real line:\n",
      "        ------------------------------\n",
      "               uniform\n",
      "               triangular\n",
      "               normal (Gaussian)\n",
      "               lognormal\n",
      "               negative exponential\n",
      "               gamma\n",
      "               beta\n",
      "               pareto\n",
      "               Weibull\n",
      "    \n",
      "        distributions on the circle (angles 0 to 2pi)\n",
      "        ---------------------------------------------\n",
      "               circular uniform\n",
      "               von Mises\n",
      "    \n",
      "    General notes on the underlying Mersenne Twister core generator:\n",
      "    \n",
      "    * The period is 2**19937-1.\n",
      "    * It is one of the most extensively tested generators in existence.\n",
      "    * The random() method is implemented in C, executes in a single Python step,\n",
      "      and is, therefore, threadsafe.\n",
      "\n",
      "CLASSES\n",
      "    _random.Random(builtins.object)\n",
      "        Random\n",
      "            SystemRandom\n",
      "    \n",
      "    class Random(_random.Random)\n",
      "     |  Random(x=None)\n",
      "     |  \n",
      "     |  Random number generator base class used by bound module functions.\n",
      "     |  \n",
      "     |  Used to instantiate instances of Random to get generators that don't\n",
      "     |  share state.\n",
      "     |  \n",
      "     |  Class Random can also be subclassed if you want to use a different basic\n",
      "     |  generator of your own devising: in that case, override the following\n",
      "     |  methods:  random(), seed(), getstate(), and setstate().\n",
      "     |  Optionally, implement a getrandbits() method so that randrange()\n",
      "     |  can cover arbitrarily large ranges.\n",
      "     |  \n",
      "     |  Method resolution order:\n",
      "     |      Random\n",
      "     |      _random.Random\n",
      "     |      builtins.object\n",
      "     |  \n",
      "     |  Methods defined here:\n",
      "     |  \n",
      "     |  __getstate__(self)\n",
      "     |      # Issue 17489: Since __reduce__ was defined to fix #759889 this is no\n",
      "     |      # longer called; we leave it here because it has been here since random was\n",
      "     |      # rewritten back in 2001 and why risk breaking something.\n",
      "     |  \n",
      "     |  __init__(self, x=None)\n",
      "     |      Initialize an instance.\n",
      "     |      \n",
      "     |      Optional argument x controls seeding, as for Random.seed().\n",
      "     |  \n",
      "     |  __reduce__(self)\n",
      "     |      Helper for pickle.\n",
      "     |  \n",
      "     |  __setstate__(self, state)\n",
      "     |  \n",
      "     |  betavariate(self, alpha, beta)\n",
      "     |      Beta distribution.\n",
      "     |      \n",
      "     |      Conditions on the parameters are alpha > 0 and beta > 0.\n",
      "     |      Returned values range between 0 and 1.\n",
      "     |  \n",
      "     |  choice(self, seq)\n",
      "     |      Choose a random element from a non-empty sequence.\n",
      "     |  \n",
      "     |  choices(self, population, weights=None, *, cum_weights=None, k=1)\n",
      "     |      Return a k sized list of population elements chosen with replacement.\n",
      "     |      \n",
      "     |      If the relative weights or cumulative weights are not specified,\n",
      "     |      the selections are made with equal probability.\n",
      "     |  \n",
      "     |  expovariate(self, lambd)\n",
      "     |      Exponential distribution.\n",
      "     |      \n",
      "     |      lambd is 1.0 divided by the desired mean.  It should be\n",
      "     |      nonzero.  (The parameter would be called \"lambda\", but that is\n",
      "     |      a reserved word in Python.)  Returned values range from 0 to\n",
      "     |      positive infinity if lambd is positive, and from negative\n",
      "     |      infinity to 0 if lambd is negative.\n",
      "     |  \n",
      "     |  gammavariate(self, alpha, beta)\n",
      "     |      Gamma distribution.  Not the gamma function!\n",
      "     |      \n",
      "     |      Conditions on the parameters are alpha > 0 and beta > 0.\n",
      "     |      \n",
      "     |      The probability distribution function is:\n",
      "     |      \n",
      "     |                  x ** (alpha - 1) * math.exp(-x / beta)\n",
      "     |        pdf(x) =  --------------------------------------\n",
      "     |                    math.gamma(alpha) * beta ** alpha\n",
      "     |  \n",
      "     |  gauss(self, mu, sigma)\n",
      "     |      Gaussian distribution.\n",
      "     |      \n",
      "     |      mu is the mean, and sigma is the standard deviation.  This is\n",
      "     |      slightly faster than the normalvariate() function.\n",
      "     |      \n",
      "     |      Not thread-safe without a lock around calls.\n",
      "     |  \n",
      "     |  getstate(self)\n",
      "     |      Return internal state; can be passed to setstate() later.\n",
      "     |  \n",
      "     |  lognormvariate(self, mu, sigma)\n",
      "     |      Log normal distribution.\n",
      "     |      \n",
      "     |      If you take the natural logarithm of this distribution, you'll get a\n",
      "     |      normal distribution with mean mu and standard deviation sigma.\n",
      "     |      mu can have any value, and sigma must be greater than zero.\n",
      "     |  \n",
      "     |  normalvariate(self, mu, sigma)\n",
      "     |      Normal distribution.\n",
      "     |      \n",
      "     |      mu is the mean, and sigma is the standard deviation.\n",
      "     |  \n",
      "     |  paretovariate(self, alpha)\n",
      "     |      Pareto distribution.  alpha is the shape parameter.\n",
      "     |  \n",
      "     |  randint(self, a, b)\n",
      "     |      Return random integer in range [a, b], including both end points.\n",
      "     |  \n",
      "     |  randrange(self, start, stop=None, step=1, _int=<class 'int'>)\n",
      "     |      Choose a random item from range(start, stop[, step]).\n",
      "     |      \n",
      "     |      This fixes the problem with randint() which includes the\n",
      "     |      endpoint; in Python this is usually not what you want.\n",
      "     |  \n",
      "     |  sample(self, population, k)\n",
      "     |      Chooses k unique random elements from a population sequence or set.\n",
      "     |      \n",
      "     |      Returns a new list containing elements from the population while\n",
      "     |      leaving the original population unchanged.  The resulting list is\n",
      "     |      in selection order so that all sub-slices will also be valid random\n",
      "     |      samples.  This allows raffle winners (the sample) to be partitioned\n",
      "     |      into grand prize and second place winners (the subslices).\n",
      "     |      \n",
      "     |      Members of the population need not be hashable or unique.  If the\n",
      "     |      population contains repeats, then each occurrence is a possible\n",
      "     |      selection in the sample.\n",
      "     |      \n",
      "     |      To choose a sample in a range of integers, use range as an argument.\n",
      "     |      This is especially fast and space efficient for sampling from a\n",
      "     |      large population:   sample(range(10000000), 60)\n",
      "     |  \n",
      "     |  seed(self, a=None, version=2)\n",
      "     |      Initialize internal state from hashable object.\n",
      "     |      \n",
      "     |      None or no argument seeds from current time or from an operating\n",
      "     |      system specific randomness source if available.\n",
      "     |      \n",
      "     |      If *a* is an int, all bits are used.\n",
      "     |      \n",
      "     |      For version 2 (the default), all of the bits are used if *a* is a str,\n",
      "     |      bytes, or bytearray.  For version 1 (provided for reproducing random\n",
      "     |      sequences from older versions of Python), the algorithm for str and\n",
      "     |      bytes generates a narrower range of seeds.\n",
      "     |  \n",
      "     |  setstate(self, state)\n",
      "     |      Restore internal state from object returned by getstate().\n",
      "     |  \n",
      "     |  shuffle(self, x, random=None)\n",
      "     |      Shuffle list x in place, and return None.\n",
      "     |      \n",
      "     |      Optional argument random is a 0-argument function returning a\n",
      "     |      random float in [0.0, 1.0); if it is the default None, the\n",
      "     |      standard random.random will be used.\n",
      "     |  \n",
      "     |  triangular(self, low=0.0, high=1.0, mode=None)\n",
      "     |      Triangular distribution.\n",
      "     |      \n",
      "     |      Continuous distribution bounded by given lower and upper limits,\n",
      "     |      and having a given mode value in-between.\n",
      "     |      \n",
      "     |      http://en.wikipedia.org/wiki/Triangular_distribution\n",
      "     |  \n",
      "     |  uniform(self, a, b)\n",
      "     |      Get a random number in the range [a, b) or [a, b] depending on rounding.\n",
      "     |  \n",
      "     |  vonmisesvariate(self, mu, kappa)\n",
      "     |      Circular data distribution.\n",
      "     |      \n",
      "     |      mu is the mean angle, expressed in radians between 0 and 2*pi, and\n",
      "     |      kappa is the concentration parameter, which must be greater than or\n",
      "     |      equal to zero.  If kappa is equal to zero, this distribution reduces\n",
      "     |      to a uniform random angle over the range 0 to 2*pi.\n",
      "     |  \n",
      "     |  weibullvariate(self, alpha, beta)\n",
      "     |      Weibull distribution.\n",
      "     |      \n",
      "     |      alpha is the scale parameter and beta is the shape parameter.\n",
      "     |  \n",
      "     |  ----------------------------------------------------------------------\n",
      "     |  Data descriptors defined here:\n",
      "     |  \n",
      "     |  __dict__\n",
      "     |      dictionary for instance variables (if defined)\n",
      "     |  \n",
      "     |  __weakref__\n",
      "     |      list of weak references to the object (if defined)\n",
      "     |  \n",
      "     |  ----------------------------------------------------------------------\n",
      "     |  Data and other attributes defined here:\n",
      "     |  \n",
      "     |  VERSION = 3\n",
      "     |  \n",
      "     |  ----------------------------------------------------------------------\n",
      "     |  Methods inherited from _random.Random:\n",
      "     |  \n",
      "     |  __getattribute__(self, name, /)\n",
      "     |      Return getattr(self, name).\n",
      "     |  \n",
      "     |  getrandbits(...)\n",
      "     |      getrandbits(k) -> x.  Generates an int with k random bits.\n",
      "     |  \n",
      "     |  random(...)\n",
      "     |      random() -> x in the interval [0, 1).\n",
      "     |  \n",
      "     |  ----------------------------------------------------------------------\n",
      "     |  Static methods inherited from _random.Random:\n",
      "     |  \n",
      "     |  __new__(*args, **kwargs) from builtins.type\n",
      "     |      Create and return a new object.  See help(type) for accurate signature.\n",
      "    \n",
      "    class SystemRandom(Random)\n",
      "     |  SystemRandom(x=None)\n",
      "     |  \n",
      "     |  Alternate random number generator using sources provided\n",
      "     |  by the operating system (such as /dev/urandom on Unix or\n",
      "     |  CryptGenRandom on Windows).\n",
      "     |  \n",
      "     |   Not available on all systems (see os.urandom() for details).\n",
      "     |  \n",
      "     |  Method resolution order:\n",
      "     |      SystemRandom\n",
      "     |      Random\n",
      "     |      _random.Random\n",
      "     |      builtins.object\n",
      "     |  \n",
      "     |  Methods defined here:\n",
      "     |  \n",
      "     |  getrandbits(self, k)\n",
      "     |      getrandbits(k) -> x.  Generates an int with k random bits.\n",
      "     |  \n",
      "     |  getstate = _notimplemented(self, *args, **kwds)\n",
      "     |  \n",
      "     |  random(self)\n",
      "     |      Get the next random number in the range [0.0, 1.0).\n",
      "     |  \n",
      "     |  seed(self, *args, **kwds)\n",
      "     |      Stub method.  Not used for a system random number generator.\n",
      "     |  \n",
      "     |  setstate = _notimplemented(self, *args, **kwds)\n",
      "     |  \n",
      "     |  ----------------------------------------------------------------------\n",
      "     |  Methods inherited from Random:\n",
      "     |  \n",
      "     |  __getstate__(self)\n",
      "     |      # Issue 17489: Since __reduce__ was defined to fix #759889 this is no\n",
      "     |      # longer called; we leave it here because it has been here since random was\n",
      "     |      # rewritten back in 2001 and why risk breaking something.\n",
      "     |  \n",
      "     |  __init__(self, x=None)\n",
      "     |      Initialize an instance.\n",
      "     |      \n",
      "     |      Optional argument x controls seeding, as for Random.seed().\n",
      "     |  \n",
      "     |  __reduce__(self)\n",
      "     |      Helper for pickle.\n",
      "     |  \n",
      "     |  __setstate__(self, state)\n",
      "     |  \n",
      "     |  betavariate(self, alpha, beta)\n",
      "     |      Beta distribution.\n",
      "     |      \n",
      "     |      Conditions on the parameters are alpha > 0 and beta > 0.\n",
      "     |      Returned values range between 0 and 1.\n",
      "     |  \n",
      "     |  choice(self, seq)\n",
      "     |      Choose a random element from a non-empty sequence.\n",
      "     |  \n",
      "     |  choices(self, population, weights=None, *, cum_weights=None, k=1)\n",
      "     |      Return a k sized list of population elements chosen with replacement.\n",
      "     |      \n",
      "     |      If the relative weights or cumulative weights are not specified,\n",
      "     |      the selections are made with equal probability.\n",
      "     |  \n",
      "     |  expovariate(self, lambd)\n",
      "     |      Exponential distribution.\n",
      "     |      \n",
      "     |      lambd is 1.0 divided by the desired mean.  It should be\n",
      "     |      nonzero.  (The parameter would be called \"lambda\", but that is\n",
      "     |      a reserved word in Python.)  Returned values range from 0 to\n",
      "     |      positive infinity if lambd is positive, and from negative\n",
      "     |      infinity to 0 if lambd is negative.\n",
      "     |  \n",
      "     |  gammavariate(self, alpha, beta)\n",
      "     |      Gamma distribution.  Not the gamma function!\n",
      "     |      \n",
      "     |      Conditions on the parameters are alpha > 0 and beta > 0.\n",
      "     |      \n",
      "     |      The probability distribution function is:\n",
      "     |      \n",
      "     |                  x ** (alpha - 1) * math.exp(-x / beta)\n",
      "     |        pdf(x) =  --------------------------------------\n",
      "     |                    math.gamma(alpha) * beta ** alpha\n",
      "     |  \n",
      "     |  gauss(self, mu, sigma)\n",
      "     |      Gaussian distribution.\n",
      "     |      \n",
      "     |      mu is the mean, and sigma is the standard deviation.  This is\n",
      "     |      slightly faster than the normalvariate() function.\n",
      "     |      \n",
      "     |      Not thread-safe without a lock around calls.\n",
      "     |  \n",
      "     |  lognormvariate(self, mu, sigma)\n",
      "     |      Log normal distribution.\n",
      "     |      \n",
      "     |      If you take the natural logarithm of this distribution, you'll get a\n",
      "     |      normal distribution with mean mu and standard deviation sigma.\n",
      "     |      mu can have any value, and sigma must be greater than zero.\n",
      "     |  \n",
      "     |  normalvariate(self, mu, sigma)\n",
      "     |      Normal distribution.\n",
      "     |      \n",
      "     |      mu is the mean, and sigma is the standard deviation.\n",
      "     |  \n",
      "     |  paretovariate(self, alpha)\n",
      "     |      Pareto distribution.  alpha is the shape parameter.\n",
      "     |  \n",
      "     |  randint(self, a, b)\n",
      "     |      Return random integer in range [a, b], including both end points.\n",
      "     |  \n",
      "     |  randrange(self, start, stop=None, step=1, _int=<class 'int'>)\n",
      "     |      Choose a random item from range(start, stop[, step]).\n",
      "     |      \n",
      "     |      This fixes the problem with randint() which includes the\n",
      "     |      endpoint; in Python this is usually not what you want.\n",
      "     |  \n",
      "     |  sample(self, population, k)\n",
      "     |      Chooses k unique random elements from a population sequence or set.\n",
      "     |      \n",
      "     |      Returns a new list containing elements from the population while\n",
      "     |      leaving the original population unchanged.  The resulting list is\n",
      "     |      in selection order so that all sub-slices will also be valid random\n",
      "     |      samples.  This allows raffle winners (the sample) to be partitioned\n",
      "     |      into grand prize and second place winners (the subslices).\n",
      "     |      \n",
      "     |      Members of the population need not be hashable or unique.  If the\n",
      "     |      population contains repeats, then each occurrence is a possible\n",
      "     |      selection in the sample.\n",
      "     |      \n",
      "     |      To choose a sample in a range of integers, use range as an argument.\n",
      "     |      This is especially fast and space efficient for sampling from a\n",
      "     |      large population:   sample(range(10000000), 60)\n",
      "     |  \n",
      "     |  shuffle(self, x, random=None)\n",
      "     |      Shuffle list x in place, and return None.\n",
      "     |      \n",
      "     |      Optional argument random is a 0-argument function returning a\n",
      "     |      random float in [0.0, 1.0); if it is the default None, the\n",
      "     |      standard random.random will be used.\n",
      "     |  \n",
      "     |  triangular(self, low=0.0, high=1.0, mode=None)\n",
      "     |      Triangular distribution.\n",
      "     |      \n",
      "     |      Continuous distribution bounded by given lower and upper limits,\n",
      "     |      and having a given mode value in-between.\n",
      "     |      \n",
      "     |      http://en.wikipedia.org/wiki/Triangular_distribution\n",
      "     |  \n",
      "     |  uniform(self, a, b)\n",
      "     |      Get a random number in the range [a, b) or [a, b] depending on rounding.\n",
      "     |  \n",
      "     |  vonmisesvariate(self, mu, kappa)\n",
      "     |      Circular data distribution.\n",
      "     |      \n",
      "     |      mu is the mean angle, expressed in radians between 0 and 2*pi, and\n",
      "     |      kappa is the concentration parameter, which must be greater than or\n",
      "     |      equal to zero.  If kappa is equal to zero, this distribution reduces\n",
      "     |      to a uniform random angle over the range 0 to 2*pi.\n",
      "     |  \n",
      "     |  weibullvariate(self, alpha, beta)\n",
      "     |      Weibull distribution.\n",
      "     |      \n",
      "     |      alpha is the scale parameter and beta is the shape parameter.\n",
      "     |  \n",
      "     |  ----------------------------------------------------------------------\n",
      "     |  Data descriptors inherited from Random:\n",
      "     |  \n",
      "     |  __dict__\n",
      "     |      dictionary for instance variables (if defined)\n",
      "     |  \n",
      "     |  __weakref__\n",
      "     |      list of weak references to the object (if defined)\n",
      "     |  \n",
      "     |  ----------------------------------------------------------------------\n",
      "     |  Data and other attributes inherited from Random:\n",
      "     |  \n",
      "     |  VERSION = 3\n",
      "     |  \n",
      "     |  ----------------------------------------------------------------------\n",
      "     |  Methods inherited from _random.Random:\n",
      "     |  \n",
      "     |  __getattribute__(self, name, /)\n",
      "     |      Return getattr(self, name).\n",
      "     |  \n",
      "     |  ----------------------------------------------------------------------\n",
      "     |  Static methods inherited from _random.Random:\n",
      "     |  \n",
      "     |  __new__(*args, **kwargs) from builtins.type\n",
      "     |      Create and return a new object.  See help(type) for accurate signature.\n",
      "\n",
      "FUNCTIONS\n",
      "    betavariate(alpha, beta) method of Random instance\n",
      "        Beta distribution.\n",
      "        \n",
      "        Conditions on the parameters are alpha > 0 and beta > 0.\n",
      "        Returned values range between 0 and 1.\n",
      "    \n",
      "    choice(seq) method of Random instance\n",
      "        Choose a random element from a non-empty sequence.\n",
      "    \n",
      "    choices(population, weights=None, *, cum_weights=None, k=1) method of Random instance\n",
      "        Return a k sized list of population elements chosen with replacement.\n",
      "        \n",
      "        If the relative weights or cumulative weights are not specified,\n",
      "        the selections are made with equal probability.\n",
      "    \n",
      "    expovariate(lambd) method of Random instance\n",
      "        Exponential distribution.\n",
      "        \n",
      "        lambd is 1.0 divided by the desired mean.  It should be\n",
      "        nonzero.  (The parameter would be called \"lambda\", but that is\n",
      "        a reserved word in Python.)  Returned values range from 0 to\n",
      "        positive infinity if lambd is positive, and from negative\n",
      "        infinity to 0 if lambd is negative.\n",
      "    \n",
      "    gammavariate(alpha, beta) method of Random instance\n",
      "        Gamma distribution.  Not the gamma function!\n",
      "        \n",
      "        Conditions on the parameters are alpha > 0 and beta > 0.\n",
      "        \n",
      "        The probability distribution function is:\n",
      "        \n",
      "                    x ** (alpha - 1) * math.exp(-x / beta)\n",
      "          pdf(x) =  --------------------------------------\n",
      "                      math.gamma(alpha) * beta ** alpha\n",
      "    \n",
      "    gauss(mu, sigma) method of Random instance\n",
      "        Gaussian distribution.\n",
      "        \n",
      "        mu is the mean, and sigma is the standard deviation.  This is\n",
      "        slightly faster than the normalvariate() function.\n",
      "        \n",
      "        Not thread-safe without a lock around calls.\n",
      "    \n",
      "    getrandbits(...) method of Random instance\n",
      "        getrandbits(k) -> x.  Generates an int with k random bits.\n",
      "    \n",
      "    getstate() method of Random instance\n",
      "        Return internal state; can be passed to setstate() later.\n",
      "    \n",
      "    lognormvariate(mu, sigma) method of Random instance\n",
      "        Log normal distribution.\n",
      "        \n",
      "        If you take the natural logarithm of this distribution, you'll get a\n",
      "        normal distribution with mean mu and standard deviation sigma.\n",
      "        mu can have any value, and sigma must be greater than zero.\n",
      "    \n",
      "    normalvariate(mu, sigma) method of Random instance\n",
      "        Normal distribution.\n",
      "        \n",
      "        mu is the mean, and sigma is the standard deviation.\n",
      "    \n",
      "    paretovariate(alpha) method of Random instance\n",
      "        Pareto distribution.  alpha is the shape parameter.\n",
      "    \n",
      "    randint(a, b) method of Random instance\n",
      "        Return random integer in range [a, b], including both end points.\n",
      "    \n",
      "    random(...) method of Random instance\n",
      "        random() -> x in the interval [0, 1).\n",
      "    \n",
      "    randrange(start, stop=None, step=1, _int=<class 'int'>) method of Random instance\n",
      "        Choose a random item from range(start, stop[, step]).\n",
      "        \n",
      "        This fixes the problem with randint() which includes the\n",
      "        endpoint; in Python this is usually not what you want.\n",
      "    \n",
      "    sample(population, k) method of Random instance\n",
      "        Chooses k unique random elements from a population sequence or set.\n",
      "        \n",
      "        Returns a new list containing elements from the population while\n",
      "        leaving the original population unchanged.  The resulting list is\n",
      "        in selection order so that all sub-slices will also be valid random\n",
      "        samples.  This allows raffle winners (the sample) to be partitioned\n",
      "        into grand prize and second place winners (the subslices).\n",
      "        \n",
      "        Members of the population need not be hashable or unique.  If the\n",
      "        population contains repeats, then each occurrence is a possible\n",
      "        selection in the sample.\n",
      "        \n",
      "        To choose a sample in a range of integers, use range as an argument.\n",
      "        This is especially fast and space efficient for sampling from a\n",
      "        large population:   sample(range(10000000), 60)\n",
      "    \n",
      "    seed(a=None, version=2) method of Random instance\n",
      "        Initialize internal state from hashable object.\n",
      "        \n",
      "        None or no argument seeds from current time or from an operating\n",
      "        system specific randomness source if available.\n",
      "        \n",
      "        If *a* is an int, all bits are used.\n",
      "        \n",
      "        For version 2 (the default), all of the bits are used if *a* is a str,\n",
      "        bytes, or bytearray.  For version 1 (provided for reproducing random\n",
      "        sequences from older versions of Python), the algorithm for str and\n",
      "        bytes generates a narrower range of seeds.\n",
      "    \n",
      "    setstate(state) method of Random instance\n",
      "        Restore internal state from object returned by getstate().\n",
      "    \n",
      "    shuffle(x, random=None) method of Random instance\n",
      "        Shuffle list x in place, and return None.\n",
      "        \n",
      "        Optional argument random is a 0-argument function returning a\n",
      "        random float in [0.0, 1.0); if it is the default None, the\n",
      "        standard random.random will be used.\n",
      "    \n",
      "    triangular(low=0.0, high=1.0, mode=None) method of Random instance\n",
      "        Triangular distribution.\n",
      "        \n",
      "        Continuous distribution bounded by given lower and upper limits,\n",
      "        and having a given mode value in-between.\n",
      "        \n",
      "        http://en.wikipedia.org/wiki/Triangular_distribution\n",
      "    \n",
      "    uniform(a, b) method of Random instance\n",
      "        Get a random number in the range [a, b) or [a, b] depending on rounding.\n",
      "    \n",
      "    vonmisesvariate(mu, kappa) method of Random instance\n",
      "        Circular data distribution.\n",
      "        \n",
      "        mu is the mean angle, expressed in radians between 0 and 2*pi, and\n",
      "        kappa is the concentration parameter, which must be greater than or\n",
      "        equal to zero.  If kappa is equal to zero, this distribution reduces\n",
      "        to a uniform random angle over the range 0 to 2*pi.\n",
      "    \n",
      "    weibullvariate(alpha, beta) method of Random instance\n",
      "        Weibull distribution.\n",
      "        \n",
      "        alpha is the scale parameter and beta is the shape parameter.\n",
      "\n",
      "DATA\n",
      "    __all__ = ['Random', 'seed', 'random', 'uniform', 'randint', 'choice',...\n",
      "\n",
      "FILE\n",
      "    /srv/conda/envs/notebook/lib/python3.7/random.py\n",
      "\n",
      "\n"
     ]
    }
   ],
   "source": [
    "help(random)"
   ]
  },
  {
   "cell_type": "code",
   "execution_count": 12,
   "id": "99e42a6f-5d58-457d-b961-81c753c581b6",
   "metadata": {},
   "outputs": [
    {
     "data": {
      "text/plain": [
       "13"
      ]
     },
     "execution_count": 12,
     "metadata": {},
     "output_type": "execute_result"
    }
   ],
   "source": [
    "random.randint(1, 100)"
   ]
  },
  {
   "cell_type": "code",
   "execution_count": 15,
   "id": "c14d2642-5fdf-4e05-ae07-4703c8072494",
   "metadata": {},
   "outputs": [
    {
     "data": {
      "text/plain": [
       "\u001b[0;31mSignature:\u001b[0m \u001b[0mrandom\u001b[0m\u001b[0;34m.\u001b[0m\u001b[0mrandint\u001b[0m\u001b[0;34m(\u001b[0m\u001b[0ma\u001b[0m\u001b[0;34m,\u001b[0m \u001b[0mb\u001b[0m\u001b[0;34m)\u001b[0m\u001b[0;34m\u001b[0m\u001b[0;34m\u001b[0m\u001b[0m\n",
       "\u001b[0;31mDocstring:\u001b[0m\n",
       "Return random integer in range [a, b], including both end points.\n",
       "        \n",
       "\u001b[0;31mFile:\u001b[0m      /srv/conda/envs/notebook/lib/python3.7/random.py\n",
       "\u001b[0;31mType:\u001b[0m      method\n"
      ]
     },
     "metadata": {},
     "output_type": "display_data"
    }
   ],
   "source": [
    "random.randint?"
   ]
  },
  {
   "cell_type": "markdown",
   "id": "1ac09c8e-12f9-45af-b710-0eb45f829201",
   "metadata": {},
   "source": [
    "## Quick Lab: Loops/Strings\n",
    "* have the user enter a string, then loop through the string to generate (or print) a new string in which every character is duplicated, e.g., \"Python\" => \"PPyytthhoonn\""
   ]
  },
  {
   "cell_type": "code",
   "execution_count": null,
   "id": "d81a5d64-fe3e-45b0-8b4e-aa051c2c15d6",
   "metadata": {},
   "outputs": [],
   "source": [
    "# 1. get a string from the user (input...)\n",
    "# 2. for each letter in the string:\n",
    "#.      write it out twice with no newline"
   ]
  },
  {
   "cell_type": "code",
   "execution_count": 1,
   "id": "7d980808-2c78-4939-94b4-b944858034df",
   "metadata": {},
   "outputs": [
    {
     "name": "stdin",
     "output_type": "stream",
     "text": [
      "Enter a string:  Golang\n"
     ]
    }
   ],
   "source": [
    "string = input('Enter a string: ')"
   ]
  },
  {
   "cell_type": "code",
   "execution_count": 2,
   "id": "37e369be-b483-4938-9bb8-bc920c652010",
   "metadata": {},
   "outputs": [
    {
     "name": "stdout",
     "output_type": "stream",
     "text": [
      "GGoollaanngg"
     ]
    }
   ],
   "source": [
    "for letter in string:\n",
    "    print(letter + letter, end='') # don't go to next line"
   ]
  },
  {
   "cell_type": "code",
   "execution_count": 3,
   "id": "6f821571-f803-4d6d-8600-63b8863d7ad2",
   "metadata": {},
   "outputs": [
    {
     "name": "stdout",
     "output_type": "stream",
     "text": [
      "GGoollaanngg"
     ]
    }
   ],
   "source": [
    "# or...\n",
    "for letter in string:\n",
    "    print(letter * 2, end='')"
   ]
  },
  {
   "cell_type": "code",
   "execution_count": 4,
   "id": "f23a476f-336e-45a2-a179-2f31bdc55c30",
   "metadata": {},
   "outputs": [
    {
     "name": "stdout",
     "output_type": "stream",
     "text": [
      "GGoollaanngg"
     ]
    }
   ],
   "source": [
    "# or ...\n",
    "for letter in string:\n",
    "    print(letter, letter, sep='', end='')"
   ]
  },
  {
   "cell_type": "markdown",
   "id": "bf48bf35-fdbf-4d07-ba59-bad260eb06b0",
   "metadata": {},
   "source": [
    "## Lab: Loops\n",
    "* Loop through the numbers from 2 to 25 and print out which numbers are prime, and for those numbers which are not prime numbers, you should print them as a product of two factors\n",
    "* Remember that prime = no divisors other than 1 and itself\n",
    "* Don't worry about efficiency, but if you're interested, check out math.sqrt()\n",
    "* example output:\n",
    "<pre>\n",
    "2 is a prime number\n",
    "3 is a prime number\n",
    "4 equals 2 * 2\n",
    "5 is a prime number\n",
    "6 equals 2 * 3\n",
    "7 is a prime number\n",
    "8 equals 2 * 4\n",
    "9 equals 3 * 3\n",
    "10 equals 2 * 5\n",
    "11 is a prime number\n",
    "12 equals 2 * 6\n",
    "13 is a prime number\n",
    "14 equals 2 * 7\n",
    "15 equals 3 * 5\n",
    "16 equals 2 * 8\n",
    "17 is a prime number\n",
    "18 equals 2 * 9\n",
    "19 is a prime number\n",
    "20 equals 2 * 10\n",
    "21 equals 3 * 7\n",
    "22 equals 2 * 11\n",
    "23 is a prime number\n",
    "24 equals 2 * 12\n",
    "25 equals 5 * 5\n",
    "</pre>"
   ]
  },
  {
   "cell_type": "code",
   "execution_count": null,
   "id": "ff86b22b-ca29-4136-a22f-4337f0471e72",
   "metadata": {},
   "outputs": [],
   "source": [
    "# 1. for each number from 2 to 25 (for, range)\n",
    "# 2. for each possible divisor from 2 up to the number-1\n",
    "# 3.     if possible divisor divides in evenly (%):\n",
    "# 4.        it's not prime\n",
    "# 5.         divide the number by the possible divisor\n",
    "#.           to get the quotient\n",
    "# 6.         print those out (e.g., 6 = 2 * 3)\n",
    "# 7.         stop checking numbers\n",
    "# 8. if none of the possible divisors divide in:\n",
    "# 9.     then it's prime and say that!"
   ]
  },
  {
   "cell_type": "code",
   "execution_count": 1,
   "id": "6e7220ff-6f4e-49c7-bd08-8c312f30bbba",
   "metadata": {},
   "outputs": [
    {
     "name": "stdout",
     "output_type": "stream",
     "text": [
      "2 3 4 5 6 7 8 9 10 11 12 13 14 15 16 17 18 19 20 21 22 23 24 25 "
     ]
    }
   ],
   "source": [
    "#for num in range(2, 26):\n",
    "    print(num, end=' ')"
   ]
  },
  {
   "cell_type": "code",
   "execution_count": 7,
   "id": "fcf1fa0b-7e05-4ba2-9e34-595dd4c6b4f3",
   "metadata": {},
   "outputs": [
    {
     "name": "stdout",
     "output_type": "stream",
     "text": [
      "2: \n",
      "3: 2 \n",
      "4: 2 3 \n",
      "5: 2 3 4 \n",
      "6: 2 3 4 5 \n",
      "7: 2 3 4 5 6 \n",
      "8: 2 3 4 5 6 7 \n",
      "9: 2 3 4 5 6 7 8 \n",
      "10: 2 3 4 5 6 7 8 9 \n",
      "11: 2 3 4 5 6 7 8 9 10 \n",
      "12: 2 3 4 5 6 7 8 9 10 11 \n",
      "13: 2 3 4 5 6 7 8 9 10 11 12 \n",
      "14: 2 3 4 5 6 7 8 9 10 11 12 13 \n",
      "15: 2 3 4 5 6 7 8 9 10 11 12 13 14 \n",
      "16: 2 3 4 5 6 7 8 9 10 11 12 13 14 15 \n",
      "17: 2 3 4 5 6 7 8 9 10 11 12 13 14 15 16 \n",
      "18: 2 3 4 5 6 7 8 9 10 11 12 13 14 15 16 17 \n",
      "19: 2 3 4 5 6 7 8 9 10 11 12 13 14 15 16 17 18 \n",
      "20: 2 3 4 5 6 7 8 9 10 11 12 13 14 15 16 17 18 19 \n",
      "21: 2 3 4 5 6 7 8 9 10 11 12 13 14 15 16 17 18 19 20 \n",
      "22: 2 3 4 5 6 7 8 9 10 11 12 13 14 15 16 17 18 19 20 21 \n",
      "23: 2 3 4 5 6 7 8 9 10 11 12 13 14 15 16 17 18 19 20 21 22 \n",
      "24: 2 3 4 5 6 7 8 9 10 11 12 13 14 15 16 17 18 19 20 21 22 23 \n",
      "25: 2 3 4 5 6 7 8 9 10 11 12 13 14 15 16 17 18 19 20 21 22 23 24 \n"
     ]
    }
   ],
   "source": [
    "# let's check our logic\n",
    "for num in range(2, 26): # step 1\n",
    "    print(num, end=': ')\n",
    "    for possible_divisor in range(2, num): # step 2\n",
    "        print(possible_divisor, end=' ')\n",
    "    print()"
   ]
  },
  {
   "cell_type": "code",
   "execution_count": 9,
   "id": "0b3a306c-95cb-4595-b38b-ac30b16350a8",
   "metadata": {},
   "outputs": [
    {
     "name": "stdout",
     "output_type": "stream",
     "text": [
      "2 is a prime number\n",
      "3 is a prime number\n",
      "4 equals 2 * 2\n",
      "5 is a prime number\n",
      "6 equals 2 * 3\n",
      "7 is a prime number\n",
      "8 equals 2 * 4\n",
      "9 equals 3 * 3\n",
      "10 equals 2 * 5\n",
      "11 is a prime number\n",
      "12 equals 2 * 6\n",
      "13 is a prime number\n",
      "14 equals 2 * 7\n",
      "15 equals 3 * 5\n",
      "16 equals 2 * 8\n",
      "17 is a prime number\n",
      "18 equals 2 * 9\n",
      "19 is a prime number\n",
      "20 equals 2 * 10\n",
      "21 equals 3 * 7\n",
      "22 equals 2 * 11\n",
      "23 is a prime number\n",
      "24 equals 2 * 12\n",
      "25 equals 5 * 5\n"
     ]
    }
   ],
   "source": [
    "# 1. for each number from 2 to 25 (for, range)\n",
    "# 2. for each possible divisor from 2 up to the number-1\n",
    "# 3.     if possible divisor divides in evenly (%):\n",
    "# 4.        it's not prime\n",
    "# 5.         divide the number by the possible divisor\n",
    "#.           to get the quotient\n",
    "# 6.         print those out (e.g., 6 = 2 * 3)\n",
    "# 7.         stop checking numbers\n",
    "# 8. if none of the possible divisors divide in:\n",
    "# 9.     then it's prime and say that!\n",
    "\n",
    "# for each number from 2 to 25\n",
    "for num in range(2, 26): # step 1\n",
    "    # for each possible divisor from 2 up to the number-1\n",
    "    # we will try to divide it in...\n",
    "    for possible_divisor in range(2, num): # step 2\n",
    "        if num % possible_divisor == 0: # step 3\n",
    "            quotient = num // possible_divisor # step 4, 5\n",
    "            print(num, 'equals', possible_divisor, '*', quotient) # step 6\n",
    "            break # step 7\n",
    "    else: # step 8: we finished the loop normally (we did not break)\n",
    "        print(num, 'is a prime number') # step 9"
   ]
  },
  {
   "cell_type": "code",
   "execution_count": 10,
   "id": "8cbebe52-6a62-4a82-bc9d-a76dea20320a",
   "metadata": {},
   "outputs": [
    {
     "data": {
      "text/plain": [
       "'Golang'"
      ]
     },
     "execution_count": 10,
     "metadata": {},
     "output_type": "execute_result"
    }
   ],
   "source": [
    "string"
   ]
  },
  {
   "cell_type": "code",
   "execution_count": 11,
   "id": "495e8633-b0d9-4e10-911c-f5ad46f09e69",
   "metadata": {},
   "outputs": [
    {
     "data": {
      "text/plain": [
       "'G'"
      ]
     },
     "execution_count": 11,
     "metadata": {},
     "output_type": "execute_result"
    }
   ],
   "source": [
    "string[0]"
   ]
  },
  {
   "cell_type": "code",
   "execution_count": 12,
   "id": "5b4eb8c7-728e-484c-a66c-81681fd6c6f5",
   "metadata": {},
   "outputs": [
    {
     "data": {
      "text/plain": [
       "'g'"
      ]
     },
     "execution_count": 12,
     "metadata": {},
     "output_type": "execute_result"
    }
   ],
   "source": [
    "string[-1]"
   ]
  },
  {
   "cell_type": "code",
   "execution_count": 1,
   "id": "663465ba-5ebe-47d9-9da1-3f0b3a782197",
   "metadata": {},
   "outputs": [],
   "source": [
    "s = 'test string'"
   ]
  },
  {
   "cell_type": "code",
   "execution_count": 2,
   "id": "9aab10e9-7bd0-40b9-8e25-43ba8953b8a6",
   "metadata": {},
   "outputs": [
    {
     "name": "stdout",
     "output_type": "stream",
     "text": [
      "Help on class str in module builtins:\n",
      "\n",
      "class str(object)\n",
      " |  str(object='') -> str\n",
      " |  str(bytes_or_buffer[, encoding[, errors]]) -> str\n",
      " |  \n",
      " |  Create a new string object from the given object. If encoding or\n",
      " |  errors is specified, then the object must expose a data buffer\n",
      " |  that will be decoded using the given encoding and error handler.\n",
      " |  Otherwise, returns the result of object.__str__() (if defined)\n",
      " |  or repr(object).\n",
      " |  encoding defaults to sys.getdefaultencoding().\n",
      " |  errors defaults to 'strict'.\n",
      " |  \n",
      " |  Methods defined here:\n",
      " |  \n",
      " |  __add__(self, value, /)\n",
      " |      Return self+value.\n",
      " |  \n",
      " |  __contains__(self, key, /)\n",
      " |      Return key in self.\n",
      " |  \n",
      " |  __eq__(self, value, /)\n",
      " |      Return self==value.\n",
      " |  \n",
      " |  __format__(self, format_spec, /)\n",
      " |      Return a formatted version of the string as described by format_spec.\n",
      " |  \n",
      " |  __ge__(self, value, /)\n",
      " |      Return self>=value.\n",
      " |  \n",
      " |  __getattribute__(self, name, /)\n",
      " |      Return getattr(self, name).\n",
      " |  \n",
      " |  __getitem__(self, key, /)\n",
      " |      Return self[key].\n",
      " |  \n",
      " |  __getnewargs__(...)\n",
      " |  \n",
      " |  __gt__(self, value, /)\n",
      " |      Return self>value.\n",
      " |  \n",
      " |  __hash__(self, /)\n",
      " |      Return hash(self).\n",
      " |  \n",
      " |  __iter__(self, /)\n",
      " |      Implement iter(self).\n",
      " |  \n",
      " |  __le__(self, value, /)\n",
      " |      Return self<=value.\n",
      " |  \n",
      " |  __len__(self, /)\n",
      " |      Return len(self).\n",
      " |  \n",
      " |  __lt__(self, value, /)\n",
      " |      Return self<value.\n",
      " |  \n",
      " |  __mod__(self, value, /)\n",
      " |      Return self%value.\n",
      " |  \n",
      " |  __mul__(self, value, /)\n",
      " |      Return self*value.\n",
      " |  \n",
      " |  __ne__(self, value, /)\n",
      " |      Return self!=value.\n",
      " |  \n",
      " |  __repr__(self, /)\n",
      " |      Return repr(self).\n",
      " |  \n",
      " |  __rmod__(self, value, /)\n",
      " |      Return value%self.\n",
      " |  \n",
      " |  __rmul__(self, value, /)\n",
      " |      Return value*self.\n",
      " |  \n",
      " |  __sizeof__(self, /)\n",
      " |      Return the size of the string in memory, in bytes.\n",
      " |  \n",
      " |  __str__(self, /)\n",
      " |      Return str(self).\n",
      " |  \n",
      " |  capitalize(self, /)\n",
      " |      Return a capitalized version of the string.\n",
      " |      \n",
      " |      More specifically, make the first character have upper case and the rest lower\n",
      " |      case.\n",
      " |  \n",
      " |  casefold(self, /)\n",
      " |      Return a version of the string suitable for caseless comparisons.\n",
      " |  \n",
      " |  center(self, width, fillchar=' ', /)\n",
      " |      Return a centered string of length width.\n",
      " |      \n",
      " |      Padding is done using the specified fill character (default is a space).\n",
      " |  \n",
      " |  count(...)\n",
      " |      S.count(sub[, start[, end]]) -> int\n",
      " |      \n",
      " |      Return the number of non-overlapping occurrences of substring sub in\n",
      " |      string S[start:end].  Optional arguments start and end are\n",
      " |      interpreted as in slice notation.\n",
      " |  \n",
      " |  encode(self, /, encoding='utf-8', errors='strict')\n",
      " |      Encode the string using the codec registered for encoding.\n",
      " |      \n",
      " |      encoding\n",
      " |        The encoding in which to encode the string.\n",
      " |      errors\n",
      " |        The error handling scheme to use for encoding errors.\n",
      " |        The default is 'strict' meaning that encoding errors raise a\n",
      " |        UnicodeEncodeError.  Other possible values are 'ignore', 'replace' and\n",
      " |        'xmlcharrefreplace' as well as any other name registered with\n",
      " |        codecs.register_error that can handle UnicodeEncodeErrors.\n",
      " |  \n",
      " |  endswith(...)\n",
      " |      S.endswith(suffix[, start[, end]]) -> bool\n",
      " |      \n",
      " |      Return True if S ends with the specified suffix, False otherwise.\n",
      " |      With optional start, test S beginning at that position.\n",
      " |      With optional end, stop comparing S at that position.\n",
      " |      suffix can also be a tuple of strings to try.\n",
      " |  \n",
      " |  expandtabs(self, /, tabsize=8)\n",
      " |      Return a copy where all tab characters are expanded using spaces.\n",
      " |      \n",
      " |      If tabsize is not given, a tab size of 8 characters is assumed.\n",
      " |  \n",
      " |  find(...)\n",
      " |      S.find(sub[, start[, end]]) -> int\n",
      " |      \n",
      " |      Return the lowest index in S where substring sub is found,\n",
      " |      such that sub is contained within S[start:end].  Optional\n",
      " |      arguments start and end are interpreted as in slice notation.\n",
      " |      \n",
      " |      Return -1 on failure.\n",
      " |  \n",
      " |  format(...)\n",
      " |      S.format(*args, **kwargs) -> str\n",
      " |      \n",
      " |      Return a formatted version of S, using substitutions from args and kwargs.\n",
      " |      The substitutions are identified by braces ('{' and '}').\n",
      " |  \n",
      " |  format_map(...)\n",
      " |      S.format_map(mapping) -> str\n",
      " |      \n",
      " |      Return a formatted version of S, using substitutions from mapping.\n",
      " |      The substitutions are identified by braces ('{' and '}').\n",
      " |  \n",
      " |  index(...)\n",
      " |      S.index(sub[, start[, end]]) -> int\n",
      " |      \n",
      " |      Return the lowest index in S where substring sub is found, \n",
      " |      such that sub is contained within S[start:end].  Optional\n",
      " |      arguments start and end are interpreted as in slice notation.\n",
      " |      \n",
      " |      Raises ValueError when the substring is not found.\n",
      " |  \n",
      " |  isalnum(self, /)\n",
      " |      Return True if the string is an alpha-numeric string, False otherwise.\n",
      " |      \n",
      " |      A string is alpha-numeric if all characters in the string are alpha-numeric and\n",
      " |      there is at least one character in the string.\n",
      " |  \n",
      " |  isalpha(self, /)\n",
      " |      Return True if the string is an alphabetic string, False otherwise.\n",
      " |      \n",
      " |      A string is alphabetic if all characters in the string are alphabetic and there\n",
      " |      is at least one character in the string.\n",
      " |  \n",
      " |  isascii(self, /)\n",
      " |      Return True if all characters in the string are ASCII, False otherwise.\n",
      " |      \n",
      " |      ASCII characters have code points in the range U+0000-U+007F.\n",
      " |      Empty string is ASCII too.\n",
      " |  \n",
      " |  isdecimal(self, /)\n",
      " |      Return True if the string is a decimal string, False otherwise.\n",
      " |      \n",
      " |      A string is a decimal string if all characters in the string are decimal and\n",
      " |      there is at least one character in the string.\n",
      " |  \n",
      " |  isdigit(self, /)\n",
      " |      Return True if the string is a digit string, False otherwise.\n",
      " |      \n",
      " |      A string is a digit string if all characters in the string are digits and there\n",
      " |      is at least one character in the string.\n",
      " |  \n",
      " |  isidentifier(self, /)\n",
      " |      Return True if the string is a valid Python identifier, False otherwise.\n",
      " |      \n",
      " |      Use keyword.iskeyword() to test for reserved identifiers such as \"def\" and\n",
      " |      \"class\".\n",
      " |  \n",
      " |  islower(self, /)\n",
      " |      Return True if the string is a lowercase string, False otherwise.\n",
      " |      \n",
      " |      A string is lowercase if all cased characters in the string are lowercase and\n",
      " |      there is at least one cased character in the string.\n",
      " |  \n",
      " |  isnumeric(self, /)\n",
      " |      Return True if the string is a numeric string, False otherwise.\n",
      " |      \n",
      " |      A string is numeric if all characters in the string are numeric and there is at\n",
      " |      least one character in the string.\n",
      " |  \n",
      " |  isprintable(self, /)\n",
      " |      Return True if the string is printable, False otherwise.\n",
      " |      \n",
      " |      A string is printable if all of its characters are considered printable in\n",
      " |      repr() or if it is empty.\n",
      " |  \n",
      " |  isspace(self, /)\n",
      " |      Return True if the string is a whitespace string, False otherwise.\n",
      " |      \n",
      " |      A string is whitespace if all characters in the string are whitespace and there\n",
      " |      is at least one character in the string.\n",
      " |  \n",
      " |  istitle(self, /)\n",
      " |      Return True if the string is a title-cased string, False otherwise.\n",
      " |      \n",
      " |      In a title-cased string, upper- and title-case characters may only\n",
      " |      follow uncased characters and lowercase characters only cased ones.\n",
      " |  \n",
      " |  isupper(self, /)\n",
      " |      Return True if the string is an uppercase string, False otherwise.\n",
      " |      \n",
      " |      A string is uppercase if all cased characters in the string are uppercase and\n",
      " |      there is at least one cased character in the string.\n",
      " |  \n",
      " |  join(self, iterable, /)\n",
      " |      Concatenate any number of strings.\n",
      " |      \n",
      " |      The string whose method is called is inserted in between each given string.\n",
      " |      The result is returned as a new string.\n",
      " |      \n",
      " |      Example: '.'.join(['ab', 'pq', 'rs']) -> 'ab.pq.rs'\n",
      " |  \n",
      " |  ljust(self, width, fillchar=' ', /)\n",
      " |      Return a left-justified string of length width.\n",
      " |      \n",
      " |      Padding is done using the specified fill character (default is a space).\n",
      " |  \n",
      " |  lower(self, /)\n",
      " |      Return a copy of the string converted to lowercase.\n",
      " |  \n",
      " |  lstrip(self, chars=None, /)\n",
      " |      Return a copy of the string with leading whitespace removed.\n",
      " |      \n",
      " |      If chars is given and not None, remove characters in chars instead.\n",
      " |  \n",
      " |  partition(self, sep, /)\n",
      " |      Partition the string into three parts using the given separator.\n",
      " |      \n",
      " |      This will search for the separator in the string.  If the separator is found,\n",
      " |      returns a 3-tuple containing the part before the separator, the separator\n",
      " |      itself, and the part after it.\n",
      " |      \n",
      " |      If the separator is not found, returns a 3-tuple containing the original string\n",
      " |      and two empty strings.\n",
      " |  \n",
      " |  replace(self, old, new, count=-1, /)\n",
      " |      Return a copy with all occurrences of substring old replaced by new.\n",
      " |      \n",
      " |        count\n",
      " |          Maximum number of occurrences to replace.\n",
      " |          -1 (the default value) means replace all occurrences.\n",
      " |      \n",
      " |      If the optional argument count is given, only the first count occurrences are\n",
      " |      replaced.\n",
      " |  \n",
      " |  rfind(...)\n",
      " |      S.rfind(sub[, start[, end]]) -> int\n",
      " |      \n",
      " |      Return the highest index in S where substring sub is found,\n",
      " |      such that sub is contained within S[start:end].  Optional\n",
      " |      arguments start and end are interpreted as in slice notation.\n",
      " |      \n",
      " |      Return -1 on failure.\n",
      " |  \n",
      " |  rindex(...)\n",
      " |      S.rindex(sub[, start[, end]]) -> int\n",
      " |      \n",
      " |      Return the highest index in S where substring sub is found,\n",
      " |      such that sub is contained within S[start:end].  Optional\n",
      " |      arguments start and end are interpreted as in slice notation.\n",
      " |      \n",
      " |      Raises ValueError when the substring is not found.\n",
      " |  \n",
      " |  rjust(self, width, fillchar=' ', /)\n",
      " |      Return a right-justified string of length width.\n",
      " |      \n",
      " |      Padding is done using the specified fill character (default is a space).\n",
      " |  \n",
      " |  rpartition(self, sep, /)\n",
      " |      Partition the string into three parts using the given separator.\n",
      " |      \n",
      " |      This will search for the separator in the string, starting at the end. If\n",
      " |      the separator is found, returns a 3-tuple containing the part before the\n",
      " |      separator, the separator itself, and the part after it.\n",
      " |      \n",
      " |      If the separator is not found, returns a 3-tuple containing two empty strings\n",
      " |      and the original string.\n",
      " |  \n",
      " |  rsplit(self, /, sep=None, maxsplit=-1)\n",
      " |      Return a list of the words in the string, using sep as the delimiter string.\n",
      " |      \n",
      " |        sep\n",
      " |          The delimiter according which to split the string.\n",
      " |          None (the default value) means split according to any whitespace,\n",
      " |          and discard empty strings from the result.\n",
      " |        maxsplit\n",
      " |          Maximum number of splits to do.\n",
      " |          -1 (the default value) means no limit.\n",
      " |      \n",
      " |      Splits are done starting at the end of the string and working to the front.\n",
      " |  \n",
      " |  rstrip(self, chars=None, /)\n",
      " |      Return a copy of the string with trailing whitespace removed.\n",
      " |      \n",
      " |      If chars is given and not None, remove characters in chars instead.\n",
      " |  \n",
      " |  split(self, /, sep=None, maxsplit=-1)\n",
      " |      Return a list of the words in the string, using sep as the delimiter string.\n",
      " |      \n",
      " |      sep\n",
      " |        The delimiter according which to split the string.\n",
      " |        None (the default value) means split according to any whitespace,\n",
      " |        and discard empty strings from the result.\n",
      " |      maxsplit\n",
      " |        Maximum number of splits to do.\n",
      " |        -1 (the default value) means no limit.\n",
      " |  \n",
      " |  splitlines(self, /, keepends=False)\n",
      " |      Return a list of the lines in the string, breaking at line boundaries.\n",
      " |      \n",
      " |      Line breaks are not included in the resulting list unless keepends is given and\n",
      " |      true.\n",
      " |  \n",
      " |  startswith(...)\n",
      " |      S.startswith(prefix[, start[, end]]) -> bool\n",
      " |      \n",
      " |      Return True if S starts with the specified prefix, False otherwise.\n",
      " |      With optional start, test S beginning at that position.\n",
      " |      With optional end, stop comparing S at that position.\n",
      " |      prefix can also be a tuple of strings to try.\n",
      " |  \n",
      " |  strip(self, chars=None, /)\n",
      " |      Return a copy of the string with leading and trailing whitespace removed.\n",
      " |      \n",
      " |      If chars is given and not None, remove characters in chars instead.\n",
      " |  \n",
      " |  swapcase(self, /)\n",
      " |      Convert uppercase characters to lowercase and lowercase characters to uppercase.\n",
      " |  \n",
      " |  title(self, /)\n",
      " |      Return a version of the string where each word is titlecased.\n",
      " |      \n",
      " |      More specifically, words start with uppercased characters and all remaining\n",
      " |      cased characters have lower case.\n",
      " |  \n",
      " |  translate(self, table, /)\n",
      " |      Replace each character in the string using the given translation table.\n",
      " |      \n",
      " |        table\n",
      " |          Translation table, which must be a mapping of Unicode ordinals to\n",
      " |          Unicode ordinals, strings, or None.\n",
      " |      \n",
      " |      The table must implement lookup/indexing via __getitem__, for instance a\n",
      " |      dictionary or list.  If this operation raises LookupError, the character is\n",
      " |      left untouched.  Characters mapped to None are deleted.\n",
      " |  \n",
      " |  upper(self, /)\n",
      " |      Return a copy of the string converted to uppercase.\n",
      " |  \n",
      " |  zfill(self, width, /)\n",
      " |      Pad a numeric string with zeros on the left, to fill a field of the given width.\n",
      " |      \n",
      " |      The string is never truncated.\n",
      " |  \n",
      " |  ----------------------------------------------------------------------\n",
      " |  Static methods defined here:\n",
      " |  \n",
      " |  __new__(*args, **kwargs) from builtins.type\n",
      " |      Create and return a new object.  See help(type) for accurate signature.\n",
      " |  \n",
      " |  maketrans(x, y=None, z=None, /)\n",
      " |      Return a translation table usable for str.translate().\n",
      " |      \n",
      " |      If there is only one argument, it must be a dictionary mapping Unicode\n",
      " |      ordinals (integers) or characters to Unicode ordinals, strings or None.\n",
      " |      Character keys will be then converted to ordinals.\n",
      " |      If there are two arguments, they must be strings of equal length, and\n",
      " |      in the resulting dictionary, each character in x will be mapped to the\n",
      " |      character at the same position in y. If there is a third argument, it\n",
      " |      must be a string, whose characters will be mapped to None in the result.\n",
      "\n"
     ]
    }
   ],
   "source": [
    "help(str)"
   ]
  },
  {
   "cell_type": "code",
   "execution_count": 3,
   "id": "99728250-1777-495c-a566-1c76ccbe87b2",
   "metadata": {},
   "outputs": [
    {
     "data": {
      "text/plain": [
       "True"
      ]
     },
     "execution_count": 3,
     "metadata": {},
     "output_type": "execute_result"
    }
   ],
   "source": [
    "'hello'.startswith('h')"
   ]
  },
  {
   "cell_type": "code",
   "execution_count": 4,
   "id": "fa9cc90a-7ef2-420c-af1d-ac968daee1e9",
   "metadata": {},
   "outputs": [],
   "source": [
    "s = '12345'"
   ]
  },
  {
   "cell_type": "code",
   "execution_count": 5,
   "id": "fee4bb6d-9914-4deb-a071-2bcc1cfa72a2",
   "metadata": {},
   "outputs": [
    {
     "ename": "TypeError",
     "evalue": "'str' object does not support item assignment",
     "output_type": "error",
     "traceback": [
      "\u001b[0;31m---------------------------------------------------------------------------\u001b[0m",
      "\u001b[0;31mTypeError\u001b[0m                                 Traceback (most recent call last)",
      "\u001b[0;32m/tmp/ipykernel_95/1962844421.py\u001b[0m in \u001b[0;36m<module>\u001b[0;34m\u001b[0m\n\u001b[0;32m----> 1\u001b[0;31m \u001b[0ms\u001b[0m\u001b[0;34m[\u001b[0m\u001b[0;36m0\u001b[0m\u001b[0;34m]\u001b[0m \u001b[0;34m=\u001b[0m \u001b[0;34m'x'\u001b[0m\u001b[0;34m\u001b[0m\u001b[0;34m\u001b[0m\u001b[0m\n\u001b[0m",
      "\u001b[0;31mTypeError\u001b[0m: 'str' object does not support item assignment"
     ]
    }
   ],
   "source": [
    "s[0] = 'x'"
   ]
  },
  {
   "cell_type": "code",
   "execution_count": 6,
   "id": "5297fc34-c46f-462c-b745-7f6123772908",
   "metadata": {},
   "outputs": [
    {
     "data": {
      "text/plain": [
       "'1'"
      ]
     },
     "execution_count": 6,
     "metadata": {},
     "output_type": "execute_result"
    }
   ],
   "source": [
    "s[0]"
   ]
  },
  {
   "cell_type": "code",
   "execution_count": 7,
   "id": "0846e3e4-ddd5-4bdf-8a58-7ba2a7928587",
   "metadata": {},
   "outputs": [
    {
     "data": {
      "text/plain": [
       "'23'"
      ]
     },
     "execution_count": 7,
     "metadata": {},
     "output_type": "execute_result"
    }
   ],
   "source": [
    "s[1:3]"
   ]
  },
  {
   "cell_type": "code",
   "execution_count": 8,
   "id": "b83daab2-2335-4c4a-b6b6-757dcad65b0d",
   "metadata": {},
   "outputs": [],
   "source": [
    "s = 'something else'"
   ]
  },
  {
   "cell_type": "code",
   "execution_count": 9,
   "id": "8001c06b-b85c-4bd8-8e91-9a5106d67f9d",
   "metadata": {},
   "outputs": [],
   "source": [
    "c = 's'"
   ]
  },
  {
   "cell_type": "code",
   "execution_count": 10,
   "id": "c89e2ca3-d345-4533-9e89-90c57791be34",
   "metadata": {},
   "outputs": [
    {
     "data": {
      "text/plain": [
       "'S'"
      ]
     },
     "execution_count": 10,
     "metadata": {},
     "output_type": "execute_result"
    }
   ],
   "source": [
    "c.swapcase()"
   ]
  },
  {
   "cell_type": "markdown",
   "id": "12ff1f71-4e85-4587-a16b-374ea7018dfa",
   "metadata": {},
   "source": [
    "## Lab: String Functions\n",
    "* write a Python program which prompts the user for a string and a stride (increment), and alternately makes the string upper case and lower case, stride characters at a time, e.g.,\n",
    "![alt-text](images/uplow.png \"uplow\")\n"
   ]
  },
  {
   "cell_type": "code",
   "execution_count": 12,
   "id": "4a8f1f9b-be20-4bb9-bd51-40d7f43f8190",
   "metadata": {},
   "outputs": [
    {
     "name": "stdin",
     "output_type": "stream",
     "text": [
      "Enter a string:  abcdEFGHijklMNOpqrstuVwxyZ\n",
      "Enter a stride:  4\n"
     ]
    }
   ],
   "source": [
    "# step 1: ask for string\n",
    "# 2: ask for stride\n",
    "string = input('Enter a string: ')\n",
    "stride = int(input('Enter a stride: '))"
   ]
  },
  {
   "cell_type": "code",
   "execution_count": 15,
   "id": "0b06984d-875a-49ef-936a-86caa51001e0",
   "metadata": {},
   "outputs": [
    {
     "data": {
      "text/plain": [
       "'abcd'"
      ]
     },
     "execution_count": 15,
     "metadata": {},
     "output_type": "execute_result"
    }
   ],
   "source": [
    "# first, we check our logic\n",
    "# can we break the string into 4-character groups (whatever the stride is)\n",
    "string[0:4]"
   ]
  },
  {
   "cell_type": "code",
   "execution_count": 16,
   "id": "a7ee3348-fb3a-473c-8e8c-937a883f4e21",
   "metadata": {},
   "outputs": [
    {
     "data": {
      "text/plain": [
       "'EFGH'"
      ]
     },
     "execution_count": 16,
     "metadata": {},
     "output_type": "execute_result"
    }
   ],
   "source": [
    "string[4:8]"
   ]
  },
  {
   "cell_type": "code",
   "execution_count": 17,
   "id": "75364921-7f4b-40bc-afcb-2575fa6bb466",
   "metadata": {},
   "outputs": [
    {
     "data": {
      "text/plain": [
       "'ijkl'"
      ]
     },
     "execution_count": 17,
     "metadata": {},
     "output_type": "execute_result"
    }
   ],
   "source": [
    "string[8:12]"
   ]
  },
  {
   "cell_type": "code",
   "execution_count": 18,
   "id": "18be6615-4f82-4797-8256-da07cd32e737",
   "metadata": {},
   "outputs": [
    {
     "data": {
      "text/plain": [
       "'MNOp'"
      ]
     },
     "execution_count": 18,
     "metadata": {},
     "output_type": "execute_result"
    }
   ],
   "source": [
    "string[12:16]"
   ]
  },
  {
   "cell_type": "code",
   "execution_count": 19,
   "id": "f038ad7b-b87f-4625-aadb-23d4642aefe7",
   "metadata": {},
   "outputs": [
    {
     "data": {
      "text/plain": [
       "'qrst'"
      ]
     },
     "execution_count": 19,
     "metadata": {},
     "output_type": "execute_result"
    }
   ],
   "source": [
    "string[16:20]"
   ]
  },
  {
   "cell_type": "code",
   "execution_count": 20,
   "id": "c1ded5fb-5844-4a44-81bb-c3c2ea4d9834",
   "metadata": {},
   "outputs": [
    {
     "data": {
      "text/plain": [
       "'uVwx'"
      ]
     },
     "execution_count": 20,
     "metadata": {},
     "output_type": "execute_result"
    }
   ],
   "source": [
    "string[20:24]"
   ]
  },
  {
   "cell_type": "code",
   "execution_count": 21,
   "id": "79db8650-631e-4814-8a68-d6fdde533858",
   "metadata": {},
   "outputs": [
    {
     "data": {
      "text/plain": [
       "'yZ'"
      ]
     },
     "execution_count": 21,
     "metadata": {},
     "output_type": "execute_result"
    }
   ],
   "source": [
    "string[24:28]"
   ]
  },
  {
   "cell_type": "code",
   "execution_count": 22,
   "id": "0059639b-f34e-4393-b6e8-62b499aadb09",
   "metadata": {},
   "outputs": [
    {
     "data": {
      "text/plain": [
       "''"
      ]
     },
     "execution_count": 22,
     "metadata": {},
     "output_type": "execute_result"
    }
   ],
   "source": [
    "string[28:32]"
   ]
  },
  {
   "cell_type": "code",
   "execution_count": 27,
   "id": "eea29680-a84d-416b-9179-3cd479d3f1e4",
   "metadata": {},
   "outputs": [
    {
     "name": "stdout",
     "output_type": "stream",
     "text": [
      "0:4 abcd\n",
      "4:8 EFGH\n",
      "8:12 ijkl\n",
      "12:16 MNOp\n",
      "16:20 qrst\n",
      "20:24 uVwx\n",
      "24:28 yZ\n"
     ]
    }
   ],
   "source": [
    "# we want a loop to start at beginning, stop at end, increment by stride\n",
    "# start at beginning, stops at len(), increment by stride\n",
    "for position in range(0, len(string), stride):\n",
    "    print(position, ':', position + stride, sep='', end=' ')\n",
    "    print(string[position:position + stride])"
   ]
  },
  {
   "cell_type": "code",
   "execution_count": null,
   "id": "acd0a369-dbf8-4363-a8c3-e59559d28b59",
   "metadata": {},
   "outputs": [],
   "source": [
    "# 3: for each chunk/slice of length stride\n",
    "#.       alternate making teh chunk/slide upper and lower and print it out"
   ]
  },
  {
   "cell_type": "code",
   "execution_count": 28,
   "id": "5dfb6746-40e7-4ff4-b710-ee0f8dcf2f5f",
   "metadata": {},
   "outputs": [
    {
     "name": "stdout",
     "output_type": "stream",
     "text": [
      "ABCDefghIJKLmnopQRSTuvwxYZ"
     ]
    }
   ],
   "source": [
    "# Tuan's suggestion is keep track of how many chunks we have done\n",
    "# and make the odd ones upper and the even ones lower\n",
    "\n",
    "how_many = 0\n",
    "for position in range(0, len(string), stride):\n",
    "    how_many += 1\n",
    "    if how_many % 2 == 1:\n",
    "        print(string[position:position + stride].upper(), end='')\n",
    "    else:\n",
    "        print(string[position:position + stride].lower(), end='')"
   ]
  },
  {
   "cell_type": "code",
   "execution_count": 29,
   "id": "66c7130d-eef8-41f8-bd45-49a71da8be7f",
   "metadata": {},
   "outputs": [
    {
     "name": "stdout",
     "output_type": "stream",
     "text": [
      "ABCDefghIJKLmnopQRSTuvwxYZ"
     ]
    }
   ],
   "source": [
    "# Dan's solution is to have a flag/indicator\n",
    "do_next = 'upper'\n",
    "\n",
    "for position in range(0, len(string), stride):\n",
    "    if do_next == 'upper':\n",
    "        print(string[position:position + stride].upper(), end='')\n",
    "        do_next = 'lower'\n",
    "    else: # anything...!\n",
    "        print(string[position:position + stride].lower(), end='')\n",
    "        do_next = 'upper'"
   ]
  },
  {
   "cell_type": "code",
   "execution_count": 30,
   "id": "b82cf4df-c58d-4bc2-a907-bc68856a6043",
   "metadata": {},
   "outputs": [
    {
     "name": "stdout",
     "output_type": "stream",
     "text": [
      "ABCDefghIJKLmnopQRSTuvwxYZ"
     ]
    }
   ],
   "source": [
    "# problem with the above is that we are just checking for 'upper'\n",
    "# anything other than 'upper' causes us to do 'lower'\n",
    "make_upper = True\n",
    "\n",
    "for position in range(0, len(string), stride):\n",
    "    if make_upper: # if make_upper == True\n",
    "        print(string[position:position + stride].upper(), end='')\n",
    "        make_upper = False\n",
    "    else: # anything...!\n",
    "        print(string[position:position + stride].lower(), end='')\n",
    "        make_upper = True"
   ]
  },
  {
   "cell_type": "code",
   "execution_count": 31,
   "id": "45465329-3ac6-4fba-8eb6-10cfb71e40f1",
   "metadata": {},
   "outputs": [
    {
     "name": "stdout",
     "output_type": "stream",
     "text": [
      "ABCDefghIJKLmnopQRSTuvwxYZ"
     ]
    }
   ],
   "source": [
    "# dev-oriented solution, not required\n",
    "make_upper = True\n",
    "\n",
    "for position in range(0, len(string), stride):\n",
    "    if make_upper: # if make_upper == True\n",
    "        print(string[position:position + stride].upper(), end='')\n",
    "    else: # anything...!\n",
    "        print(string[position:position + stride].lower(), end='')\n",
    "    make_upper = not make_upper # flip it from True to False or vice verssa"
   ]
  },
  {
   "cell_type": "code",
   "execution_count": 33,
   "id": "cfe3362b-99aa-4a78-8ff5-cbb05f9ecd24",
   "metadata": {},
   "outputs": [
    {
     "name": "stdin",
     "output_type": "stream",
     "text": [
      "Enter some words:  apple fig pear\n"
     ]
    }
   ],
   "source": [
    "string = input('Enter some words: ')"
   ]
  },
  {
   "cell_type": "code",
   "execution_count": 34,
   "id": "44757c41-7286-42ff-bdb5-10f1909dab15",
   "metadata": {},
   "outputs": [
    {
     "data": {
      "text/plain": [
       "'apple fig pear'"
      ]
     },
     "execution_count": 34,
     "metadata": {},
     "output_type": "execute_result"
    }
   ],
   "source": [
    "string"
   ]
  },
  {
   "cell_type": "code",
   "execution_count": 37,
   "id": "8f1298d4-22bc-45cb-ba7e-1466a487e87f",
   "metadata": {},
   "outputs": [
    {
     "data": {
      "text/plain": [
       "['apple', 'fig', 'pear']"
      ]
     },
     "execution_count": 37,
     "metadata": {},
     "output_type": "execute_result"
    }
   ],
   "source": [
    "list_of_words = string.split()\n",
    "list_of_words"
   ]
  },
  {
   "cell_type": "code",
   "execution_count": 38,
   "id": "e0ea72fd-277e-44ef-a43d-dee460aa8f6a",
   "metadata": {},
   "outputs": [
    {
     "ename": "AttributeError",
     "evalue": "'list' object has no attribute 'join'",
     "output_type": "error",
     "traceback": [
      "\u001b[0;31m---------------------------------------------------------------------------\u001b[0m",
      "\u001b[0;31mAttributeError\u001b[0m                            Traceback (most recent call last)",
      "\u001b[0;32m/tmp/ipykernel_95/2595422927.py\u001b[0m in \u001b[0;36m<module>\u001b[0;34m\u001b[0m\n\u001b[0;32m----> 1\u001b[0;31m \u001b[0mlist_of_words\u001b[0m\u001b[0;34m.\u001b[0m\u001b[0mjoin\u001b[0m\u001b[0;34m(\u001b[0m\u001b[0;34m' '\u001b[0m\u001b[0;34m)\u001b[0m \u001b[0;31m# it would be nice if...\u001b[0m\u001b[0;34m\u001b[0m\u001b[0;34m\u001b[0m\u001b[0m\n\u001b[0m",
      "\u001b[0;31mAttributeError\u001b[0m: 'list' object has no attribute 'join'"
     ]
    }
   ],
   "source": [
    "list_of_words.join(' ') # it would be nice if..."
   ]
  },
  {
   "cell_type": "code",
   "execution_count": 39,
   "id": "fddf65fe-6077-4902-811d-718707126541",
   "metadata": {},
   "outputs": [
    {
     "data": {
      "text/plain": [
       "['apple', 'fig', 'pear']"
      ]
     },
     "execution_count": 39,
     "metadata": {},
     "output_type": "execute_result"
    }
   ],
   "source": [
    "list_of_words"
   ]
  },
  {
   "cell_type": "code",
   "execution_count": 40,
   "id": "2a14d0b6-ebe0-4a61-9d6c-b699f9a67297",
   "metadata": {},
   "outputs": [
    {
     "data": {
      "text/plain": [
       "'apple fig pear'"
      ]
     },
     "execution_count": 40,
     "metadata": {},
     "output_type": "execute_result"
    }
   ],
   "source": [
    "' '.join(list_of_words) # separator DOT join(container)"
   ]
  },
  {
   "cell_type": "code",
   "execution_count": 2,
   "id": "15bf5e21-dc92-4243-9907-827d8b4a4b57",
   "metadata": {},
   "outputs": [
    {
     "data": {
      "text/plain": [
       "'o'"
      ]
     },
     "execution_count": 2,
     "metadata": {},
     "output_type": "execute_result"
    }
   ],
   "source": [
    "'hello'[4]"
   ]
  },
  {
   "cell_type": "code",
   "execution_count": 3,
   "id": "82290685-e0f4-4b09-abd8-61da22067912",
   "metadata": {},
   "outputs": [
    {
     "name": "stdout",
     "output_type": "stream",
     "text": [
      "h\n",
      "e\n",
      "l\n",
      "l\n",
      "o\n"
     ]
    }
   ],
   "source": [
    "for thing in 'hello':\n",
    "    print(thing)"
   ]
  },
  {
   "cell_type": "code",
   "execution_count": 4,
   "id": "66215094-8d69-4bd2-acc6-1fa3fabb4918",
   "metadata": {},
   "outputs": [
    {
     "data": {
      "text/plain": [
       "['h', 'e', 'l', 'l', 'o']"
      ]
     },
     "execution_count": 4,
     "metadata": {},
     "output_type": "execute_result"
    }
   ],
   "source": [
    "list('hello')"
   ]
  },
  {
   "cell_type": "code",
   "execution_count": 5,
   "id": "deffdc2a-8e92-48d8-8c04-aebfc52915d3",
   "metadata": {},
   "outputs": [
    {
     "data": {
      "text/plain": [
       "[1, 2, 3]"
      ]
     },
     "execution_count": 5,
     "metadata": {},
     "output_type": "execute_result"
    }
   ],
   "source": [
    "list([1, 2, 3])"
   ]
  },
  {
   "cell_type": "code",
   "execution_count": 6,
   "id": "9a6fac6e-712b-4caa-8aba-2f933cb57f5b",
   "metadata": {},
   "outputs": [
    {
     "ename": "TypeError",
     "evalue": "'int' object is not iterable",
     "output_type": "error",
     "traceback": [
      "\u001b[0;31m---------------------------------------------------------------------------\u001b[0m",
      "\u001b[0;31mTypeError\u001b[0m                                 Traceback (most recent call last)",
      "\u001b[0;32m/tmp/ipykernel_146/1902542818.py\u001b[0m in \u001b[0;36m<module>\u001b[0;34m\u001b[0m\n\u001b[0;32m----> 1\u001b[0;31m \u001b[0mlist\u001b[0m\u001b[0;34m(\u001b[0m\u001b[0;36m4\u001b[0m\u001b[0;34m)\u001b[0m\u001b[0;34m\u001b[0m\u001b[0;34m\u001b[0m\u001b[0m\n\u001b[0m",
      "\u001b[0;31mTypeError\u001b[0m: 'int' object is not iterable"
     ]
    }
   ],
   "source": [
    "list(4)"
   ]
  },
  {
   "cell_type": "code",
   "execution_count": 7,
   "id": "8baa66d7-8ef5-4abb-adf5-a53823ba0c5b",
   "metadata": {},
   "outputs": [
    {
     "data": {
      "text/plain": [
       "3"
      ]
     },
     "execution_count": 7,
     "metadata": {},
     "output_type": "execute_result"
    }
   ],
   "source": [
    "len([1, 2, 3])"
   ]
  },
  {
   "cell_type": "code",
   "execution_count": 13,
   "id": "48b7f9b9-2bd5-42ba-92b9-c101b2163607",
   "metadata": {},
   "outputs": [],
   "source": [
    "my_list = 'apple fig pear lemon'.split()"
   ]
  },
  {
   "cell_type": "code",
   "execution_count": 14,
   "id": "f710875f-0629-4b9b-853f-ca0c3ff0e391",
   "metadata": {},
   "outputs": [
    {
     "data": {
      "text/plain": [
       "['apple', 'fig', 'pear', 'lemon']"
      ]
     },
     "execution_count": 14,
     "metadata": {},
     "output_type": "execute_result"
    }
   ],
   "source": [
    "my_list"
   ]
  },
  {
   "cell_type": "code",
   "execution_count": 17,
   "id": "6ff24761-c304-40fc-a8fd-8f4e5e52525e",
   "metadata": {},
   "outputs": [],
   "source": [
    "if 'fig' in my_list: # is this thing in the list?\n",
    "    my_list.remove('fig') # if yes, remove it"
   ]
  },
  {
   "cell_type": "code",
   "execution_count": 16,
   "id": "22458eb3-7372-4cff-a9d2-5b41710ecb35",
   "metadata": {},
   "outputs": [
    {
     "data": {
      "text/plain": [
       "['apple', 'pear', 'lemon']"
      ]
     },
     "execution_count": 16,
     "metadata": {},
     "output_type": "execute_result"
    }
   ],
   "source": [
    "my_list"
   ]
  },
  {
   "cell_type": "code",
   "execution_count": 19,
   "id": "72f91047-4e44-454b-ac36-a50890707672",
   "metadata": {},
   "outputs": [
    {
     "name": "stdout",
     "output_type": "stream",
     "text": [
      "hello number 0\n",
      "hello number 1\n",
      "hello number 2\n",
      "hello number 3\n",
      "hello number 4\n",
      "hello number 5\n",
      "hello number 6\n",
      "hello number 7\n",
      "hello number 8\n",
      "hello number 9\n"
     ]
    }
   ],
   "source": [
    "for count in range(10):\n",
    "    print('hello number', count)"
   ]
  },
  {
   "cell_type": "code",
   "execution_count": 21,
   "id": "dd2b2b7e-ffa4-45a6-831d-14e406b2676c",
   "metadata": {},
   "outputs": [
    {
     "name": "stdout",
     "output_type": "stream",
     "text": [
      "hello\n",
      "hello\n",
      "hello\n",
      "hello\n",
      "hello\n"
     ]
    }
   ],
   "source": [
    "for count in range(5): # do this 5 times\n",
    "    print('hello')"
   ]
  },
  {
   "cell_type": "code",
   "execution_count": 23,
   "id": "738760fa-5426-4116-9066-721279052a7c",
   "metadata": {},
   "outputs": [
    {
     "name": "stdout",
     "output_type": "stream",
     "text": [
      "hello\n",
      "hello\n",
      "hello\n",
      "hello\n",
      "hello\n"
     ]
    }
   ],
   "source": [
    "for _ in range(5): # now we've made clear that our loop is simply repeating an action\n",
    "    print('hello')"
   ]
  },
  {
   "cell_type": "code",
   "execution_count": 24,
   "id": "4dbc074f-7c4c-4fa4-8fd8-cc6cfc3ad5e8",
   "metadata": {},
   "outputs": [],
   "source": [
    "quot, rem = divmod(13, 5)"
   ]
  },
  {
   "cell_type": "code",
   "execution_count": 26,
   "id": "91693d82-3b67-4524-9bbb-8b33280b0930",
   "metadata": {},
   "outputs": [
    {
     "data": {
      "text/plain": [
       "2"
      ]
     },
     "execution_count": 26,
     "metadata": {},
     "output_type": "execute_result"
    }
   ],
   "source": [
    "quot"
   ]
  },
  {
   "cell_type": "code",
   "execution_count": 27,
   "id": "cac94fab-3e97-4617-a72c-05bbe4d98046",
   "metadata": {},
   "outputs": [
    {
     "data": {
      "text/plain": [
       "3"
      ]
     },
     "execution_count": 27,
     "metadata": {},
     "output_type": "execute_result"
    }
   ],
   "source": [
    "rem"
   ]
  },
  {
   "cell_type": "code",
   "execution_count": 28,
   "id": "4aab584d-51ac-44ed-b909-a3e8d369d067",
   "metadata": {},
   "outputs": [],
   "source": [
    "_, rem = divmod(13, 5) # _ means I don't care to see the first return value"
   ]
  },
  {
   "cell_type": "code",
   "execution_count": 29,
   "id": "2596e668-bc3e-452c-8908-de129e036825",
   "metadata": {},
   "outputs": [
    {
     "data": {
      "text/plain": [
       "3"
      ]
     },
     "execution_count": 29,
     "metadata": {},
     "output_type": "execute_result"
    }
   ],
   "source": [
    "rem"
   ]
  },
  {
   "cell_type": "code",
   "execution_count": 38,
   "id": "72ae2ef5-5b51-4250-9900-0f7db470f9ab",
   "metadata": {},
   "outputs": [
    {
     "data": {
      "text/plain": [
       "140383896247344"
      ]
     },
     "execution_count": 38,
     "metadata": {},
     "output_type": "execute_result"
    }
   ],
   "source": [
    "id(my_list)"
   ]
  },
  {
   "cell_type": "code",
   "execution_count": 42,
   "id": "f408aa45-db85-4c54-9dcc-0d5e8f3edb10",
   "metadata": {},
   "outputs": [],
   "source": [
    "my_list = sorted(my_list)"
   ]
  },
  {
   "cell_type": "code",
   "execution_count": 46,
   "id": "769abb71-dfc0-4555-a315-b40cd615ab76",
   "metadata": {},
   "outputs": [
    {
     "name": "stdout",
     "output_type": "stream",
     "text": [
      "[-9, 1, 2, 3, 4]\n"
     ]
    }
   ],
   "source": [
    "print(my_list)"
   ]
  },
  {
   "cell_type": "code",
   "execution_count": 47,
   "id": "88a29345-529e-461f-bf6d-adc6e7d65e25",
   "metadata": {},
   "outputs": [],
   "source": [
    "my_list = [4, 1, 3, -9, 2]\n",
    "my_list = my_list.sort()"
   ]
  },
  {
   "cell_type": "code",
   "execution_count": 48,
   "id": "4be84530-dbc7-4b78-bdb6-d079373bc34f",
   "metadata": {},
   "outputs": [
    {
     "name": "stdout",
     "output_type": "stream",
     "text": [
      "None\n"
     ]
    }
   ],
   "source": [
    "print(my_list)"
   ]
  },
  {
   "cell_type": "code",
   "execution_count": 51,
   "id": "74d4d54c-99b7-408a-976e-a17b78e196c9",
   "metadata": {},
   "outputs": [
    {
     "name": "stdout",
     "output_type": "stream",
     "text": [
      "Help on method_descriptor:\n",
      "\n",
      "sort(self, /, *, key=None, reverse=False)\n",
      "    Stable sort *IN PLACE*.\n",
      "\n"
     ]
    }
   ],
   "source": [
    "help(list.sort)"
   ]
  },
  {
   "cell_type": "code",
   "execution_count": 52,
   "id": "ca2d911a-74f0-4a02-aa4b-4ff2aa145f12",
   "metadata": {},
   "outputs": [
    {
     "name": "stdout",
     "output_type": "stream",
     "text": [
      "do not do this!\n"
     ]
    }
   ],
   "source": [
    "return_value = print('do not do this!')"
   ]
  },
  {
   "cell_type": "code",
   "execution_count": 53,
   "id": "fcafcec1-8d73-432d-8475-aafa65944846",
   "metadata": {},
   "outputs": [
    {
     "name": "stdout",
     "output_type": "stream",
     "text": [
      "None\n"
     ]
    }
   ],
   "source": [
    "print(return_value)"
   ]
  },
  {
   "cell_type": "markdown",
   "id": "f001b6c9-028a-4351-b1f8-f491a3ea8845",
   "metadata": {},
   "source": [
    "## Quick Lab: Lists\n",
    "* Write a Python program to read in a list of items possibly containing duplicates, and then constructs a new list which contains the elements from the original list, with the order preserved, but the duplicates removed\n",
    "![alt-text](images/list2.png \"list2\")"
   ]
  },
  {
   "cell_type": "code",
   "execution_count": 8,
   "id": "85e62b8e-7a38-4259-802b-08780073e195",
   "metadata": {},
   "outputs": [
    {
     "name": "stdin",
     "output_type": "stream",
     "text": [
      "Enter a list of items:  Apple Fig PEAR\n"
     ]
    }
   ],
   "source": [
    "items = input('Enter a list of items: ').lower().split()"
   ]
  },
  {
   "cell_type": "code",
   "execution_count": 9,
   "id": "b3f48a4d-a87e-4fda-8816-8afbb4959ea2",
   "metadata": {},
   "outputs": [
    {
     "data": {
      "text/plain": [
       "['apple', 'fig', 'pear']"
      ]
     },
     "execution_count": 9,
     "metadata": {},
     "output_type": "execute_result"
    }
   ],
   "source": [
    "items"
   ]
  },
  {
   "cell_type": "code",
   "execution_count": 11,
   "id": "c18dbfc7-03f8-4a7f-8d3f-01edfd05b100",
   "metadata": {},
   "outputs": [
    {
     "data": {
      "text/plain": [
       "True"
      ]
     },
     "execution_count": 11,
     "metadata": {},
     "output_type": "execute_result"
    }
   ],
   "source": [
    "'fig' in items"
   ]
  },
  {
   "cell_type": "code",
   "execution_count": 12,
   "id": "e1bce702-f351-4174-86ba-4f43df665b96",
   "metadata": {},
   "outputs": [
    {
     "data": {
      "text/plain": [
       "True"
      ]
     },
     "execution_count": 12,
     "metadata": {},
     "output_type": "execute_result"
    }
   ],
   "source": [
    "'figure' not in items"
   ]
  },
  {
   "cell_type": "code",
   "execution_count": 28,
   "id": "9f96a2b1-7540-483b-8b62-34ea2b7366be",
   "metadata": {},
   "outputs": [],
   "source": [
    "# step 1: read a string (and split it into a list)\n",
    "# step 2: make a new empty list\n",
    "# step 3: for each item in the original list:\n",
    "#.            4: IF the item is NOT in the new list:\n",
    "#.                5: append it to the new list"
   ]
  },
  {
   "cell_type": "code",
   "execution_count": 34,
   "id": "6f12702b-8b62-48ec-ae10-281a8822014d",
   "metadata": {},
   "outputs": [
    {
     "name": "stdin",
     "output_type": "stream",
     "text": [
      "Enter some words:  apple fig pear apple lemon apple lime pear lime\n"
     ]
    },
    {
     "name": "stdout",
     "output_type": "stream",
     "text": [
      "adding apple\n",
      "adding fig\n",
      "adding pear\n",
      "skipping duplicate: apple\n",
      "adding lemon\n",
      "skipping duplicate: apple\n",
      "adding lime\n",
      "skipping duplicate: pear\n",
      "skipping duplicate: lime\n",
      "['apple', 'fig', 'pear', 'lemon', 'lime']\n"
     ]
    }
   ],
   "source": [
    "words = input('Enter some words: ').split() # step 1\n",
    "new_words = [] # step 2\n",
    "\n",
    "for word in words: # step 3\n",
    "    if word not in new_words: # 4\n",
    "        print('adding', word)\n",
    "        new_words.append(word)\n",
    "    else:\n",
    "        print('skipping duplicate:', word)\n",
    "        \n",
    "print(new_words)"
   ]
  },
  {
   "cell_type": "code",
   "execution_count": 39,
   "id": "e47897db-c600-46bb-ae56-8de04cbed39f",
   "metadata": {},
   "outputs": [
    {
     "name": "stdout",
     "output_type": "stream",
     "text": [
      "apple fig pear lemon lime\n",
      "apple, fig, pear, lemon, lime\n"
     ]
    }
   ],
   "source": [
    "# the default printing of a list is ugly\n",
    "# here are some options\n",
    "print(*new_words) # * = expand or explode the container into its constituent parts\n",
    "print(', '.join(new_words))"
   ]
  },
  {
   "cell_type": "markdown",
   "id": "e7163e8f-57da-45e9-aa69-5cc7d2589ff2",
   "metadata": {},
   "source": [
    "## Lab: Lists\n",
    "* Write a Python program to maintain a list \n",
    "  * Read input until the user enters 'quit'\n",
    "  * Words that the user enters should be added to the list\n",
    "  * If a word begins with '-' (e.g., '-foo') it should be removed from the list\n",
    "  * If the user enters only a '-', the list should be reversed\n",
    "  * After each operation, print the list\n",
    "  * Extras:\n",
    "      * If user enters more than one word (e.g, __foo bar__), add \"foo\" and \"bar\" to the list, rather than \"foo bar\"\n",
    "      * Same for \"-\", i.e., __-foo bar__ would remove \"foo\" and \"bar\" from the  list"
   ]
  },
  {
   "cell_type": "code",
   "execution_count": null,
   "id": "f08367d6-9f38-4c1c-9096-9979857d5339",
   "metadata": {},
   "outputs": [],
   "source": [
    "# step 1: create an empty list\n",
    "# 2: while user does not enter 'quit':\n",
    "# 3:   add entry to list\n",
    "# 4:   display list"
   ]
  },
  {
   "cell_type": "code",
   "execution_count": null,
   "id": "8f3956aa-7237-43d8-902a-dc8dd98d15cb",
   "metadata": {},
   "outputs": [],
   "source": [
    "words = [] # step 1\n",
    "while (entry := input('What? ')) != 'quit': # 2\n",
    "    words.append(entry)\n",
    "    print(', '.join(words))  "
   ]
  },
  {
   "cell_type": "code",
   "execution_count": 14,
   "id": "4d56b825-d063-446e-9404-a3bc06c18576",
   "metadata": {},
   "outputs": [
    {
     "name": "stdin",
     "output_type": "stream",
     "text": [
      "Enter:  apple\n"
     ]
    },
    {
     "name": "stdout",
     "output_type": "stream",
     "text": [
      "process apple\n"
     ]
    },
    {
     "name": "stdin",
     "output_type": "stream",
     "text": [
      "Enter:  fig\n"
     ]
    },
    {
     "name": "stdout",
     "output_type": "stream",
     "text": [
      "process fig\n"
     ]
    },
    {
     "name": "stdin",
     "output_type": "stream",
     "text": [
      "Enter:  pear\n"
     ]
    },
    {
     "name": "stdout",
     "output_type": "stream",
     "text": [
      "process pear\n"
     ]
    },
    {
     "name": "stdin",
     "output_type": "stream",
     "text": [
      "Enter:  quit\n"
     ]
    },
    {
     "name": "stdout",
     "output_type": "stream",
     "text": [
      "process quit\n"
     ]
    }
   ],
   "source": [
    "response = ''\n",
    "while response != 'quit':\n",
    "    response = input('Enter: ')\n",
    "    print('process', response) # some processing for the user's input"
   ]
  },
  {
   "cell_type": "code",
   "execution_count": 15,
   "id": "cf5db53c-84eb-40ec-a1e5-59cb51400986",
   "metadata": {},
   "outputs": [
    {
     "name": "stdin",
     "output_type": "stream",
     "text": [
      "Enter:  apple\n"
     ]
    },
    {
     "name": "stdout",
     "output_type": "stream",
     "text": [
      "process apple\n"
     ]
    },
    {
     "name": "stdin",
     "output_type": "stream",
     "text": [
      "Enter:  fig\n"
     ]
    },
    {
     "name": "stdout",
     "output_type": "stream",
     "text": [
      "process fig\n"
     ]
    },
    {
     "name": "stdin",
     "output_type": "stream",
     "text": [
      "Enter:  pear\n"
     ]
    },
    {
     "name": "stdout",
     "output_type": "stream",
     "text": [
      "process pear\n"
     ]
    },
    {
     "name": "stdin",
     "output_type": "stream",
     "text": [
      "Enter:  quit\n"
     ]
    }
   ],
   "source": [
    "response = '' # priming the pump\n",
    "while response != 'quit':\n",
    "    response = input('Enter: ')\n",
    "    if response == 'quit':\n",
    "        break\n",
    "    print('process', response) # some processing for the user's input"
   ]
  },
  {
   "cell_type": "code",
   "execution_count": 16,
   "id": "6495923c-0627-41f5-8855-5e1a4507baeb",
   "metadata": {},
   "outputs": [
    {
     "name": "stdin",
     "output_type": "stream",
     "text": [
      "Enter:  apple\n"
     ]
    },
    {
     "name": "stdout",
     "output_type": "stream",
     "text": [
      "process apple\n"
     ]
    },
    {
     "name": "stdin",
     "output_type": "stream",
     "text": [
      "Enter:  fig\n"
     ]
    },
    {
     "name": "stdout",
     "output_type": "stream",
     "text": [
      "process fig\n"
     ]
    },
    {
     "name": "stdin",
     "output_type": "stream",
     "text": [
      "Enter:  pear\n"
     ]
    },
    {
     "name": "stdout",
     "output_type": "stream",
     "text": [
      "process pear\n"
     ]
    },
    {
     "name": "stdin",
     "output_type": "stream",
     "text": [
      "Enter:  quit\n"
     ]
    }
   ],
   "source": [
    "while True:\n",
    "    response = input('Enter: ')\n",
    "    if response == 'quit':\n",
    "        break\n",
    "    print('process', response) "
   ]
  },
  {
   "cell_type": "code",
   "execution_count": null,
   "id": "4a467eb3-afd1-4475-97ef-d474feef2f9b",
   "metadata": {},
   "outputs": [],
   "source": [
    "response = '' # priming the pump\n",
    "while response != 'quit':\n",
    "    print('process', response) #\n",
    "    response = input('Enter: ')"
   ]
  },
  {
   "cell_type": "code",
   "execution_count": 19,
   "id": "0e83bf05-07c3-485f-b712-01312a1f1657",
   "metadata": {},
   "outputs": [
    {
     "name": "stdin",
     "output_type": "stream",
     "text": [
      "Enter:  apple\n"
     ]
    },
    {
     "name": "stdout",
     "output_type": "stream",
     "text": [
      "process apple\n"
     ]
    },
    {
     "name": "stdin",
     "output_type": "stream",
     "text": [
      "Enter:  quit\n"
     ]
    }
   ],
   "source": [
    "response = input('Enter: ') # prime the pump \n",
    "while response != 'quit':\n",
    "    print('process', response) #\n",
    "    response = input('Enter: ')"
   ]
  },
  {
   "cell_type": "code",
   "execution_count": 27,
   "id": "1e05b67a-08a8-40c8-84ef-c37e219113e2",
   "metadata": {},
   "outputs": [
    {
     "name": "stdin",
     "output_type": "stream",
     "text": [
      "Enter something:  foo\n"
     ]
    },
    {
     "name": "stdout",
     "output_type": "stream",
     "text": [
      "process foo\n"
     ]
    },
    {
     "name": "stdin",
     "output_type": "stream",
     "text": [
      "Enter something:  bar\n"
     ]
    },
    {
     "name": "stdout",
     "output_type": "stream",
     "text": [
      "process bar\n"
     ]
    },
    {
     "name": "stdin",
     "output_type": "stream",
     "text": [
      "Enter something:  -foo bar\n"
     ]
    },
    {
     "name": "stdout",
     "output_type": "stream",
     "text": [
      "process -foo bar\n"
     ]
    },
    {
     "name": "stdin",
     "output_type": "stream",
     "text": [
      "Enter something:  quit\n"
     ]
    }
   ],
   "source": [
    "# walrus operator or an \"assignment expression\" (Python 3.8+)\n",
    "while (response := input('Enter something: ')) != 'quit':\n",
    "    print('process', response)"
   ]
  },
  {
   "cell_type": "code",
   "execution_count": null,
   "id": "00e5b1c9-af4c-4435-b1df-23df81b34115",
   "metadata": {},
   "outputs": [],
   "source": [
    "# step 1: create an empty list\n",
    "# 2: while user does not enter 'quit':\n",
    "# 3:   if entry starts with '-':\n",
    "#         4: if entry equals '-':\n",
    "#.           5: reverse the list\n",
    "#.           else:\n",
    "#.           6: remove entry from list\n",
    "#.     else\n",
    "#.        7: add entry to list\n",
    "# 8:   display list"
   ]
  },
  {
   "cell_type": "code",
   "execution_count": null,
   "id": "6fc373ce-e294-4809-ad10-c36be0584dc1",
   "metadata": {},
   "outputs": [],
   "source": [
    "words = [] # step 1\n",
    "while (entry := input('What? ')) != 'quit': # 2\n",
    "    if entry == '': # \"peel off\" the bad cases, so that the loop has the good cases\n",
    "        continue\n",
    "    if entry[0] == '-': # 3\n",
    "        if entry == '-': # 4\n",
    "            words = words[::-1] # 5, idiomatic, not as efficient, but...\n",
    "            # words.reverse()\n",
    "        else:\n",
    "            words.remove(entry[1:]) # 6, strip off '-' before remove\n",
    "    else:\n",
    "        words.append(entry) # 7\n",
    "    print(', '.join(words))"
   ]
  },
  {
   "cell_type": "code",
   "execution_count": 81,
   "id": "4d1bf07e-7a36-4c32-b38b-9b08d8cf05b1",
   "metadata": {},
   "outputs": [
    {
     "name": "stdin",
     "output_type": "stream",
     "text": [
      "What?  uit\n"
     ]
    },
    {
     "name": "stdout",
     "output_type": "stream",
     "text": [
      "uit\n"
     ]
    },
    {
     "name": "stdin",
     "output_type": "stream",
     "text": [
      "What?  quit\n"
     ]
    }
   ],
   "source": [
    "words = [] # step 1\n",
    "while (entry := input('What? ')) != 'quit': # 2\n",
    "    if entry == '': # \"peel off\" the bad cases, so that the loop has the good cases\n",
    "        continue\n",
    "    if entry[0] == '-': # 3\n",
    "        if entry == '-': # 4\n",
    "            words = words[::-1] # 5, idiomatic, not as efficient, but...\n",
    "            # words.reverse()\n",
    "        else: # deal w/multiple removes\n",
    "            for word in entry[1:].split(): # string off the '-', split up the line into words to be removed\n",
    "                words.remove(word)\n",
    "    else:\n",
    "        words += entry.split() # 7\n",
    "    print(', '.join(words))"
   ]
  },
  {
   "cell_type": "code",
   "execution_count": 82,
   "id": "c0f2b366-8838-4c3f-9781-b1c44b1c43f5",
   "metadata": {},
   "outputs": [
    {
     "name": "stdin",
     "output_type": "stream",
     "text": [
      "What?  quit\n"
     ]
    }
   ],
   "source": [
    "words = [] # step 1\n",
    "while (entry := input('What? ')) != 'quit': # 2\n",
    "    # \"peel off\" the bad cases, so that the loop has the good cases\n",
    "    if not entry: # if the container is empty (because empty containers are False and \"not False\" is True)\n",
    "        continue\n",
    "    if entry[0] == '-': # 3\n",
    "        if entry == '-': # 4\n",
    "            words = words[::-1] # 5, idiomatic, not as efficient, but...\n",
    "            # words.reverse()\n",
    "        else: # deal w/multiple removes\n",
    "            for word in entry[1:].split(): # string off the '-', split up the line into words to be removed\n",
    "                words.remove(word)\n",
    "    else:\n",
    "        words += entry.split() # 7\n",
    "    print(', '.join(words))"
   ]
  },
  {
   "cell_type": "code",
   "execution_count": 32,
   "id": "07cea124-9795-4ec3-8b6c-e3e26ee4be51",
   "metadata": {},
   "outputs": [
    {
     "data": {
      "text/plain": [
       "[]"
      ]
     },
     "execution_count": 32,
     "metadata": {},
     "output_type": "execute_result"
    }
   ],
   "source": [
    "list()"
   ]
  },
  {
   "cell_type": "code",
   "execution_count": 35,
   "id": "53da2ed1-e28f-4141-896c-232a8848c29f",
   "metadata": {},
   "outputs": [
    {
     "data": {
      "text/plain": [
       "['apple', 'fig', 'pear', 'apple', 'lemon', 'apple', 'lime', 'pear', 'lime']"
      ]
     },
     "execution_count": 35,
     "metadata": {},
     "output_type": "execute_result"
    }
   ],
   "source": [
    "words"
   ]
  },
  {
   "cell_type": "code",
   "execution_count": 37,
   "id": "662fbc26-8356-4082-981f-a047aa307f20",
   "metadata": {},
   "outputs": [
    {
     "name": "stdout",
     "output_type": "stream",
     "text": [
      "['apple', 'fig', 'pear', 'apple', 'lemon', 'apple', 'lime', 'pear', 'lime']\n"
     ]
    }
   ],
   "source": [
    "print(words) # in this call we are sending the entire list to the print() function"
   ]
  },
  {
   "cell_type": "code",
   "execution_count": 38,
   "id": "2fa1331c-f6c5-4368-b010-c63c9d1b2bd4",
   "metadata": {},
   "outputs": [
    {
     "name": "stdout",
     "output_type": "stream",
     "text": [
      "apple fig pear apple lemon apple lime pear lime\n"
     ]
    }
   ],
   "source": [
    "print(*words) # in this call we are sending the unpacked elements of the list to print()\n",
    "# it's as if we wrote print('apple', 'fig', 'pear', ...)"
   ]
  },
  {
   "cell_type": "code",
   "execution_count": 41,
   "id": "7dc33c7e-662b-4e26-9469-ba6294a79df9",
   "metadata": {},
   "outputs": [
    {
     "data": {
      "text/plain": [
       "'12345'"
      ]
     },
     "execution_count": 41,
     "metadata": {},
     "output_type": "execute_result"
    }
   ],
   "source": [
    "'-12345'[1:]"
   ]
  },
  {
   "cell_type": "code",
   "execution_count": 42,
   "id": "4922a183-2e08-4e68-b64b-d33de77928ef",
   "metadata": {},
   "outputs": [],
   "source": [
    "list1 = 'foo bar baz'.split()"
   ]
  },
  {
   "cell_type": "code",
   "execution_count": 43,
   "id": "338f19d7-7db2-42ce-99af-327e4a0309c6",
   "metadata": {},
   "outputs": [
    {
     "data": {
      "text/plain": [
       "['foo', 'bar', 'baz']"
      ]
     },
     "execution_count": 43,
     "metadata": {},
     "output_type": "execute_result"
    }
   ],
   "source": [
    "list1"
   ]
  },
  {
   "cell_type": "code",
   "execution_count": 44,
   "id": "75681e3a-d235-4348-9ab3-dea63ab7cb67",
   "metadata": {},
   "outputs": [
    {
     "name": "stdout",
     "output_type": "stream",
     "text": [
      "not empty\n"
     ]
    }
   ],
   "source": [
    "if len(list1) > 0:\n",
    "    print('not empty')"
   ]
  },
  {
   "cell_type": "code",
   "execution_count": 46,
   "id": "45bb1f48-bd09-485c-8715-3765073148a9",
   "metadata": {},
   "outputs": [
    {
     "name": "stdout",
     "output_type": "stream",
     "text": [
      "not empty\n"
     ]
    }
   ],
   "source": [
    "if list1: # not a Boolean expression, BUT Python will use \"truthiness\" to treat it as one\n",
    "    print('not empty')"
   ]
  },
  {
   "cell_type": "code",
   "execution_count": 47,
   "id": "a3740b64-f747-4e83-a739-a1003ef58fa1",
   "metadata": {},
   "outputs": [],
   "source": [
    "if []:\n",
    "    print('cannot get here')"
   ]
  },
  {
   "cell_type": "code",
   "execution_count": 48,
   "id": "3df17247-4cc7-4b46-93b7-65b5df4781d2",
   "metadata": {},
   "outputs": [],
   "source": [
    "num_list = [34, 10, -37, 1]"
   ]
  },
  {
   "cell_type": "code",
   "execution_count": 50,
   "id": "c0ea3337-6526-49f9-be09-b5fe2872c591",
   "metadata": {},
   "outputs": [
    {
     "name": "stdout",
     "output_type": "stream",
     "text": [
      "34 0\n",
      "10 1\n",
      "-37 2\n",
      "1 3\n"
     ]
    }
   ],
   "source": [
    "i = 0\n",
    "for num in num_list:\n",
    "    print(num, i)\n",
    "    i += 1"
   ]
  },
  {
   "cell_type": "code",
   "execution_count": 51,
   "id": "9e9d9593-4d60-43d9-a688-ee88df6e79a3",
   "metadata": {},
   "outputs": [
    {
     "data": {
      "text/plain": [
       "list"
      ]
     },
     "execution_count": 51,
     "metadata": {},
     "output_type": "execute_result"
    }
   ],
   "source": [
    "type(num_list)"
   ]
  },
  {
   "cell_type": "code",
   "execution_count": 52,
   "id": "480e1d35-1855-4614-aa91-5f8352dacd5e",
   "metadata": {},
   "outputs": [
    {
     "data": {
      "text/plain": [
       "str"
      ]
     },
     "execution_count": 52,
     "metadata": {},
     "output_type": "execute_result"
    }
   ],
   "source": [
    "type('hi')"
   ]
  },
  {
   "cell_type": "code",
   "execution_count": 53,
   "id": "83f5c105-ef5a-4a79-a974-745f945a408a",
   "metadata": {},
   "outputs": [],
   "source": [
    "import random"
   ]
  },
  {
   "cell_type": "code",
   "execution_count": 54,
   "id": "9b2a5401-9b01-4a34-8c4d-a4cdef5a6e83",
   "metadata": {},
   "outputs": [
    {
     "data": {
      "text/plain": [
       "['BPF',\n",
       " 'LOG4',\n",
       " 'NV_MAGICCONST',\n",
       " 'RECIP_BPF',\n",
       " 'Random',\n",
       " 'SG_MAGICCONST',\n",
       " 'SystemRandom',\n",
       " 'TWOPI',\n",
       " '_Sequence',\n",
       " '_Set',\n",
       " '__all__',\n",
       " '__builtins__',\n",
       " '__cached__',\n",
       " '__doc__',\n",
       " '__file__',\n",
       " '__loader__',\n",
       " '__name__',\n",
       " '__package__',\n",
       " '__spec__',\n",
       " '_accumulate',\n",
       " '_acos',\n",
       " '_bisect',\n",
       " '_ceil',\n",
       " '_cos',\n",
       " '_e',\n",
       " '_exp',\n",
       " '_floor',\n",
       " '_inst',\n",
       " '_log',\n",
       " '_os',\n",
       " '_pi',\n",
       " '_random',\n",
       " '_repeat',\n",
       " '_sha512',\n",
       " '_sin',\n",
       " '_sqrt',\n",
       " '_test',\n",
       " '_test_generator',\n",
       " '_urandom',\n",
       " '_warn',\n",
       " 'betavariate',\n",
       " 'choice',\n",
       " 'choices',\n",
       " 'expovariate',\n",
       " 'gammavariate',\n",
       " 'gauss',\n",
       " 'getrandbits',\n",
       " 'getstate',\n",
       " 'lognormvariate',\n",
       " 'normalvariate',\n",
       " 'paretovariate',\n",
       " 'randbytes',\n",
       " 'randint',\n",
       " 'random',\n",
       " 'randrange',\n",
       " 'sample',\n",
       " 'seed',\n",
       " 'setstate',\n",
       " 'shuffle',\n",
       " 'triangular',\n",
       " 'uniform',\n",
       " 'vonmisesvariate',\n",
       " 'weibullvariate']"
      ]
     },
     "execution_count": 54,
     "metadata": {},
     "output_type": "execute_result"
    }
   ],
   "source": [
    "dir(random)"
   ]
  },
  {
   "cell_type": "code",
   "execution_count": 55,
   "id": "8a41511e-2a26-4122-8ff9-7bab1b4123a2",
   "metadata": {},
   "outputs": [
    {
     "data": {
      "text/plain": [
       "140380335445632"
      ]
     },
     "execution_count": 55,
     "metadata": {},
     "output_type": "execute_result"
    }
   ],
   "source": [
    "id(random)"
   ]
  },
  {
   "cell_type": "code",
   "execution_count": 56,
   "id": "12b3a752-670d-478e-baf2-1dd7194faaa1",
   "metadata": {},
   "outputs": [],
   "source": [
    "from random import randint, randrange"
   ]
  },
  {
   "cell_type": "code",
   "execution_count": 57,
   "id": "3895bc03-c457-4464-b01d-7909c276460a",
   "metadata": {},
   "outputs": [
    {
     "data": {
      "text/plain": [
       "4"
      ]
     },
     "execution_count": 57,
     "metadata": {},
     "output_type": "execute_result"
    }
   ],
   "source": [
    "randint(1, 10)"
   ]
  },
  {
   "cell_type": "code",
   "execution_count": 59,
   "id": "5e793ff1-5801-405a-83f7-354e9d03943d",
   "metadata": {},
   "outputs": [
    {
     "data": {
      "text/plain": [
       "4"
      ]
     },
     "execution_count": 59,
     "metadata": {},
     "output_type": "execute_result"
    }
   ],
   "source": [
    "randrange(1, 10)"
   ]
  },
  {
   "cell_type": "code",
   "execution_count": 60,
   "id": "ab54fb87-891c-4906-ac50-a6932d289614",
   "metadata": {},
   "outputs": [],
   "source": [
    "from math import sin, cos, pi"
   ]
  },
  {
   "cell_type": "code",
   "execution_count": 61,
   "id": "9a7946ad-b4e7-44e6-95d6-4931aeb02f31",
   "metadata": {},
   "outputs": [
    {
     "data": {
      "text/plain": [
       "1.0"
      ]
     },
     "execution_count": 61,
     "metadata": {},
     "output_type": "execute_result"
    }
   ],
   "source": [
    "sin(pi / 2.0)"
   ]
  },
  {
   "cell_type": "code",
   "execution_count": 65,
   "id": "73763311-425b-4c18-be59-6ec54572bd5e",
   "metadata": {},
   "outputs": [
    {
     "data": {
      "text/plain": [
       "False"
      ]
     },
     "execution_count": 65,
     "metadata": {},
     "output_type": "execute_result"
    }
   ],
   "source": [
    "'antidisestablishmentarianism'[-1] in 'aeiou'"
   ]
  },
  {
   "cell_type": "code",
   "execution_count": 64,
   "id": "0b1ca361-a4dc-416c-adb0-63444697a42b",
   "metadata": {},
   "outputs": [
    {
     "data": {
      "text/plain": [
       "True"
      ]
     },
     "execution_count": 64,
     "metadata": {},
     "output_type": "execute_result"
    }
   ],
   "source": [
    "'hello'[-1] in 'aeiou'"
   ]
  },
  {
   "cell_type": "code",
   "execution_count": 66,
   "id": "157ce61c-28b4-4195-87e5-81f047fe27b4",
   "metadata": {},
   "outputs": [
    {
     "data": {
      "text/plain": [
       "[1, 2, 3, 4, 5, 6, 7, 8, 9]"
      ]
     },
     "execution_count": 66,
     "metadata": {},
     "output_type": "execute_result"
    }
   ],
   "source": [
    "list(range(1, 10))"
   ]
  },
  {
   "cell_type": "code",
   "execution_count": 68,
   "id": "265e0b4f-aab1-4c84-8940-a9e001bab16d",
   "metadata": {},
   "outputs": [
    {
     "name": "stdout",
     "output_type": "stream",
     "text": [
      "[100, 99, 98, 97, 96, 95, 94, 93, 92, 91, 90, 89, 88, 87, 86, 85, 84, 83, 82, 81, 80, 79, 78, 77, 76, 75, 74, 73, 72, 71, 70, 69, 68, 67, 66, 65, 64, 63, 62, 61, 60, 59, 58, 57, 56, 55, 54, 53, 52, 51, 50, 49, 48, 47, 46, 45, 44, 43, 42, 41, 40, 39, 38, 37, 36, 35, 34, 33, 32, 31, 30, 29, 28, 27, 26, 25, 24, 23, 22, 21, 20, 19, 18, 17, 16, 15, 14, 13, 12, 11, 10, 9, 8, 7, 6, 5, 4, 3, 2, 1]\n"
     ]
    }
   ],
   "source": [
    "print(list(range(100, 0, -1)))"
   ]
  },
  {
   "cell_type": "markdown",
   "id": "9ae4f324-e444-42dd-b494-f40e7a874ca3",
   "metadata": {},
   "source": [
    "## Lab: List Comprehensions\n",
    "*  Start with Cartesian product example (colors x sizes of t-shirts) and add a third list, __`sleeves = ['short', 'long']`__ then write a new listcomp which generates the Cartesian product __`colors x sizes x sleeves`__. __`tshirts`__ should look like this:<pre><b>\n",
    "    [['black', 'S', 'short'],\n",
    "     ['black', 'S', 'long'],\n",
    "     ['black', 'M', 'short'],\n",
    "     ['black', 'M', 'long'],\n",
    "     ['black', 'L', 'short'],\n",
    "     ['black', 'L', 'long'],\n",
    "     ['white', 'S', 'short'],\n",
    "     ['white', 'S', 'long'],\n",
    "     ['white', 'M', 'short'],\n",
    "     ['white', 'M', 'long'],\n",
    "     ['white', 'L', 'short'],\n",
    "     ['white', 'L', 'long']]\n",
    "     \n",
    " </b></pre>\n",
    "* Use a list comprehension to create a list of the squares of the integers from 1 to 25 (i.e, 1, 4, 9, 16, …, 625)\n",
    "* Given a list of words, create a second list which contains all the words from the first list which do not end with a vowel\n",
    "* Use a list comprehension to create a list of the integers from 1 to 100 which are not divisible by 5\n",
    "* Use a list comprehension and __`zip()`__ to create a list of lists, where the list items are name and ID number that you grabbed from separate lists of names and ID numbers\n",
    "  * start with a list of, say, 5 names ['John', 'Mary', 'Edward', 'Linda', 'Dinesh']\n",
    "  * and a list of, say, 5 ID numbers [1003, 2043, 8762, 7862, 1093]\n",
    "  * additional wrinkle: do not include any names whose corresponding ID is -1"
   ]
  },
  {
   "cell_type": "code",
   "execution_count": 70,
   "id": "d71d5508-53a9-4597-9ddb-eba57c7a8478",
   "metadata": {},
   "outputs": [],
   "source": [
    "colors = ['black', 'white']\n",
    "sizes = ['S', 'M', 'L', 'XL']\n",
    "sleeves = ['short', 'long'] # add a third dimension–sleeve length"
   ]
  },
  {
   "cell_type": "code",
   "execution_count": 74,
   "id": "8c62dce9-2a62-423a-baa4-b7fd7ff86423",
   "metadata": {},
   "outputs": [
    {
     "data": {
      "text/plain": [
       "[['black', 'S', 'short'],\n",
       " ['black', 'S', 'long'],\n",
       " ['white', 'S', 'short'],\n",
       " ['white', 'S', 'long'],\n",
       " ['black', 'M', 'short'],\n",
       " ['black', 'M', 'long'],\n",
       " ['white', 'M', 'short'],\n",
       " ['white', 'M', 'long'],\n",
       " ['black', 'L', 'short'],\n",
       " ['black', 'L', 'long'],\n",
       " ['white', 'L', 'short'],\n",
       " ['white', 'L', 'long'],\n",
       " ['black', 'XL', 'short'],\n",
       " ['black', 'XL', 'long'],\n",
       " ['white', 'XL', 'short'],\n",
       " ['white', 'XL', 'long']]"
      ]
     },
     "execution_count": 74,
     "metadata": {},
     "output_type": "execute_result"
    }
   ],
   "source": [
    "# we need to add the third dimension here as well\n",
    "tshirts = [[color, size, sleeve] for size in sizes\n",
    "                                    for color in colors\n",
    "                                       for sleeve in sleeves]\n",
    "tshirts"
   ]
  },
  {
   "cell_type": "code",
   "execution_count": 79,
   "id": "199236ce-6fd9-4743-a751-f7f49d285ca1",
   "metadata": {},
   "outputs": [
    {
     "name": "stdout",
     "output_type": "stream",
     "text": [
      "[1, 4, 9, 16, 25, 36, 49, 64, 81, 100, 121, 144, 169, 196, 225, 256, 289, 324, 361, 400, 441, 484, 529, 576, 625]\n"
     ]
    }
   ],
   "source": [
    "# squares is a/becomes a list of num times num for each num 1..25\n",
    "squares = [num ** 2 for num in range(1, 26)]\n",
    "print(squares)"
   ]
  },
  {
   "cell_type": "code",
   "execution_count": null,
   "id": "fd8087bd-39b9-471f-950f-24db3b85e025",
   "metadata": {},
   "outputs": [],
   "source": [
    "words = 'eggs cheese ziti cream milk apple'.split()\n",
    "# n_v_w is a list of words–find each word which doesn't end in vowel\n",
    "non_vowel_words = [word for word in words\n",
    "                            if word[-1] not in 'aeiou']\n",
    "print(non_vowel_words)"
   ]
  },
  {
   "cell_type": "code",
   "execution_count": 80,
   "id": "b17ac887-bf0d-471e-b2cb-35adcdaf9b91",
   "metadata": {},
   "outputs": [
    {
     "name": "stdout",
     "output_type": "stream",
     "text": [
      "[1, 2, 3, 4, 6, 7, 8, 9, 11, 12, 13, 14, 16, 17, 18, 19, 21, 22, 23, 24, 26, 27, 28, 29, 31, 32, 33, 34, 36, 37, 38, 39, 41, 42, 43, 44, 46, 47, 48, 49, 51, 52, 53, 54, 56, 57, 58, 59, 61, 62, 63, 64, 66, 67, 68, 69, 71, 72, 73, 74, 76, 77, 78, 79, 81, 82, 83, 84, 86, 87, 88, 89, 91, 92, 93, 94, 96, 97, 98, 99]\n"
     ]
    }
   ],
   "source": [
    "# n_d_by_5 is a list of nums from the range 1..100 ONLY IF the\n",
    "# remainder when dividing by 5 is non-zero\n",
    "no_divis_by_5 = [num for num in range(1, 101)\n",
    "                         if num % 5] # 0, 1, 2, 3, 4\n",
    "print(no_divis_by_5)"
   ]
  },
  {
   "cell_type": "code",
   "execution_count": null,
   "id": "8b98a138-6826-4d83-b9d9-54b8857b3ecb",
   "metadata": {},
   "outputs": [],
   "source": [
    "names = ['John', 'Mary', 'Edward', 'Linda', 'Dinesh']\n",
    "nums = [1003, 2043, 8762, 7862, 1093]\n",
    "employees = [[name, num] for name, num in zip(names, nums)]\n",
    "print(employees)"
   ]
  },
  {
   "cell_type": "code",
   "execution_count": null,
   "id": "bb5be7bc-9e55-4ca9-ad97-1a65dae2c6b4",
   "metadata": {},
   "outputs": [],
   "source": [
    "names = ['John', 'Mary', 'Edward', 'Linda', 'Dinesh']\n",
    "nums = [1003, 2043, -1, 7862, -1]\n",
    "employees = [[name, num] for name, num in zip(names, nums)\n",
    "                            if num != -1]\n",
    "print(employees)"
   ]
  },
  {
   "cell_type": "code",
   "execution_count": 83,
   "id": "3f76b50d-a805-4550-a6bd-6c32c2997aee",
   "metadata": {},
   "outputs": [],
   "source": [
    "# Dave Grice's example\n",
    "cars = ['Tesla', 'Fisker', 'Rivian', 'Lordstown', 'Lucid', 'Bollinger', 'Byton', 'Lolly']"
   ]
  },
  {
   "cell_type": "code",
   "execution_count": 88,
   "id": "7e036210-d810-49ed-ae34-12ccbb61a4c7",
   "metadata": {},
   "outputs": [
    {
     "name": "stdout",
     "output_type": "stream",
     "text": [
      "['Tesla', 'Lordstown', 'Lucid', 'Bollinger', 'Lolly']\n"
     ]
    }
   ],
   "source": [
    "l_cars = [car for car in cars if 'l' in car or 'L' in car]\n",
    "print(l_cars)"
   ]
  },
  {
   "cell_type": "code",
   "execution_count": 91,
   "id": "9f9705c1-0b91-4bbf-b7a5-7253709f0bef",
   "metadata": {},
   "outputs": [
    {
     "name": "stdout",
     "output_type": "stream",
     "text": [
      "['TESLA', 'LORDSTOWN', 'LUCID', 'BOLLINGER', 'LOLLY']\n"
     ]
    }
   ],
   "source": [
    "# let's try to do it by ignoring case and looking for an 'l'\n",
    "l_cars = [car.upper() for car in cars if 'l' in car.lower()]\n",
    "print(l_cars)"
   ]
  },
  {
   "cell_type": "code",
   "execution_count": 92,
   "id": "e6ffd6d4-50c2-433e-811e-b2581618f499",
   "metadata": {},
   "outputs": [
    {
     "data": {
      "text/plain": [
       "25"
      ]
     },
     "execution_count": 92,
     "metadata": {},
     "output_type": "execute_result"
    }
   ],
   "source": [
    "(2 + 3) * 5"
   ]
  },
  {
   "cell_type": "code",
   "execution_count": 93,
   "id": "e6107d71-4e26-4f38-8846-017f895e7a67",
   "metadata": {},
   "outputs": [
    {
     "data": {
      "text/plain": [
       "10"
      ]
     },
     "execution_count": 93,
     "metadata": {},
     "output_type": "execute_result"
    }
   ],
   "source": [
    "(2) * 5"
   ]
  },
  {
   "cell_type": "code",
   "execution_count": 95,
   "id": "6a8d323e-a911-45a9-b9b6-b141d592a6e7",
   "metadata": {},
   "outputs": [
    {
     "data": {
      "text/plain": [
       "'stringstringstringstring'"
      ]
     },
     "execution_count": 95,
     "metadata": {},
     "output_type": "execute_result"
    }
   ],
   "source": [
    "('string') * 4"
   ]
  },
  {
   "cell_type": "code",
   "execution_count": 96,
   "id": "9900c04d-6ad2-45c1-8147-f6c744bc0390",
   "metadata": {},
   "outputs": [],
   "source": [
    "my_tuple = 1, 2, 3"
   ]
  },
  {
   "cell_type": "code",
   "execution_count": 97,
   "id": "a261c74f-d5ee-4dbb-920f-5f9cd0fa7acd",
   "metadata": {},
   "outputs": [
    {
     "data": {
      "text/plain": [
       "(1, 2, 3)"
      ]
     },
     "execution_count": 97,
     "metadata": {},
     "output_type": "execute_result"
    }
   ],
   "source": [
    "my_tuple"
   ]
  },
  {
   "cell_type": "code",
   "execution_count": 98,
   "id": "34c92b83-8bf7-4e6f-8555-4bcabf887dac",
   "metadata": {},
   "outputs": [
    {
     "ename": "TypeError",
     "evalue": "'tuple' object doesn't support item deletion",
     "output_type": "error",
     "traceback": [
      "\u001b[0;31m---------------------------------------------------------------------------\u001b[0m",
      "\u001b[0;31mTypeError\u001b[0m                                 Traceback (most recent call last)",
      "Input \u001b[0;32mIn [98]\u001b[0m, in \u001b[0;36m<cell line: 1>\u001b[0;34m()\u001b[0m\n\u001b[0;32m----> 1\u001b[0m \u001b[38;5;28;01mdel\u001b[39;00m my_tuple[\u001b[38;5;241m-\u001b[39m\u001b[38;5;241m1\u001b[39m]\n",
      "\u001b[0;31mTypeError\u001b[0m: 'tuple' object doesn't support item deletion"
     ]
    }
   ],
   "source": [
    "del my_tuple[-1]"
   ]
  },
  {
   "cell_type": "markdown",
   "id": "00e81b88-790e-4e25-ae9d-b5044f3633e9",
   "metadata": {},
   "source": [
    "## Lab: Tuples\n",
    "* Create a tuple representing a city w/fields of your own choosing (e.g., city name, state/country, population, elevation, etc.)\n",
    "* \"Add\" a field to the tuple–since tuples are immutable, you will have to do this by concatenating tuples\n",
    "* Using the _in_ operator, check to see if a particular value is in the tuple\n",
    "* Using the __`.index()`__ method, find the position of a particular value in the tuple"
   ]
  },
  {
   "cell_type": "code",
   "execution_count": 99,
   "id": "fdc14f95-5b95-40d0-b36f-cd51900fada8",
   "metadata": {},
   "outputs": [
    {
     "data": {
      "text/plain": [
       "'stringthing'"
      ]
     },
     "execution_count": 99,
     "metadata": {},
     "output_type": "execute_result"
    }
   ],
   "source": [
    "'string' + 'thing' # generates a brand new string"
   ]
  },
  {
   "cell_type": "code",
   "execution_count": 122,
   "id": "981df0c8-5776-4d66-8dc6-6fad8809a3c1",
   "metadata": {},
   "outputs": [],
   "source": [
    "city = 'Jakarta', 'Indonesia', 1527, 664.01, 3540, 7062, 34_540_000, \"UTC +7\""
   ]
  },
  {
   "cell_type": "code",
   "execution_count": 123,
   "id": "31adaf5f-a15e-4639-94f6-64b06254cd1c",
   "metadata": {},
   "outputs": [
    {
     "name": "stdout",
     "output_type": "stream",
     "text": [
      "('Jakarta', 'Indonesia', 1527, 664.01, 3540, 7062, 34540000, 'UTC +7')\n"
     ]
    }
   ],
   "source": [
    "city = city + (\"SHIA\",) # add airport\n",
    "print(city)"
   ]
  },
  {
   "cell_type": "code",
   "execution_count": 120,
   "id": "3f295784-dba8-4afd-bb7a-bf5e2f0763c6",
   "metadata": {},
   "outputs": [
    {
     "data": {
      "text/plain": [
       "True"
      ]
     },
     "execution_count": 120,
     "metadata": {},
     "output_type": "execute_result"
    }
   ],
   "source": [
    "664.01 in city # check if something is in the tuple"
   ]
  },
  {
   "cell_type": "code",
   "execution_count": 121,
   "id": "7920bb58-ceca-432e-ab6c-2f4a63c052a7",
   "metadata": {},
   "outputs": [
    {
     "data": {
      "text/plain": [
       "0"
      ]
     },
     "execution_count": 121,
     "metadata": {},
     "output_type": "execute_result"
    }
   ],
   "source": [
    "city.index('Jakarta') # find the index of SHIA airport"
   ]
  },
  {
   "cell_type": "code",
   "execution_count": 110,
   "id": "2045973c-d595-4f47-9c67-2060c747cbdc",
   "metadata": {},
   "outputs": [],
   "source": [
    "# above we used a singleton tuple...what would be a use case for an empty tuple?\n",
    "# ...an incorrect query"
   ]
  },
  {
   "cell_type": "code",
   "execution_count": 128,
   "id": "178cfd6b-86a2-4163-bee7-91e31ebaa4db",
   "metadata": {},
   "outputs": [],
   "source": [
    "roman_to_arabic = {\n",
    "    'M': 1000,\n",
    "    'D': 500,\n",
    "    'C': 100,\n",
    "    'L': (50), \n",
    "    'X': (10),\n",
    "    'V': (5), \n",
    "    'I': (1),\n",
    "}"
   ]
  },
  {
   "cell_type": "markdown",
   "id": "5b039e70-d1b5-476a-8351-813a4bb04906",
   "metadata": {},
   "source": [
    "## Lab: dictionary\n",
    "* use a dict to translate Roman numerals into their Arabic equivalents\n",
    "1. load the dict with Roman numerals M (1000), D (500), C (100), L (50), X (10), V (5), I (1)\n",
    "2. read in a Roman numeral\n",
    "3. print Arabic equivalent\n",
    "4. try it with MCLX = 1000 + 100 + 50 + 10 = 1160\n",
    "4. __If you have time, deal with the case where a smaller number precedes a larger number, e.g., XC = 100 - 10 = 90, or MCM = 1000 + (1000-100) = 1900__\n",
    "4. __MCMXCIX = 1999__"
   ]
  },
  {
   "cell_type": "code",
   "execution_count": null,
   "id": "bdeaa36c-708e-4675-85e2-13120a3a92fc",
   "metadata": {},
   "outputs": [],
   "source": [
    "# 0: running total = 0\n",
    "# 1: get a Roman numeral from the user, e.g., 'MCLX'\n",
    "# 2: for each digit in the Roman numeral:\n",
    "#.     3: plug into dict to get Arabic value and add to running total"
   ]
  },
  {
   "cell_type": "code",
   "execution_count": 140,
   "id": "33cff3f9-52f4-4521-ba10-b92c5f4b50e0",
   "metadata": {},
   "outputs": [
    {
     "name": "stdin",
     "output_type": "stream",
     "text": [
      "Enter a Roman numeral:  MCAX\n"
     ]
    },
    {
     "ename": "KeyError",
     "evalue": "'A'",
     "output_type": "error",
     "traceback": [
      "\u001b[0;31m---------------------------------------------------------------------------\u001b[0m",
      "\u001b[0;31mKeyError\u001b[0m                                  Traceback (most recent call last)",
      "Input \u001b[0;32mIn [140]\u001b[0m, in \u001b[0;36m<cell line: 12>\u001b[0;34m()\u001b[0m\n\u001b[1;32m     11\u001b[0m roman \u001b[38;5;241m=\u001b[39m \u001b[38;5;28minput\u001b[39m(\u001b[38;5;124m'\u001b[39m\u001b[38;5;124mEnter a Roman numeral: \u001b[39m\u001b[38;5;124m'\u001b[39m) \u001b[38;5;66;03m# 1\u001b[39;00m\n\u001b[1;32m     12\u001b[0m \u001b[38;5;28;01mfor\u001b[39;00m digit \u001b[38;5;129;01min\u001b[39;00m roman: \u001b[38;5;66;03m# 2\u001b[39;00m\n\u001b[0;32m---> 13\u001b[0m     running_total \u001b[38;5;241m+\u001b[39m\u001b[38;5;241m=\u001b[39m \u001b[43mroman_to_arabic\u001b[49m\u001b[43m[\u001b[49m\u001b[43mdigit\u001b[49m\u001b[43m]\u001b[49m \u001b[38;5;66;03m# 3\u001b[39;00m\n\u001b[1;32m     15\u001b[0m \u001b[38;5;28mprint\u001b[39m(running_total)\n",
      "\u001b[0;31mKeyError\u001b[0m: 'A'"
     ]
    }
   ],
   "source": [
    "roman_to_arabic = {\n",
    "    'M': 1000,\n",
    "    'D': 500,\n",
    "    'C': 100,\n",
    "    'L': 50, \n",
    "    'X': 10,\n",
    "    'V': 5, \n",
    "    'I': 1,\n",
    "}\n",
    "running_total = 0 # step 0\n",
    "roman = input('Enter a Roman numeral: ') # 1\n",
    "for digit in roman: # 2\n",
    "    running_total += roman_to_arabic[digit] # 3\n",
    "    \n",
    "print(running_total)"
   ]
  },
  {
   "cell_type": "code",
   "execution_count": 141,
   "id": "6bdb3c2e-467e-43f5-877d-22c1d712804b",
   "metadata": {},
   "outputs": [
    {
     "name": "stdin",
     "output_type": "stream",
     "text": [
      "Enter a Roman numeral:  MCAX\n"
     ]
    },
    {
     "name": "stdout",
     "output_type": "stream",
     "text": [
      "bad digit: A\n",
      "1100\n"
     ]
    }
   ],
   "source": [
    "# what about error checking?\n",
    "running_total = 0 # 0\n",
    "roman = input('Enter a Roman numeral: ') # 1\n",
    "for digit in roman: # 2\n",
    "    if digit in roman_to_arabic:\n",
    "        running_total += roman_to_arabic[digit]\n",
    "    else:\n",
    "        print('bad digit:', digit)\n",
    "        break\n",
    "    \n",
    "print(running_total) # should we print this at all if a bad digit is encountered?"
   ]
  },
  {
   "cell_type": "code",
   "execution_count": 144,
   "id": "84b229ad-fd94-4bec-841f-4d8d46efc5aa",
   "metadata": {},
   "outputs": [
    {
     "name": "stdin",
     "output_type": "stream",
     "text": [
      "Enter a Roman numeral:  MCAX\n"
     ]
    },
    {
     "name": "stdout",
     "output_type": "stream",
     "text": [
      "bad digit: A\n"
     ]
    }
   ],
   "source": [
    "# what about error checking? part 2\n",
    "running_total = 0 # 0\n",
    "roman = input('Enter a Roman numeral: ') # 1\n",
    "for digit in roman: # 2\n",
    "    if digit not in roman_to_arabic:\n",
    "        print('bad digit:', digit)\n",
    "        break\n",
    "    running_total += roman_to_arabic[digit]\n",
    "else: # only get here if no break, i.e. no bad digits encountered\n",
    "    print(running_total) # should we print this at all if "
   ]
  },
  {
   "cell_type": "code",
   "execution_count": null,
   "id": "bd6b612c-9b07-4a24-b6f3-7d175c89eea9",
   "metadata": {},
   "outputs": [],
   "source": [
    "# for the more complicated solution\n",
    "# PASS 1\n",
    "# 1: get a Roman numeral from the user, e.g., 'MCMXCIX' (1999)\n",
    "# 2: for each digit in the Roman numeral:\n",
    "#.     3: plug into dict to get Arabic value and add it a list of Arabic values\n",
    "# [ 1000, 100, 1000, 10, 100, 1, 10 ]\n",
    "# PASS 2\n",
    "# 4. go through the list\n",
    "# 5. if you find a list item that is less than its neighbor (to the right)\n",
    "# 6.     then make it negative\n",
    "# [ 1000, -100, 1000, -10, 100, -1, 10 ]\n",
    "# 7. sum up the list (built-in)"
   ]
  },
  {
   "cell_type": "code",
   "execution_count": 146,
   "id": "41276e18-cb27-451b-ada4-ad3572192f08",
   "metadata": {},
   "outputs": [
    {
     "name": "stdin",
     "output_type": "stream",
     "text": [
      "Enter a Roman numeral:  MCMXCIX\n"
     ]
    },
    {
     "name": "stdout",
     "output_type": "stream",
     "text": [
      "[1000, 100, 1000, 10, 100, 1, 10]\n",
      "[1000, -100, 1000, -10, 100, -1, 10]\n",
      "1999\n"
     ]
    }
   ],
   "source": [
    "roman_to_arabic = {\n",
    "    'M': 1000,\n",
    "    'D': 500,\n",
    "    'C': 100,\n",
    "    'L': 50, \n",
    "    'X': 10,\n",
    "    'V': 5, \n",
    "    'I': (1),\n",
    "}\n",
    "arabic_vals = []\n",
    "roman = input('Enter a Roman numeral: ')\n",
    "\n",
    "# Pass 1\n",
    "for digit in roman:\n",
    "    if digit in roman_to_arabic:\n",
    "        arabic_vals.append(roman_to_arabic[digit])\n",
    "    else:\n",
    "        print('bad digit:', digit)\n",
    "        \n",
    "print(arabic_vals) # debugging\n",
    "\n",
    "# Pass 2\n",
    "for index in range(len(roman) - 1): # -1 so we don't \"fall off\"\n",
    "    if arabic_vals[index] < arabic_vals[index + 1]:\n",
    "        arabic_vals[index] = -arabic_vals[index]\n",
    "\n",
    "print(arabic_vals) # debugging\n",
    "print(sum(arabic_vals))"
   ]
  },
  {
   "cell_type": "code",
   "execution_count": null,
   "id": "88ab0271-aefa-4b04-9350-9fd3ec6a904b",
   "metadata": {},
   "outputs": [],
   "source": [
    "# OPT: old programmer trick\n",
    "# find 5?\n",
    "#[ 1, 4, 6, -9, ... ] \n",
    "#[ 1, 4, 6, -9, ... 5 ]"
   ]
  },
  {
   "cell_type": "code",
   "execution_count": 147,
   "id": "327be73f-8fd9-4236-b764-24be7a8dc816",
   "metadata": {},
   "outputs": [],
   "source": [
    "d = { 'a': 1, 'b': 1 }"
   ]
  },
  {
   "cell_type": "code",
   "execution_count": 148,
   "id": "e9aa144e-ed7a-4e49-b069-878ce7eaec26",
   "metadata": {},
   "outputs": [],
   "source": [
    "d_inverse = { val: key for key, val in d.items() }"
   ]
  },
  {
   "cell_type": "code",
   "execution_count": 149,
   "id": "b2664685-5c00-4f99-92e1-3e2e4b4e3041",
   "metadata": {},
   "outputs": [
    {
     "data": {
      "text/plain": [
       "{1: 'b'}"
      ]
     },
     "execution_count": 149,
     "metadata": {},
     "output_type": "execute_result"
    }
   ],
   "source": [
    "d_inverse"
   ]
  },
  {
   "cell_type": "code",
   "execution_count": 150,
   "id": "9d2721fd-1359-4746-8eb8-6f74d47ce177",
   "metadata": {},
   "outputs": [
    {
     "data": {
      "text/plain": [
       "65"
      ]
     },
     "execution_count": 150,
     "metadata": {},
     "output_type": "execute_result"
    }
   ],
   "source": [
    "ord('A')"
   ]
  },
  {
   "cell_type": "code",
   "execution_count": 151,
   "id": "89d920a7-fb7f-4882-ba0e-ee5b676a50fd",
   "metadata": {},
   "outputs": [
    {
     "data": {
      "text/plain": [
       "97"
      ]
     },
     "execution_count": 151,
     "metadata": {},
     "output_type": "execute_result"
    }
   ],
   "source": [
    "ord('a')"
   ]
  },
  {
   "cell_type": "code",
   "execution_count": 153,
   "id": "13efcaa2-dbce-429c-8da9-3e75749e2d6d",
   "metadata": {},
   "outputs": [
    {
     "data": {
      "text/plain": [
       "'A'"
      ]
     },
     "execution_count": 153,
     "metadata": {},
     "output_type": "execute_result"
    }
   ],
   "source": [
    "chr(65)"
   ]
  },
  {
   "cell_type": "code",
   "execution_count": 154,
   "id": "13b5defb-36bd-43f8-8eaf-fa71c4a9d810",
   "metadata": {},
   "outputs": [],
   "source": [
    "import random"
   ]
  },
  {
   "cell_type": "code",
   "execution_count": 170,
   "id": "65ff7ccc-8476-4f47-9608-3a02e8e817ec",
   "metadata": {},
   "outputs": [],
   "source": [
    "# nums will be a list of random integers [1..100] and there will be 100 of them\n",
    "nums = [random.randint(1, 100) for _ in range(100)]"
   ]
  },
  {
   "cell_type": "code",
   "execution_count": null,
   "id": "05f2ef44-d48f-4247-86c9-0e80abd5614e",
   "metadata": {},
   "outputs": [],
   "source": [
    "nums = []\n",
    "for _ in range(100): # do THIS 100 times\n",
    "    nums.append(random.randint(1, 100))"
   ]
  },
  {
   "cell_type": "code",
   "execution_count": 158,
   "id": "ee6f0fc1-f8d0-45fd-95cc-911a1aea61c8",
   "metadata": {},
   "outputs": [
    {
     "name": "stdout",
     "output_type": "stream",
     "text": [
      "number 0\n",
      "number 1\n",
      "number 2\n",
      "number 3\n",
      "number 4\n",
      "number 5\n",
      "number 6\n",
      "number 7\n",
      "number 8\n",
      "number 9\n"
     ]
    }
   ],
   "source": [
    "for count in range(10): # \"we are counting from 0 to 9\"\n",
    "    print('number', count)"
   ]
  },
  {
   "cell_type": "code",
   "execution_count": 159,
   "id": "2fbf4dba-d0c6-43ab-b2ca-584e7b826478",
   "metadata": {},
   "outputs": [
    {
     "name": "stdout",
     "output_type": "stream",
     "text": [
      "hello\n",
      "hello\n",
      "hello\n",
      "hello\n",
      "hello\n",
      "hello\n",
      "hello\n",
      "hello\n",
      "hello\n",
      "hello\n"
     ]
    }
   ],
   "source": [
    "for _ in range(10): # \"we are doing something 10 times\n",
    "    print('hello')"
   ]
  },
  {
   "cell_type": "code",
   "execution_count": 171,
   "id": "7b66e685-851f-44c5-835e-6a5ca80bd849",
   "metadata": {},
   "outputs": [
    {
     "name": "stdout",
     "output_type": "stream",
     "text": [
      "[19, 89, 86, 10, 19, 15, 72, 27, 85, 92, 51, 12, 66, 53, 91, 79, 51, 74, 88, 88, 17, 20, 68, 98, 27, 48, 79, 51, 87, 62, 74, 69, 28, 25, 98, 57, 66, 60, 45, 91, 34, 52, 93, 4, 65, 1, 87, 92, 82, 6, 47, 92, 39, 18, 17, 29, 44, 83, 94, 2, 4, 41, 11, 6, 33, 21, 98, 67, 78, 35, 1, 39, 14, 21, 5, 92, 51, 63, 83, 97, 13, 87, 21, 21, 66, 77, 100, 100, 13, 25, 42, 26, 8, 67, 2, 2, 67, 74, 85, 95]\n"
     ]
    }
   ],
   "source": [
    "print(nums)"
   ]
  },
  {
   "cell_type": "code",
   "execution_count": 178,
   "id": "9396e270-6e02-447e-81fb-b172eaaa0d0c",
   "metadata": {},
   "outputs": [
    {
     "data": {
      "text/plain": [
       "True"
      ]
     },
     "execution_count": 178,
     "metadata": {},
     "output_type": "execute_result"
    }
   ],
   "source": [
    "95 in nums"
   ]
  },
  {
   "cell_type": "code",
   "execution_count": 162,
   "id": "2270c384-c007-4b03-afd4-e40289064727",
   "metadata": {},
   "outputs": [
    {
     "name": "stdout",
     "output_type": "stream",
     "text": [
      "{1, 3, 5, 6, 11, 14, 16, 17, 18, 19, 21, 25, 27, 28, 29, 31, 32, 33, 34, 36, 37, 38, 39, 40, 41, 45, 46, 47, 50, 54, 55, 56, 57, 58, 59, 62, 63, 64, 65, 66, 67, 68, 70, 71, 73, 74, 75, 76, 77, 79, 82, 83, 84, 87, 89, 90, 92, 93, 97, 98, 100}\n"
     ]
    }
   ],
   "source": [
    "print(set(nums))"
   ]
  },
  {
   "cell_type": "code",
   "execution_count": 163,
   "id": "fcf9767d-9e2a-46a2-a22d-8138d01be2ee",
   "metadata": {},
   "outputs": [
    {
     "name": "stdout",
     "output_type": "stream",
     "text": [
      "[1, 3, 5, 6, 11, 14, 16, 17, 18, 19, 21, 25, 27, 28, 29, 31, 32, 33, 34, 36, 37, 38, 39, 40, 41, 45, 46, 47, 50, 54, 55, 56, 57, 58, 59, 62, 63, 64, 65, 66, 67, 68, 70, 71, 73, 74, 75, 76, 77, 79, 82, 83, 84, 87, 89, 90, 92, 93, 97, 98, 100]\n"
     ]
    }
   ],
   "source": [
    "nums = list(set(nums))\n",
    "print(nums)"
   ]
  },
  {
   "cell_type": "code",
   "execution_count": 164,
   "id": "91c31189-bae6-4cfe-b65f-c8379d949bd5",
   "metadata": {},
   "outputs": [
    {
     "data": {
      "text/plain": [
       "-3612178645174671926"
      ]
     },
     "execution_count": 164,
     "metadata": {},
     "output_type": "execute_result"
    }
   ],
   "source": [
    "hash('Python')"
   ]
  },
  {
   "cell_type": "code",
   "execution_count": 165,
   "id": "e77fe208-41c8-477f-9fef-454897199c46",
   "metadata": {},
   "outputs": [
    {
     "data": {
      "text/plain": [
       "-326850642231998786"
      ]
     },
     "execution_count": 165,
     "metadata": {},
     "output_type": "execute_result"
    }
   ],
   "source": [
    "hash('Go')"
   ]
  },
  {
   "cell_type": "code",
   "execution_count": 166,
   "id": "b51960e6-377a-45f6-a290-8f53dbe49867",
   "metadata": {},
   "outputs": [
    {
     "data": {
      "text/plain": [
       "-7340693844702336572"
      ]
     },
     "execution_count": 166,
     "metadata": {},
     "output_type": "execute_result"
    }
   ],
   "source": [
    "hash('Java')"
   ]
  },
  {
   "cell_type": "code",
   "execution_count": 167,
   "id": "5db47ac5-117f-44fd-946e-98cd642714c4",
   "metadata": {},
   "outputs": [
    {
     "data": {
      "text/plain": [
       "-288348850667256481"
      ]
     },
     "execution_count": 167,
     "metadata": {},
     "output_type": "execute_result"
    }
   ],
   "source": [
    "hash('C')"
   ]
  },
  {
   "cell_type": "code",
   "execution_count": 168,
   "id": "65f871b6-6be8-4256-8c22-91722ec02c0e",
   "metadata": {},
   "outputs": [
    {
     "data": {
      "text/plain": [
       "-2345242268933682017"
      ]
     },
     "execution_count": 168,
     "metadata": {},
     "output_type": "execute_result"
    }
   ],
   "source": [
    "hash('Fortran')"
   ]
  },
  {
   "cell_type": "code",
   "execution_count": 169,
   "id": "daa2b151-706c-4ba0-b2b6-fdf6082bb4fc",
   "metadata": {},
   "outputs": [
    {
     "data": {
      "text/plain": [
       "1097141824185858570"
      ]
     },
     "execution_count": 169,
     "metadata": {},
     "output_type": "execute_result"
    }
   ],
   "source": [
    "hash('COBOL')"
   ]
  },
  {
   "cell_type": "code",
   "execution_count": 179,
   "id": "3bd18cf8-5a07-4068-a170-571704d38bb3",
   "metadata": {},
   "outputs": [
    {
     "data": {
      "text/plain": [
       "54"
      ]
     },
     "execution_count": 179,
     "metadata": {},
     "output_type": "execute_result"
    }
   ],
   "source": [
    "hash(54)"
   ]
  },
  {
   "cell_type": "code",
   "execution_count": 180,
   "id": "4454ea11-c413-4687-be9b-d52aacf25322",
   "metadata": {},
   "outputs": [],
   "source": [
    "langs = { 'Python': 1991, 'Go': 2009, 'Java': 1995, 'C': 1969 }"
   ]
  },
  {
   "cell_type": "markdown",
   "id": "4e4758f6-f171-44db-9409-3201ac87dac9",
   "metadata": {},
   "source": [
    "## Lab: Sets\n",
    "* Use a set to find all of the unique words in the input and print them out in sorted order\n",
    "* If the user entered __There is no there there__, your program should print out \n",
    "   <pre><b>\n",
    "   is\n",
    "   no\n",
    "   there\n",
    "   </b></pre>\n",
    "* Note that `There` and `there` should be counted as the same word."
   ]
  },
  {
   "cell_type": "code",
   "execution_count": 183,
   "id": "c5ad8412-3929-4fc4-bbd3-9f9c15c57b73",
   "metadata": {},
   "outputs": [
    {
     "name": "stdin",
     "output_type": "stream",
     "text": [
      "Enter some words:  There is no there there\n"
     ]
    }
   ],
   "source": [
    "words = input('Enter some words: ').split() # might as well turn it into a list here"
   ]
  },
  {
   "cell_type": "code",
   "execution_count": 195,
   "id": "99c3d930-e745-4ad3-91ef-a0f24369ef16",
   "metadata": {},
   "outputs": [
    {
     "name": "stdin",
     "output_type": "stream",
     "text": [
      "Enter some words:  apple fig pear fig banana fig pear apple banana\n"
     ]
    }
   ],
   "source": [
    "words = input('Enter some words: ').lower().split() # and while we're at it, might as well ignore case too"
   ]
  },
  {
   "cell_type": "code",
   "execution_count": 196,
   "id": "5fbada07-e56b-47d4-adf0-7888f46c3349",
   "metadata": {},
   "outputs": [
    {
     "data": {
      "text/plain": [
       "['apple', 'fig', 'pear', 'fig', 'banana', 'fig', 'pear', 'apple', 'banana']"
      ]
     },
     "execution_count": 196,
     "metadata": {},
     "output_type": "execute_result"
    }
   ],
   "source": [
    "words"
   ]
  },
  {
   "cell_type": "code",
   "execution_count": 197,
   "id": "bc2c96f9-e286-4f89-b79d-d63866a016f5",
   "metadata": {},
   "outputs": [
    {
     "data": {
      "text/plain": [
       "{'apple', 'banana', 'fig', 'pear'}"
      ]
     },
     "execution_count": 197,
     "metadata": {},
     "output_type": "execute_result"
    }
   ],
   "source": [
    "# what remains is to remove dupes and sort\n",
    "set(words) # don't be fooled, the resulting set is not alphabetized!"
   ]
  },
  {
   "cell_type": "code",
   "execution_count": 198,
   "id": "df20330f-e08d-42ab-b6dc-b7cb91239409",
   "metadata": {},
   "outputs": [
    {
     "name": "stdout",
     "output_type": "stream",
     "text": [
      "{'apple', 'fig', 'pear', 'banana'}\n"
     ]
    }
   ],
   "source": [
    "print(set(words)) # Jupyter is hands off"
   ]
  },
  {
   "cell_type": "code",
   "execution_count": 191,
   "id": "e85701cb-12f4-4b3f-b6c1-50570ddcc2e3",
   "metadata": {},
   "outputs": [
    {
     "data": {
      "text/plain": [
       "['is', 'no', 'there']"
      ]
     },
     "execution_count": 191,
     "metadata": {},
     "output_type": "execute_result"
    }
   ],
   "source": [
    "sorted(set(words)) # remember that sorted() always returns a list...just what we want!"
   ]
  },
  {
   "cell_type": "code",
   "execution_count": 202,
   "id": "15dfb0f6-98dd-47bb-acdf-c1305b113a5f",
   "metadata": {},
   "outputs": [
    {
     "name": "stdout",
     "output_type": "stream",
     "text": [
      "apple banana fig pear\n"
     ]
    }
   ],
   "source": [
    "words = sorted(set(words))\n",
    "print(*words) # \"unpack\" the container into its constituent parts"
   ]
  },
  {
   "cell_type": "code",
   "execution_count": 205,
   "id": "10b5f57e-a6b1-4e01-9fd4-7bd388fe18eb",
   "metadata": {},
   "outputs": [
    {
     "name": "stdout",
     "output_type": "stream",
     "text": [
      "apple\n",
      "banana\n",
      "fig\n",
      "pear\n"
     ]
    }
   ],
   "source": [
    "# or...\n",
    "print('\\n'.join(words))"
   ]
  },
  {
   "cell_type": "markdown",
   "id": "e402a850-9926-445e-9f06-c8b2c4252c34",
   "metadata": {},
   "source": [
    "## Quick Lab: File I/O\n",
    "* write a Python program which prompts the user for a filename, then opens that file and writes the contents of the file to a new file, in reverse order, i.e.,\n",
    "\n",
    "<pre><b>\n",
    "    Original file       Reversed file\n",
    "    Line 1              Line 4\n",
    "    Line 2              Line 3\n",
    "    Line 3              Line 2\n",
    "    Line 4              Line 1\n",
    "</b></pre>"
   ]
  },
  {
   "cell_type": "code",
   "execution_count": 215,
   "id": "4d41acdd-1f1c-49cb-9fd9-275ffd00a86f",
   "metadata": {},
   "outputs": [
    {
     "name": "stdin",
     "output_type": "stream",
     "text": [
      "Enter a filename:  poem.txt\n"
     ]
    }
   ],
   "source": [
    "filename = input('Enter a filename: ')"
   ]
  },
  {
   "cell_type": "code",
   "execution_count": 216,
   "id": "3e39e7dd-8793-4228-99be-0b6861d19aa9",
   "metadata": {},
   "outputs": [],
   "source": [
    "with open(filename) as infile: # open for reading\n",
    "    lines = infile.readlines() # read in entire file, not something we typically do but OK here"
   ]
  },
  {
   "cell_type": "code",
   "execution_count": 218,
   "id": "472b4455-db19-47b0-8b05-df7ee10ad89f",
   "metadata": {},
   "outputs": [
    {
     "data": {
      "text/plain": [
       "['TWO roads diverged in a yellow wood,\\n',\n",
       " 'And sorry I could not travel both\\n',\n",
       " 'And be one traveler, long I stood\\n',\n",
       " 'And looked down one as far as I could\\n',\n",
       " 'To where it bent in the undergrowth;\\n']"
      ]
     },
     "execution_count": 218,
     "metadata": {},
     "output_type": "execute_result"
    }
   ],
   "source": [
    "lines[:5]"
   ]
  },
  {
   "cell_type": "code",
   "execution_count": 220,
   "id": "1cefb894-3e4a-4e1b-807a-5a51411895d7",
   "metadata": {},
   "outputs": [
    {
     "name": "stdout",
     "output_type": "stream",
     "text": [
      "And that has made all the difference.\n",
      "I took the one less traveled by,\n",
      "Two roads diverged in a wood, and I—\n",
      "Somewhere ages and ages hence:\n",
      "I shall be telling this with a sigh\n",
      "\n",
      "I doubted if I should ever come back.\n",
      "Yet knowing how way leads on to way,\n",
      "Oh, I kept the first for another day!\n",
      "In leaves no step had trodden black.\n",
      "And both that morning equally lay\n",
      "\n",
      "Had worn them really about the same,\n",
      "Though as for that the passing there\n",
      "Because it was grassy and wanted wear;\n",
      "And having perhaps the better claim,\n",
      "Then took the other, as just as fair,\n",
      "\n",
      "To where it bent in the undergrowth;\n",
      "And looked down one as far as I could\n",
      "And be one traveler, long I stood\n",
      "And sorry I could not travel both\n",
      "TWO roads diverged in a yellow wood,\n",
      "\n"
     ]
    }
   ],
   "source": [
    "print(''.join(lines[::-1]))"
   ]
  },
  {
   "cell_type": "code",
   "execution_count": 234,
   "id": "6fb6f72a-fec7-4988-8cda-23dd05b84360",
   "metadata": {},
   "outputs": [],
   "source": [
    "for index in range(len(lines)): # 0..len(lines)-1\n",
    "    lines[index] = lines[index][::-1]"
   ]
  },
  {
   "cell_type": "code",
   "execution_count": 235,
   "id": "b6c7ca61-38b0-48e3-9c1e-aba5ce81af8f",
   "metadata": {},
   "outputs": [
    {
     "data": {
      "text/plain": [
       "['TWO roads diverged in a yellow wood,\\n',\n",
       " 'And sorry I could not travel both\\n',\n",
       " 'And be one traveler, long I stood\\n',\n",
       " 'And looked down one as far as I could\\n',\n",
       " 'To where it bent in the undergrowth;\\n',\n",
       " '\\n',\n",
       " 'Then took the other, as just as fair,\\n',\n",
       " 'And having perhaps the better claim,\\n',\n",
       " 'Because it was grassy and wanted wear;\\n',\n",
       " 'Though as for that the passing there\\n',\n",
       " 'Had worn them really about the same,\\n',\n",
       " '\\n',\n",
       " 'And both that morning equally lay\\n',\n",
       " 'In leaves no step had trodden black.\\n',\n",
       " 'Oh, I kept the first for another day!\\n',\n",
       " 'Yet knowing how way leads on to way,\\n',\n",
       " 'I doubted if I should ever come back.\\n',\n",
       " '\\n',\n",
       " 'I shall be telling this with a sigh\\n',\n",
       " 'Somewhere ages and ages hence:\\n',\n",
       " 'Two roads diverged in a wood, and I—\\n',\n",
       " 'I took the one less traveled by,\\n',\n",
       " 'And that has made all the difference.\\n']"
      ]
     },
     "execution_count": 235,
     "metadata": {},
     "output_type": "execute_result"
    }
   ],
   "source": [
    "lines"
   ]
  },
  {
   "cell_type": "code",
   "execution_count": 227,
   "id": "1ffff308-cfca-4ca9-8279-7dd307da6abe",
   "metadata": {},
   "outputs": [],
   "source": [
    "# at this point, each line of the file will be an element in lines\n",
    "# we want to print them out in reverse order\n",
    "# and we don't want it to look like a list, so we can join the lines together\n",
    "with open(filename + '.rev', 'w') as outfile:\n",
    "    print(''.join(lines[::-1]), file=outfile)"
   ]
  },
  {
   "cell_type": "code",
   "execution_count": 228,
   "id": "586e2670-b93a-4c29-b531-8c086a961a1e",
   "metadata": {},
   "outputs": [
    {
     "data": {
      "text/plain": [
       "['\\n,doow wolley a ni degrevid sdaor OWT',\n",
       " '\\nhtob levart ton dluoc I yrros dnA',\n",
       " '\\ndoots I gnol ,relevart eno eb dnA',\n",
       " '\\ndluoc I sa raf sa eno nwod dekool dnA',\n",
       " '\\n;htworgrednu eht ni tneb ti erehw oT',\n",
       " '\\n',\n",
       " '\\n,riaf sa tsuj sa ,rehto eht koot nehT',\n",
       " '\\n,mialc retteb eht spahrep gnivah dnA',\n",
       " '\\n;raew detnaw dna yssarg saw ti esuaceB',\n",
       " '\\nereht gnissap eht taht rof sa hguohT',\n",
       " '\\n,emas eht tuoba yllaer meht nrow daH',\n",
       " '\\n',\n",
       " '\\nyal yllauqe gninrom taht htob dnA',\n",
       " '\\n.kcalb neddort dah pets on sevael nI',\n",
       " '\\n!yad rehtona rof tsrif eht tpek I ,hO',\n",
       " '\\n,yaw ot no sdael yaw woh gniwonk teY',\n",
       " '\\n.kcab emoc reve dluohs I fi detbuod I',\n",
       " '\\n',\n",
       " '\\nhgis a htiw siht gnillet eb llahs I',\n",
       " '\\n:ecneh sega dna sega erehwemoS',\n",
       " '\\n—I dna ,doow a ni degrevid sdaor owT',\n",
       " '\\n,yb delevart ssel eno eht koot I',\n",
       " '\\n.ecnereffid eht lla edam sah taht dnA']"
      ]
     },
     "execution_count": 228,
     "metadata": {},
     "output_type": "execute_result"
    }
   ],
   "source": [
    "lines"
   ]
  },
  {
   "cell_type": "code",
   "execution_count": 229,
   "id": "96b814b3-2774-4c59-83c4-5222860d17d3",
   "metadata": {},
   "outputs": [],
   "source": [
    "fruits = 'apple fig pear'.split()"
   ]
  },
  {
   "cell_type": "code",
   "execution_count": 230,
   "id": "5b035b79-1914-4004-88e1-24329868c858",
   "metadata": {},
   "outputs": [
    {
     "name": "stdout",
     "output_type": "stream",
     "text": [
      "['apple', 'fig', 'pear']\n"
     ]
    }
   ],
   "source": [
    "print(fruits)"
   ]
  },
  {
   "cell_type": "code",
   "execution_count": 232,
   "id": "ab8d5c72-103e-40fa-9994-dc8f7552def3",
   "metadata": {},
   "outputs": [
    {
     "name": "stdout",
     "output_type": "stream",
     "text": [
      "apple, fig, pear\n"
     ]
    }
   ],
   "source": [
    "print(', '.join(fruits))"
   ]
  },
  {
   "cell_type": "code",
   "execution_count": 233,
   "id": "25e0d0bd-84a6-46cf-8105-4601316ab356",
   "metadata": {},
   "outputs": [
    {
     "name": "stdout",
     "output_type": "stream",
     "text": [
      "apple\n",
      "fig\n",
      "pear\n"
     ]
    }
   ],
   "source": [
    "print('\\n'.join(fruits))"
   ]
  },
  {
   "cell_type": "markdown",
   "id": "79d200f9-d7bd-48bc-ad99-d155fc672992",
   "metadata": {},
   "source": [
    "## Lab: File I/O + dicts\n",
    "* write a Python program to read a file and count the number of occurrences of each word in the file\n",
    "* use a __`dict`__, indexed by word, to count the occurrences\n",
    "* remember __`d.get(key)`__ will return __`None`__ if there is no such key in the dict (vs. __`d[key]`__ which will throw an exception) and also the __`in`__ operator\n",
    "  * or use a __`collections.defaultdict`__ if we've covered it\n",
    "* treat __The__ and __the__ as the same word when counting\n",
    "* print out words and counts, from most common to least common\n",
    "* EXTRA: remove punctuation, so __Hamlet,__ == __Hamlet__ # refer back to \"import this\"\n",
    "* Road Not Taken and Hamlet are in your materials"
   ]
  },
  {
   "cell_type": "code",
   "execution_count": null,
   "id": "48bc03ed-6f27-412a-97cb-dbbec30e8969",
   "metadata": {},
   "outputs": [],
   "source": [
    "# 1. get the name of the file from the user\n",
    "# 2. create an empty dictionary (which will be used to hold every word we see, along w/its counts)\n",
    "# 3. open the file\n",
    "# 4. read a line of the file\n",
    "# 5. for each word in the line\n",
    "#.    6. check to see if the word has been seen before \n",
    "#           and if so, increment the count\n",
    "#.       else\n",
    "#.          create a new entry for the word and set to 1\n",
    "# 7. reverse sort the dictionary by the values"
   ]
  },
  {
   "cell_type": "code",
   "execution_count": 250,
   "id": "058f01da-42bd-40df-be61-2e9254110910",
   "metadata": {},
   "outputs": [
    {
     "name": "stdin",
     "output_type": "stream",
     "text": [
      "Enter a filename:  hamlet.txt\n"
     ]
    }
   ],
   "source": [
    "filename = input('Enter a filename: ') # 1\n",
    "wordcounts = {} # 2"
   ]
  },
  {
   "cell_type": "code",
   "execution_count": 251,
   "id": "f45f93a4-c06f-40a3-884d-1d368d5bb882",
   "metadata": {},
   "outputs": [],
   "source": [
    "with open(filename) as infile: # 3\n",
    "    for line in infile: # 4: use Python's natural iteration to read the file one line at a time\n",
    "        for word in line.lower().split(): # 5: process each word individually\n",
    "            if word in wordcounts: # 6: we have seen it before\n",
    "                wordcounts[word] += 1 # increment the count, indicating we've seen it one more time\n",
    "            else:\n",
    "                wordcounts[word] = 1"
   ]
  },
  {
   "cell_type": "code",
   "execution_count": 246,
   "id": "808087ba-9155-4dd7-aad0-523dca6b80c9",
   "metadata": {},
   "outputs": [
    {
     "data": {
      "text/plain": [
       "['and', 'i', 'the', 'as', 'in', 'a', 'one', 'that', 'two', 'roads']"
      ]
     },
     "execution_count": 246,
     "metadata": {},
     "output_type": "execute_result"
    }
   ],
   "source": [
    "sorted(wordcounts, key=wordcounts.get, reverse=True)[:10]"
   ]
  },
  {
   "cell_type": "code",
   "execution_count": 259,
   "id": "04879688-269d-4791-b974-4d16d0dcdacb",
   "metadata": {},
   "outputs": [
    {
     "name": "stdout",
     "output_type": "stream",
     "text": [
      "the 1137\n",
      "and 936\n",
      "to 728\n",
      "of 664\n",
      "a 527\n",
      "i 513\n",
      "my 513\n",
      "in 423\n",
      "you 405\n",
      "hamlet 401\n",
      "that 345\n",
      "it 325\n",
      "is 318\n",
      "his 294\n",
      "not 274\n",
      "with 263\n",
      "this 249\n",
      "your 242\n",
      "but 229\n",
      "for 228\n"
     ]
    }
   ],
   "source": [
    "for word in sorted(wordcounts, key=wordcounts.get, reverse=True)[:20]:\n",
    "    print(word, wordcounts[word])"
   ]
  },
  {
   "cell_type": "code",
   "execution_count": 260,
   "id": "1433fa39-b053-4400-8c91-ae09592d5d7d",
   "metadata": {},
   "outputs": [
    {
     "name": "stdout",
     "output_type": "stream",
     "text": [
      " 451 in\n",
      " 471 hamlet\n",
      " 514 my\n",
      " 546 a\n",
      " 554 you\n",
      " 631 i\n",
      " 669 of\n",
      " 762 to\n",
      " 966 and\n",
      "1143 the\n"
     ]
    }
   ],
   "source": [
    "!tr A-Z a-z < hamlet.txt | tr -sc a-z '\\n' | sort | uniq -c | sort -n | tail # dog-house"
   ]
  },
  {
   "cell_type": "code",
   "execution_count": 267,
   "id": "1d4b97d3-90a8-4d4e-83d7-339363111855",
   "metadata": {},
   "outputs": [
    {
     "name": "stdout",
     "output_type": "stream",
     "text": [
      "['T', 'h', 'e', ' ', 'Z', 'e', 'n', ' ', 'o', 'f', ' ', 'P', 'y', 't', 'h', 'o', 'n', ',', ' ', 'b', 'y', ' ', 'T', 'i', 'm', ' ', 'P', 'e', 't', 'e', 'r', 's', '\\n', '\\n', 'B', 'e', 'a', 'u', 't', 'i', 'f', 'u', 'l', ' ', 'i', 's', ' ', 'b', 'e', 't', 't', 'e', 'r', ' ', 't', 'h', 'a', 'n', ' ', 'u', 'g', 'l', 'y', '.', '\\n', 'E', 'x', 'p', 'l', 'i', 'c', 'i', 't', ' ', 'i', 's', ' ', 'b', 'e', 't', 't', 'e', 'r', ' ', 't', 'h', 'a', 'n', ' ', 'i', 'm', 'p', 'l', 'i', 'c', 'i', 't', '.', '\\n', 'S', 'i', 'm', 'p', 'l', 'e', ' ', 'i', 's', ' ', 'b', 'e', 't', 't', 'e', 'r', ' ', 't', 'h', 'a', 'n', ' ', 'c', 'o', 'm', 'p', 'l', 'e', 'x', '.', '\\n', 'C', 'o', 'm', 'p', 'l', 'e', 'x', ' ', 'i', 's', ' ', 'b', 'e', 't', 't', 'e', 'r', ' ', 't', 'h', 'a', 'n', ' ', 'c', 'o', 'm', 'p', 'l', 'i', 'c', 'a', 't', 'e', 'd', '.', '\\n', 'F', 'l', 'a', 't', ' ', 'i', 's', ' ', 'b', 'e', 't', 't', 'e', 'r', ' ', 't', 'h', 'a', 'n', ' ', 'n', 'e', 's', 't', 'e', 'd', '.', '\\n', 'S', 'p', 'a', 'r', 's', 'e', ' ', 'i', 's', ' ', 'b', 'e', 't', 't', 'e', 'r', ' ', 't', 'h', 'a', 'n', ' ', 'd', 'e', 'n', 's', 'e', '.', '\\n', 'R', 'e', 'a', 'd', 'a', 'b', 'i', 'l', 'i', 't', 'y', ' ', 'c', 'o', 'u', 'n', 't', 's', '.', '\\n', 'S', 'p', 'e', 'c', 'i', 'a', 'l', ' ', 'c', 'a', 's', 'e', 's', ' ', 'a', 'r', 'e', 'n', \"'\", 't', ' ', 's', 'p', 'e', 'c', 'i', 'a', 'l', ' ', 'e', 'n', 'o', 'u', 'g', 'h', ' ', 't', 'o', ' ', 'b', 'r', 'e', 'a', 'k', ' ', 't', 'h', 'e', ' ', 'r', 'u', 'l', 'e', 's', '.', '\\n', 'A', 'l', 't', 'h', 'o', 'u', 'g', 'h', ' ', 'p', 'r', 'a', 'c', 't', 'i', 'c', 'a', 'l', 'i', 't', 'y', ' ', 'b', 'e', 'a', 't', 's', ' ', 'p', 'u', 'r', 'i', 't', 'y', '.', '\\n', 'E', 'r', 'r', 'o', 'r', 's', ' ', 's', 'h', 'o', 'u', 'l', 'd', ' ', 'n', 'e', 'v', 'e', 'r', ' ', 'p', 'a', 's', 's', ' ', 's', 'i', 'l', 'e', 'n', 't', 'l', 'y', '.', '\\n', 'U', 'n', 'l', 'e', 's', 's', ' ', 'e', 'x', 'p', 'l', 'i', 'c', 'i', 't', 'l', 'y', ' ', 's', 'i', 'l', 'e', 'n', 'c', 'e', 'd', '.', '\\n', 'I', 'n', ' ', 't', 'h', 'e', ' ', 'f', 'a', 'c', 'e', ' ', 'o', 'f', ' ', 'a', 'm', 'b', 'i', 'g', 'u', 'i', 't', 'y', ',', ' ', 'r', 'e', 'f', 'u', 's', 'e', ' ', 't', 'h', 'e', ' ', 't', 'e', 'm', 'p', 't', 'a', 't', 'i', 'o', 'n', ' ', 't', 'o', ' ', 'g', 'u', 'e', 's', 's', '.', '\\n', 'T', 'h', 'e', 'r', 'e', ' ', 's', 'h', 'o', 'u', 'l', 'd', ' ', 'b', 'e', ' ', 'o', 'n', 'e', '-', '-', ' ', 'a', 'n', 'd', ' ', 'p', 'r', 'e', 'f', 'e', 'r', 'a', 'b', 'l', 'y', ' ', 'o', 'n', 'l', 'y', ' ', 'o', 'n', 'e', ' ', '-', '-', 'o', 'b', 'v', 'i', 'o', 'u', 's', ' ', 'w', 'a', 'y', ' ', 't', 'o', ' ', 'd', 'o', ' ', 'i', 't', '.', '\\n', 'A', 'l', 't', 'h', 'o', 'u', 'g', 'h', ' ', 't', 'h', 'a', 't', ' ', 'w', 'a', 'y', ' ', 'm', 'a', 'y', ' ', 'n', 'o', 't', ' ', 'b', 'e', ' ', 'o', 'b', 'v', 'i', 'o', 'u', 's', ' ', 'a', 't', ' ', 'f', 'i', 'r', 's', 't', ' ', 'u', 'n', 'l', 'e', 's', 's', ' ', 'y', 'o', 'u', \"'\", 'r', 'e', ' ', 'D', 'u', 't', 'c', 'h', '.', '\\n', 'N', 'o', 'w', ' ', 'i', 's', ' ', 'b', 'e', 't', 't', 'e', 'r', ' ', 't', 'h', 'a', 'n', ' ', 'n', 'e', 'v', 'e', 'r', '.', '\\n', 'A', 'l', 't', 'h', 'o', 'u', 'g', 'h', ' ', 'n', 'e', 'v', 'e', 'r', ' ', 'i', 's', ' ', 'o', 'f', 't', 'e', 'n', ' ', 'b', 'e', 't', 't', 'e', 'r', ' ', 't', 'h', 'a', 'n', ' ', '*', 'r', 'i', 'g', 'h', 't', '*', ' ', 'n', 'o', 'w', '.', '\\n', 'I', 'f', ' ', 't', 'h', 'e', ' ', 'i', 'm', 'p', 'l', 'e', 'm', 'e', 'n', 't', 'a', 't', 'i', 'o', 'n', ' ', 'i', 's', ' ', 'h', 'a', 'r', 'd', ' ', 't', 'o', ' ', 'e', 'x', 'p', 'l', 'a', 'i', 'n', ',', ' ', 'i', 't', \"'\", 's', ' ', 'a', ' ', 'b', 'a', 'd', ' ', 'i', 'd', 'e', 'a', '.', '\\n', 'I', 'f', ' ', 't', 'h', 'e', ' ', 'i', 'm', 'p', 'l', 'e', 'm', 'e', 'n', 't', 'a', 't', 'i', 'o', 'n', ' ', 'i', 's', ' ', 'e', 'a', 's', 'y', ' ', 't', 'o', ' ', 'e', 'x', 'p', 'l', 'a', 'i', 'n', ',', ' ', 'i', 't', ' ', 'm', 'a', 'y', ' ', 'b', 'e', ' ', 'a', ' ', 'g', 'o', 'o', 'd', ' ', 'i', 'd', 'e', 'a', '.', '\\n', 'N', 'a', 'm', 'e', 's', 'p', 'a', 'c', 'e', 's', ' ', 'a', 'r', 'e', ' ', 'o', 'n', 'e', ' ', 'h', 'o', 'n', 'k', 'i', 'n', 'g', ' ', 'g', 'r', 'e', 'a', 't', ' ', 'i', 'd', 'e', 'a', ' ', '-', '-', ' ', 'l', 'e', 't', \"'\", 's', ' ', 'd', 'o', ' ', 'm', 'o', 'r', 'e', ' ', 'o', 'f', ' ', 't', 'h', 'o', 's', 'e', '!']\n"
     ]
    }
   ],
   "source": [
    "# %load /Users/dave-wadestein/opt/anaconda3/lib/python3.9/this.py\n",
    "s = \"\"\"Gur Mra bs Clguba, ol Gvz Crgref\n",
    "\n",
    "Ornhgvshy vf orggre guna htyl.\n",
    "Rkcyvpvg vf orggre guna vzcyvpvg.\n",
    "Fvzcyr vf orggre guna pbzcyrk.\n",
    "Pbzcyrk vf orggre guna pbzcyvpngrq.\n",
    "Syng vf orggre guna arfgrq.\n",
    "Fcnefr vf orggre guna qrafr.\n",
    "Ernqnovyvgl pbhagf.\n",
    "Fcrpvny pnfrf nera'g fcrpvny rabhtu gb oernx gur ehyrf.\n",
    "Nygubhtu cenpgvpnyvgl orngf chevgl.\n",
    "Reebef fubhyq arire cnff fvyragyl.\n",
    "Hayrff rkcyvpvgyl fvyraprq.\n",
    "Va gur snpr bs nzovthvgl, ershfr gur grzcgngvba gb thrff.\n",
    "Gurer fubhyq or bar-- naq cersrenoyl bayl bar --boivbhf jnl gb qb vg.\n",
    "Nygubhtu gung jnl znl abg or boivbhf ng svefg hayrff lbh'er Qhgpu.\n",
    "Abj vf orggre guna arire.\n",
    "Nygubhtu arire vf bsgra orggre guna *evtug* abj.\n",
    "Vs gur vzcyrzragngvba vf uneq gb rkcynva, vg'f n onq vqrn.\n",
    "Vs gur vzcyrzragngvba vf rnfl gb rkcynva, vg znl or n tbbq vqrn.\n",
    "Anzrfcnprf ner bar ubaxvat terng vqrn -- yrg'f qb zber bs gubfr!\"\"\"\n",
    "\n",
    "d = {}\n",
    "for c in (65, 97):\n",
    "    for i in range(26):\n",
    "        d[chr(i+c)] = chr((i+13) % 26 + c)\n",
    "\n",
    "print([d.get(c, c) for c in s])"
   ]
  },
  {
   "cell_type": "code",
   "execution_count": 270,
   "id": "3aca1846-19ef-4341-bfa0-80c8f6cca218",
   "metadata": {},
   "outputs": [],
   "source": [
    "line = 'Hi Hamlet, how are you?'"
   ]
  },
  {
   "cell_type": "code",
   "execution_count": 271,
   "id": "933bf149-55b4-40df-ad0c-9f0a6c1cc2be",
   "metadata": {},
   "outputs": [
    {
     "name": "stdout",
     "output_type": "stream",
     "text": [
      "['H', 'i', ' ', 'H', 'a', 'm', 'l', 'e', 't', ',', ' ', 'h', 'o', 'w', ' ', 'a', 'r', 'e', ' ', 'y', 'o', 'u', '?']\n"
     ]
    }
   ],
   "source": [
    "print(list(line))"
   ]
  },
  {
   "cell_type": "code",
   "execution_count": 275,
   "id": "a32b486f-825a-4760-851a-5489463c9158",
   "metadata": {},
   "outputs": [
    {
     "name": "stdout",
     "output_type": "stream",
     "text": [
      "['h', 'i', ' ', 'h', 'a', 'm', 'l', 'e', 't', ' ', 'h', 'o', 'w', ' ', 'a', 'r', 'e', ' ', 'y', 'o', 'u']\n"
     ]
    }
   ],
   "source": [
    "print([char for char in line.lower()\n",
    "               if char not in ',?'])"
   ]
  },
  {
   "cell_type": "code",
   "execution_count": 277,
   "id": "f9dc5244-b5ca-4df4-b6ae-f8f4f772a7ac",
   "metadata": {},
   "outputs": [],
   "source": [
    "import string"
   ]
  },
  {
   "cell_type": "code",
   "execution_count": 278,
   "id": "33b55393-0acc-49b7-b295-38d4a13709c2",
   "metadata": {},
   "outputs": [
    {
     "data": {
      "text/plain": [
       "['Formatter',\n",
       " 'Template',\n",
       " '_ChainMap',\n",
       " '__all__',\n",
       " '__builtins__',\n",
       " '__cached__',\n",
       " '__doc__',\n",
       " '__file__',\n",
       " '__loader__',\n",
       " '__name__',\n",
       " '__package__',\n",
       " '__spec__',\n",
       " '_re',\n",
       " '_sentinel_dict',\n",
       " '_string',\n",
       " 'ascii_letters',\n",
       " 'ascii_lowercase',\n",
       " 'ascii_uppercase',\n",
       " 'capwords',\n",
       " 'digits',\n",
       " 'hexdigits',\n",
       " 'octdigits',\n",
       " 'printable',\n",
       " 'punctuation',\n",
       " 'whitespace']"
      ]
     },
     "execution_count": 278,
     "metadata": {},
     "output_type": "execute_result"
    }
   ],
   "source": [
    "dir(string)"
   ]
  },
  {
   "cell_type": "code",
   "execution_count": 279,
   "id": "5d600967-8517-400e-a426-4ceaf21150fd",
   "metadata": {},
   "outputs": [
    {
     "data": {
      "text/plain": [
       "'abcdefghijklmnopqrstuvwxyz'"
      ]
     },
     "execution_count": 279,
     "metadata": {},
     "output_type": "execute_result"
    }
   ],
   "source": [
    "string.ascii_lowercase"
   ]
  },
  {
   "cell_type": "code",
   "execution_count": 280,
   "id": "e4b4cf99-1783-4444-a430-5a46376b594d",
   "metadata": {},
   "outputs": [
    {
     "data": {
      "text/plain": [
       "'ABCDEFGHIJKLMNOPQRSTUVWXYZ'"
      ]
     },
     "execution_count": 280,
     "metadata": {},
     "output_type": "execute_result"
    }
   ],
   "source": [
    "string.ascii_uppercase"
   ]
  },
  {
   "cell_type": "code",
   "execution_count": 281,
   "id": "f61936e3-af62-415c-abc5-36f73e5359e2",
   "metadata": {},
   "outputs": [
    {
     "data": {
      "text/plain": [
       "'!\"#$%&\\'()*+,-./:;<=>?@[\\\\]^_`{|}~'"
      ]
     },
     "execution_count": 281,
     "metadata": {},
     "output_type": "execute_result"
    }
   ],
   "source": [
    "string.punctuation"
   ]
  },
  {
   "cell_type": "code",
   "execution_count": 284,
   "id": "e75b48e4-2982-4218-a4f8-466969d53db2",
   "metadata": {},
   "outputs": [],
   "source": [
    "line = 'Hi Hamlet, how are you?'"
   ]
  },
  {
   "cell_type": "code",
   "execution_count": 285,
   "id": "7e626fe0-5116-4bc3-ab47-ab13e3d0e3be",
   "metadata": {},
   "outputs": [
    {
     "name": "stdout",
     "output_type": "stream",
     "text": [
      "hi hamlet how are you\n"
     ]
    }
   ],
   "source": [
    "print(''.join([char for char in line.lower()\n",
    "               if char not in string.punctuation]))"
   ]
  },
  {
   "cell_type": "code",
   "execution_count": 289,
   "id": "510486f8-d1bd-47f3-8d1b-b448aec979e9",
   "metadata": {},
   "outputs": [
    {
     "name": "stdin",
     "output_type": "stream",
     "text": [
      "Enter a filename:  hamlet.txt\n"
     ]
    },
    {
     "name": "stdout",
     "output_type": "stream",
     "text": [
      "the 1142\n",
      "and 964\n",
      "to 737\n",
      "of 669\n",
      "i 567\n",
      "you 546\n",
      "a 531\n",
      "my 513\n",
      "hamlet 463\n",
      "in 436\n",
      "it 416\n",
      "that 389\n",
      "is 340\n",
      "not 313\n",
      "lord 310\n",
      "his 296\n",
      "this 296\n",
      "but 270\n",
      "with 267\n",
      "for 248\n",
      "your 242\n",
      "me 233\n",
      "be 226\n",
      "as 221\n",
      "he 216\n",
      "what 204\n",
      "him 197\n",
      "king 194\n",
      "so 194\n",
      "have 179\n",
      "will 169\n",
      "horatio 157\n",
      "do 151\n",
      "no 142\n",
      "we 140\n",
      "are 131\n",
      "on 126\n",
      "o 122\n",
      "all 120\n",
      "claudius 120\n",
      "polonius 119\n",
      "our 118\n",
      "queen 118\n",
      "by 117\n",
      "shall 114\n",
      "if 113\n",
      "or 112\n",
      "good 109\n",
      "come 106\n",
      "laertes 105\n",
      "thou 103\n",
      "they 103\n"
     ]
    }
   ],
   "source": [
    "import string\n",
    "filename = input('Enter a filename: ') # 1\n",
    "wordcounts = {} # 2\n",
    "\n",
    "with open(filename) as infile: # 3\n",
    "    for line in infile: # 4: use Python's natural iteration to read the file one line at a time\n",
    "        # the line we got has punctuation which we don't want\n",
    "        # so we will \"explode it\" into a list of chars, dropping out punctuation along the way\n",
    "        # and then join it back into a single string\n",
    "        line = ''.join([char for char in line.lower()\n",
    "                                if char not in string.punctuation])\n",
    "        for word in line.split(): # 5: process each word individually\n",
    "            if word in wordcounts: # 6: we have seen it before\n",
    "                wordcounts[word] += 1 # increment the count, indicating we've seen it one more time\n",
    "            else:\n",
    "                wordcounts[word] = 1\n",
    "                \n",
    "for word in sorted(wordcounts, key=wordcounts.get, reverse=True):\n",
    "    if wordcounts[word] < 100: # stop when start seeing words that appeared < 100 times\n",
    "        break\n",
    "    print(word, wordcounts[word])"
   ]
  },
  {
   "cell_type": "code",
   "execution_count": 290,
   "id": "14c6fc9f-db6b-4859-8eae-f0d9b5540fbb",
   "metadata": {},
   "outputs": [
    {
     "data": {
      "text/plain": [
       "[1, 2, 3]"
      ]
     },
     "execution_count": 290,
     "metadata": {},
     "output_type": "execute_result"
    }
   ],
   "source": [
    "sorted([1, 3, 2])"
   ]
  },
  {
   "cell_type": "code",
   "execution_count": 291,
   "id": "1e325988-84f6-41c5-ac2f-344beb9ab89c",
   "metadata": {},
   "outputs": [
    {
     "data": {
      "text/plain": [
       "[1, 2, 3]"
      ]
     },
     "execution_count": 291,
     "metadata": {},
     "output_type": "execute_result"
    }
   ],
   "source": [
    "sorted((1, 3, 2))"
   ]
  },
  {
   "cell_type": "code",
   "execution_count": 292,
   "id": "24750ee4-09f2-4e0b-900b-bb40fd162c2f",
   "metadata": {},
   "outputs": [
    {
     "data": {
      "text/plain": [
       "['four', 'one']"
      ]
     },
     "execution_count": 292,
     "metadata": {},
     "output_type": "execute_result"
    }
   ],
   "source": [
    "sorted({ 'one': 1, 'four': 4 })"
   ]
  },
  {
   "cell_type": "code",
   "execution_count": 293,
   "id": "a63a03c5-def1-4c83-bb1e-c61e3bccc0f9",
   "metadata": {},
   "outputs": [
    {
     "data": {
      "text/plain": [
       "['one', 'three', 'two']"
      ]
     },
     "execution_count": 293,
     "metadata": {},
     "output_type": "execute_result"
    }
   ],
   "source": [
    "sorted({'one', 'two', 'three'})"
   ]
  },
  {
   "cell_type": "code",
   "execution_count": 294,
   "id": "3ea32fe4-ce60-45b8-a1bd-6de926e29720",
   "metadata": {},
   "outputs": [
    {
     "data": {
      "text/plain": [
       "['a', 'a', 'b', 'b', 'h', 'h', 'l', 'l']"
      ]
     },
     "execution_count": 294,
     "metadata": {},
     "output_type": "execute_result"
    }
   ],
   "source": [
    "sorted('blahblah')"
   ]
  },
  {
   "cell_type": "code",
   "execution_count": 295,
   "id": "d1b64899-a7fa-46d2-9ec1-0a389c747b4b",
   "metadata": {},
   "outputs": [
    {
     "ename": "TypeError",
     "evalue": "'bool' object is not iterable",
     "output_type": "error",
     "traceback": [
      "\u001b[0;31m---------------------------------------------------------------------------\u001b[0m",
      "\u001b[0;31mTypeError\u001b[0m                                 Traceback (most recent call last)",
      "Input \u001b[0;32mIn [295]\u001b[0m, in \u001b[0;36m<cell line: 1>\u001b[0;34m()\u001b[0m\n\u001b[0;32m----> 1\u001b[0m \u001b[38;5;28;43msorted\u001b[39;49m\u001b[43m(\u001b[49m\u001b[38;5;28;43;01mTrue\u001b[39;49;00m\u001b[43m)\u001b[49m\n",
      "\u001b[0;31mTypeError\u001b[0m: 'bool' object is not iterable"
     ]
    }
   ],
   "source": [
    "sorted(True)"
   ]
  },
  {
   "cell_type": "code",
   "execution_count": 297,
   "id": "00ab22fd-480f-4166-af84-c1f0afbc363f",
   "metadata": {},
   "outputs": [],
   "source": [
    "# sorted does not expect a certain type, it expects something iterable (container)\n",
    "# sorted() is duck typed"
   ]
  },
  {
   "cell_type": "code",
   "execution_count": 299,
   "id": "2ab978ba-0942-44bb-9b13-0c746a61996a",
   "metadata": {},
   "outputs": [],
   "source": [
    "# let's write a duck-typed function\n",
    "# that expects an iterable object passed to it\n",
    "def iterate(iterable):\n",
    "    for thing in iterable:\n",
    "        print(thing) # print each item in the iterable"
   ]
  },
  {
   "cell_type": "code",
   "execution_count": 301,
   "id": "1a314296-8f1c-4cad-a037-64505eaf2a31",
   "metadata": {},
   "outputs": [
    {
     "data": {
      "text/plain": [
       "(function, 140380217973056)"
      ]
     },
     "execution_count": 301,
     "metadata": {},
     "output_type": "execute_result"
    }
   ],
   "source": [
    "type(iterate), id(iterate)"
   ]
  },
  {
   "cell_type": "code",
   "execution_count": 302,
   "id": "84e8574a-f8a6-46eb-8288-bf9c3bee8e23",
   "metadata": {},
   "outputs": [
    {
     "name": "stdout",
     "output_type": "stream",
     "text": [
      "T\n",
      "u\n",
      "a\n",
      "n\n"
     ]
    }
   ],
   "source": [
    "iterate('Tuan')"
   ]
  },
  {
   "cell_type": "code",
   "execution_count": 303,
   "id": "3b654ecf-3963-4f20-a85f-7d1f9262efee",
   "metadata": {},
   "outputs": [
    {
     "name": "stdout",
     "output_type": "stream",
     "text": [
      "1\n",
      "2\n",
      "3\n",
      "4\n"
     ]
    }
   ],
   "source": [
    "iterate([1, 2, 3, 4])"
   ]
  },
  {
   "cell_type": "code",
   "execution_count": 304,
   "id": "32e2c6d7-b5f3-4893-ae7b-b3605b0fb035",
   "metadata": {},
   "outputs": [
    {
     "name": "stdout",
     "output_type": "stream",
     "text": [
      "1\n",
      "2\n",
      "3\n",
      "4\n"
     ]
    }
   ],
   "source": [
    "iterate((1, 2, 3, 4))"
   ]
  },
  {
   "cell_type": "code",
   "execution_count": 305,
   "id": "d9e1d02b-6648-468f-8b2c-d263c0647e5b",
   "metadata": {},
   "outputs": [
    {
     "ename": "TypeError",
     "evalue": "'int' object is not iterable",
     "output_type": "error",
     "traceback": [
      "\u001b[0;31m---------------------------------------------------------------------------\u001b[0m",
      "\u001b[0;31mTypeError\u001b[0m                                 Traceback (most recent call last)",
      "Input \u001b[0;32mIn [305]\u001b[0m, in \u001b[0;36m<cell line: 1>\u001b[0;34m()\u001b[0m\n\u001b[0;32m----> 1\u001b[0m \u001b[43miterate\u001b[49m\u001b[43m(\u001b[49m\u001b[38;5;241;43m1\u001b[39;49m\u001b[43m)\u001b[49m\n",
      "Input \u001b[0;32mIn [299]\u001b[0m, in \u001b[0;36miterate\u001b[0;34m(iterable)\u001b[0m\n\u001b[1;32m      3\u001b[0m \u001b[38;5;28;01mdef\u001b[39;00m \u001b[38;5;21miterate\u001b[39m(iterable):\n\u001b[0;32m----> 4\u001b[0m     \u001b[38;5;28;01mfor\u001b[39;00m thing \u001b[38;5;129;01min\u001b[39;00m iterable:\n\u001b[1;32m      5\u001b[0m         \u001b[38;5;28mprint\u001b[39m(thing)\n",
      "\u001b[0;31mTypeError\u001b[0m: 'int' object is not iterable"
     ]
    }
   ],
   "source": [
    "iterate(1)"
   ]
  },
  {
   "cell_type": "code",
   "execution_count": null,
   "id": "4bf6c91a-d815-4822-badc-5ceacf0ec0ba",
   "metadata": {},
   "outputs": [],
   "source": []
  }
 ],
 "metadata": {
  "kernelspec": {
   "display_name": "Python 3 (ipykernel)",
   "language": "python",
   "name": "python3"
  },
  "language_info": {
   "codemirror_mode": {
    "name": "ipython",
    "version": 3
   },
   "file_extension": ".py",
   "mimetype": "text/x-python",
   "name": "python",
   "nbconvert_exporter": "python",
   "pygments_lexer": "ipython3",
   "version": "3.9.12"
  }
 },
 "nbformat": 4,
 "nbformat_minor": 5
}
